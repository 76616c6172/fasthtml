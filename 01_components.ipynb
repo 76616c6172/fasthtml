{
 "cells": [
  {
   "cell_type": "code",
   "execution_count": 1,
   "id": "56db45b6",
   "metadata": {},
   "outputs": [],
   "source": [
    "#| default_exp components"
   ]
  },
  {
   "cell_type": "markdown",
   "id": "80f4f9d8",
   "metadata": {},
   "source": [
    "# Components"
   ]
  },
  {
   "cell_type": "code",
   "execution_count": 2,
   "id": "8e2d405b",
   "metadata": {},
   "outputs": [],
   "source": [
    "#| export\n",
    "from fastcore.utils import *\n",
    "from fastcore.xml import *\n",
    "from fastcore.meta import use_kwargs, delegates\n",
    "\n",
    "from dataclasses import dataclass, asdict"
   ]
  },
  {
   "cell_type": "code",
   "execution_count": 3,
   "id": "6c3dcdbc",
   "metadata": {},
   "outputs": [],
   "source": [
    "from pprint import pprint\n",
    "from IPython import display"
   ]
  },
  {
   "cell_type": "code",
   "execution_count": 4,
   "id": "ede9b44d",
   "metadata": {},
   "outputs": [],
   "source": [
    "#| export\n",
    "named = set('a button form frame iframe img input map meta object param select textarea'.split())\n",
    "html_attrs = 'id cls title style'.split()\n",
    "hx_attrs = 'get post put delete patch trigger target swap include select indicator push_url confirm disable replace_url on'\n",
    "hx_attrs = html_attrs + [f'hx_{o}' for o in hx_attrs.split()]"
   ]
  },
  {
   "cell_type": "code",
   "execution_count": 5,
   "id": "b0a13a5e",
   "metadata": {},
   "outputs": [],
   "source": [
    "#| export\n",
    "@use_kwargs(html_attrs, keep=True)\n",
    "def xt_html(tag: str, *c, **kwargs):\n",
    "    tag,c,kw = xt(tag, *c, **kwargs)\n",
    "    if tag in named and 'id' in kw and 'name' not in kw: kw['name'] = kw['id']\n",
    "    return XT([tag,c,kw])"
   ]
  },
  {
   "cell_type": "code",
   "execution_count": 6,
   "id": "80ee4b38",
   "metadata": {},
   "outputs": [],
   "source": [
    "#| export\n",
    "@use_kwargs(hx_attrs, keep=True)\n",
    "def xt_hx(tag: str, *c, target_id=None, **kwargs):\n",
    "    if target_id: kwargs['hx_target'] = '#'+target_id\n",
    "    return xt(tag, *c, **kwargs)"
   ]
  },
  {
   "cell_type": "code",
   "execution_count": 7,
   "id": "b1f707a6",
   "metadata": {},
   "outputs": [],
   "source": [
    "#| export\n",
    "_g = globals()\n",
    "_all_ = ['Html', 'Head', 'Title', 'Meta', 'Link', 'Style', 'Body', 'Pre', 'Code',\n",
    "    'Div', 'Span', 'P', 'H1', 'H2', 'H3', 'H4', 'H5', 'H6', 'Strong', 'Em', 'B',\n",
    "    'I', 'U', 'S', 'Strike', 'Sub', 'Sup', 'Hr', 'Br', 'Img', 'Link', 'Nav',\n",
    "    'Ul', 'Ol', 'Li', 'Dl', 'Dt', 'Dd', 'Table', 'Thead', 'Tbody', 'Tfoot', 'Tr',\n",
    "    'Th', 'Td', 'Caption', 'Col', 'Colgroup', 'Form', 'Input', 'Textarea',\n",
    "    'Button', 'Select', 'Option', 'Label', 'Fieldset', 'Legend', 'Details', 'Dialog',\n",
    "    'Summary', 'Main', 'Header', 'Footer', 'Section', 'Article', 'Aside', 'Figure',\n",
    "    'Figcaption', 'Mark', 'Small', 'Iframe', 'Object', 'Embed', 'Param', 'Video',\n",
    "    'Audio', 'Source', 'Canvas', 'Svg', 'Math', 'Script', 'Noscript', 'Template', 'Slot']\n",
    "\n",
    "for o in _all_: _g[o] = partial(xt_hx, o.lower())"
   ]
  },
  {
   "cell_type": "code",
   "execution_count": 8,
   "id": "0d4c7864",
   "metadata": {},
   "outputs": [],
   "source": [
    "def show_html(xt): return display.HTML(to_xml(xt))"
   ]
  },
  {
   "cell_type": "code",
   "execution_count": 9,
   "id": "ed176c92",
   "metadata": {},
   "outputs": [],
   "source": [
    "#| export\n",
    "picocss = \"https://cdn.jsdelivr.net/npm/@picocss/pico@latest/css/pico.min.css\"\n",
    "picolink = Link(rel=\"stylesheet\", href=picocss)"
   ]
  },
  {
   "cell_type": "code",
   "execution_count": 10,
   "id": "2a8f410f",
   "metadata": {},
   "outputs": [],
   "source": [
    "# Uncomment this and view in a notebook to see how these actually render with picocss\n",
    "# show_html(picolink)"
   ]
  },
  {
   "cell_type": "markdown",
   "id": "1b030be9",
   "metadata": {},
   "source": [
    "For tags that have a `name` attribute, it will be set to the value of `id` if not provided explicitly:"
   ]
  },
  {
   "cell_type": "code",
   "execution_count": 11,
   "id": "ecbcfa18",
   "metadata": {},
   "outputs": [
    {
     "data": {
      "text/markdown": [
       "```html\n",
       "<form hx-post=\"/\" id=\"frm\" hx-target=\"#tgt\">\n",
       "  <button id=\"btn\" hx-target=\"#foo\"></button>\n",
       "</form>\n",
       "\n",
       "```"
      ],
      "text/plain": [
       "['form',\n",
       " (['button', (), {'id': 'btn', 'hx-target': '#foo'}],),\n",
       " {'hx-post': '/', 'id': 'frm', 'hx-target': '#tgt'}]"
      ]
     },
     "execution_count": 11,
     "metadata": {},
     "output_type": "execute_result"
    }
   ],
   "source": [
    "Form(Button(target_id='foo', id='btn'),\n",
    "     hx_post='/', target_id='tgt', id='frm')"
   ]
  },
  {
   "cell_type": "code",
   "execution_count": 12,
   "id": "8aebeecc",
   "metadata": {},
   "outputs": [],
   "source": [
    "#| export\n",
    "@delegates(xt_hx, keep=True)\n",
    "def A(*c, hx_get=None, target_id=None, hx_swap=None, href='#', **kwargs):\n",
    "    return xt_hx('a', *c, href=href, hx_get=hx_get, target_id=target_id, hx_swap=hx_swap, **kwargs)"
   ]
  },
  {
   "cell_type": "code",
   "execution_count": 13,
   "id": "53efcd61",
   "metadata": {},
   "outputs": [
    {
     "data": {
      "text/markdown": [
       "```html\n",
       "<a href=\"#\" ht-get=\"/get\" hx-target=\"#id\">\n",
       "text\n",
       "</a>\n",
       "\n",
       "```"
      ],
      "text/plain": [
       "['a', ('text',), {'href': '#', 'ht-get': '/get', 'hx-target': '#id'}]"
      ]
     },
     "execution_count": 13,
     "metadata": {},
     "output_type": "execute_result"
    }
   ],
   "source": [
    "A('text', ht_get='/get', target_id='id')"
   ]
  },
  {
   "cell_type": "code",
   "execution_count": 14,
   "id": "3f0bd0fa",
   "metadata": {},
   "outputs": [],
   "source": [
    "#| export\n",
    "@delegates(xt_hx, keep=True)\n",
    "def AX(txt, hx_get=None, target_id=None, hx_swap=None, href='#', **kwargs):\n",
    "    return xt_hx('a', txt, href=href, hx_get=hx_get, target_id=target_id, hx_swap=hx_swap, **kwargs)"
   ]
  },
  {
   "cell_type": "code",
   "execution_count": 15,
   "id": "2531e3fc",
   "metadata": {},
   "outputs": [
    {
     "data": {
      "text/markdown": [
       "```html\n",
       "<a href=\"#\" hx-get=\"/get\" hx-target=\"#id\">\n",
       "text\n",
       "</a>\n",
       "\n",
       "```"
      ],
      "text/plain": [
       "['a', ('text',), {'href': '#', 'hx-get': '/get', 'hx-target': '#id'}]"
      ]
     },
     "execution_count": 15,
     "metadata": {},
     "output_type": "execute_result"
    }
   ],
   "source": [
    "AX('text', '/get', 'id')"
   ]
  },
  {
   "cell_type": "code",
   "execution_count": 19,
   "id": "430aa9d9",
   "metadata": {},
   "outputs": [],
   "source": [
    "#| export\n",
    "@delegates(xt_hx, keep=True)\n",
    "def Checkbox(checked:bool=False, label=None, **kwargs):\n",
    "    if not checked: checked=None\n",
    "    res = Input(type=\"checkbox\", checked=checked, **kwargs)\n",
    "    if label: res = Label(res, label)\n",
    "    return res"
   ]
  },
  {
   "cell_type": "code",
   "execution_count": 20,
   "id": "3d9e3af6",
   "metadata": {},
   "outputs": [
    {
     "data": {
      "text/html": [
       "<label>\n",
       "  <input type=\"checkbox\" checked=\"True\">\n",
       "Check me out!\n",
       "</label>\n"
      ],
      "text/plain": [
       "<IPython.core.display.HTML object>"
      ]
     },
     "execution_count": 20,
     "metadata": {},
     "output_type": "execute_result"
    }
   ],
   "source": [
    "show_html(Checkbox(True, 'Check me out!'))"
   ]
  },
  {
   "cell_type": "code",
   "execution_count": 21,
   "id": "ad99a758",
   "metadata": {},
   "outputs": [],
   "source": [
    "#| export\n",
    "@delegates(xt_hx, keep=True)\n",
    "def Card(*c, header=None, footer=None, **kwargs):\n",
    "    if header: c = (Header(header),) + c\n",
    "    if footer: c += (Footer(footer),)\n",
    "    return Article(*c, **kwargs)"
   ]
  },
  {
   "cell_type": "code",
   "execution_count": 22,
   "id": "d74cd6e3",
   "metadata": {},
   "outputs": [
    {
     "data": {
      "text/html": [
       "<article>\n",
       "  <header>\n",
       "    <p>\n",
       "head\n",
       "    </p>\n",
       "  </header>\n",
       "body\n",
       "  <footer>\n",
       "    <p>\n",
       "foot\n",
       "    </p>\n",
       "  </footer>\n",
       "</article>\n"
      ],
      "text/plain": [
       "<IPython.core.display.HTML object>"
      ]
     },
     "execution_count": 22,
     "metadata": {},
     "output_type": "execute_result"
    }
   ],
   "source": [
    "show_html(Card('body', header=P('head'), footer=P('foot')))"
   ]
  },
  {
   "cell_type": "code",
   "execution_count": 23,
   "id": "6108b84c",
   "metadata": {},
   "outputs": [],
   "source": [
    "#| export\n",
    "@delegates(xt_hx, keep=True)\n",
    "def Group(*c, **kwargs):\n",
    "    return Fieldset(*c, role=\"group\", **kwargs)"
   ]
  },
  {
   "cell_type": "code",
   "execution_count": 24,
   "id": "af029bf2",
   "metadata": {},
   "outputs": [
    {
     "data": {
      "text/html": [
       "<fieldset role=\"group\">\n",
       "  <input>\n",
       "  <button>\n",
       "Save\n",
       "  </button>\n",
       "</fieldset>\n"
      ],
      "text/plain": [
       "<IPython.core.display.HTML object>"
      ]
     },
     "execution_count": 24,
     "metadata": {},
     "output_type": "execute_result"
    }
   ],
   "source": [
    "show_html(Group(Input(), Button(\"Save\")))"
   ]
  },
  {
   "cell_type": "code",
   "execution_count": 25,
   "id": "e12b6a7c",
   "metadata": {},
   "outputs": [],
   "source": [
    "#| export\n",
    "@delegates(xt_hx, keep=True)\n",
    "def Search(*c, **kwargs):\n",
    "    return Form(*c, role=\"search\", **kwargs)"
   ]
  },
  {
   "cell_type": "code",
   "execution_count": 26,
   "id": "a9c38825",
   "metadata": {},
   "outputs": [
    {
     "data": {
      "text/html": [
       "<form role=\"search\">\n",
       "  <input type=\"search\">\n",
       "  <button>\n",
       "Search\n",
       "  </button>\n",
       "</form>\n"
      ],
      "text/plain": [
       "<IPython.core.display.HTML object>"
      ]
     },
     "execution_count": 26,
     "metadata": {},
     "output_type": "execute_result"
    }
   ],
   "source": [
    "show_html(Search(Input(type=\"search\"), Button(\"Search\")))"
   ]
  },
  {
   "cell_type": "code",
   "execution_count": 27,
   "id": "24c4843f",
   "metadata": {},
   "outputs": [],
   "source": [
    "#| export\n",
    "@delegates(xt_hx, keep=True)\n",
    "def Grid(*c, cls='grid', **kwargs):\n",
    "    c = tuple(o if isinstance(o,list) else Div(o) for o in c)\n",
    "    return xt_hx('div', *c, cls=cls, **kwargs)"
   ]
  },
  {
   "cell_type": "code",
   "execution_count": 28,
   "id": "0f13c619",
   "metadata": {},
   "outputs": [
    {
     "data": {
      "text/html": [
       "<div class=\"grid\">\n",
       "  <input type=\"color\" value=\"#e66465\">\n",
       "  <input type=\"color\" value=\"#53d2c5\">\n",
       "  <input type=\"color\" value=\"#f6b73c\">\n",
       "</div>\n"
      ],
      "text/plain": [
       "<IPython.core.display.HTML object>"
      ]
     },
     "execution_count": 28,
     "metadata": {},
     "output_type": "execute_result"
    }
   ],
   "source": [
    "colors = [Input(type=\"color\", value=o) for o in ('#e66465', '#53d2c5', '#f6b73c')]\n",
    "show_html(Grid(*colors))"
   ]
  },
  {
   "cell_type": "code",
   "execution_count": 29,
   "id": "252a9f5f",
   "metadata": {},
   "outputs": [],
   "source": [
    "#| export\n",
    "@delegates(xt_hx, keep=True)\n",
    "def DialogX(*c, open=None, header=None, footer=None, id=None, **kwargs):\n",
    "    card = Card(*c, header=header, footer=footer, **kwargs)\n",
    "    return Dialog(card, open=open, id=id)"
   ]
  },
  {
   "cell_type": "code",
   "execution_count": 30,
   "id": "9dccbc6a",
   "metadata": {},
   "outputs": [],
   "source": [
    "hdr = Div(Button(aria_label=\"Close\", rel=\"prev\"), P('confirm'))\n",
    "ftr = Div(Button('Cancel', cls=\"secondary\"), Button('Confirm'))\n",
    "d = DialogX('thank you!', header=hdr, footer=ftr, open=None, id='dlgtest')\n",
    "# use js or htmx to display modal"
   ]
  },
  {
   "cell_type": "code",
   "execution_count": 32,
   "id": "461bcf58",
   "metadata": {},
   "outputs": [],
   "source": [
    "#| export\n",
    "@delegates(xt_hx, keep=True)\n",
    "def Hidden(value:str=\"\", **kwargs):\n",
    "    return Input(type=\"hidden\", value=value, **kwargs)"
   ]
  },
  {
   "cell_type": "code",
   "execution_count": 33,
   "id": "0e5a0e2e",
   "metadata": {},
   "outputs": [],
   "source": [
    "#| export\n",
    "def set_val(tag, attr, val):\n",
    "    if attr.get('type', '') in ('checkbox','radio'):\n",
    "        if val: attr['checked'] = '1'\n",
    "        else: attr.pop('checked', '')\n",
    "    else: attr['value'] = val"
   ]
  },
  {
   "cell_type": "code",
   "execution_count": 34,
   "id": "60172692",
   "metadata": {},
   "outputs": [],
   "source": [
    "#| export\n",
    "def find_inps(html):\n",
    "    if not html: return []\n",
    "    tag,cs,attrs = html\n",
    "    if tag == 'input': return [html]\n",
    "    res = []\n",
    "    for c in cs:\n",
    "        if isinstance(c, list): res.extend(find_inps(c))\n",
    "    return res"
   ]
  },
  {
   "cell_type": "code",
   "execution_count": 35,
   "id": "f0c83f26",
   "metadata": {},
   "outputs": [],
   "source": [
    "#| export\n",
    "def fill_form(form, obj):\n",
    "    \"Modifies form in-place and returns it\"\n",
    "    inps = find_inps(form)\n",
    "    inps = {attrs['id']:(tag,attrs) for tag,c,attrs in inps if 'id' in attrs}\n",
    "    for nm,val in asdict(obj).items():\n",
    "        if nm in inps:\n",
    "            tag,attr = inps[nm]\n",
    "            set_val(tag, attr, val)\n",
    "    return form"
   ]
  },
  {
   "cell_type": "code",
   "execution_count": 39,
   "id": "caef04d9",
   "metadata": {},
   "outputs": [
    {
     "data": {
      "text/markdown": [
       "```html\n",
       "<form>\n",
       "  <fieldset>\n",
       "    <input id=\"title\" value=\"Profit\">\n",
       "    <label>\n",
       "      <input type=\"checkbox\" id=\"done\" checked=\"1\">\n",
       "Done\n",
       "    </label>\n",
       "    <input type=\"hidden\" value=\"2\" id=\"id\">\n",
       "    <button>\n",
       "Save\n",
       "    </button>\n",
       "  </fieldset>\n",
       "</form>\n",
       "\n",
       "```"
      ],
      "text/plain": [
       "['form',\n",
       " (['fieldset',\n",
       "   (['input', (), {'id': 'title', 'value': 'Profit'}],\n",
       "    ['label',\n",
       "     (['input', (), {'type': 'checkbox', 'id': 'done', 'checked': '1'}],\n",
       "      'Done'),\n",
       "     {}],\n",
       "    ['input', (), {'type': 'hidden', 'value': 2, 'id': 'id'}],\n",
       "    ['button', ('Save',), {}]),\n",
       "   {}],),\n",
       " {}]"
      ]
     },
     "execution_count": 39,
     "metadata": {},
     "output_type": "execute_result"
    }
   ],
   "source": [
    "@dataclass\n",
    "class TodoItem:\n",
    "    title:str; id:int; done:bool\n",
    "                \n",
    "todo = TodoItem(id=2, title=\"Profit\", done=True)\n",
    "check = Checkbox(id=\"done\", label='Done')\n",
    "form = Form(Fieldset(Input(id=\"title\"), check, Hidden(id=\"id\"), Button(\"Save\")))\n",
    "fill_form(form, todo)"
   ]
  },
  {
   "cell_type": "code",
   "execution_count": 40,
   "id": "8b171490",
   "metadata": {},
   "outputs": [],
   "source": [
    "#|export\n",
    "def fill_dataclass(src, dest):\n",
    "    \"Modifies dataclass in-place and returns it\"\n",
    "    for nm,val in asdict(src).items(): setattr(dest, nm, val)\n",
    "    return dest"
   ]
  },
  {
   "cell_type": "code",
   "execution_count": 41,
   "id": "77e3f785",
   "metadata": {},
   "outputs": [
    {
     "data": {
      "text/plain": [
       "TodoItem(title='Profit', id=2, done=True)"
      ]
     },
     "execution_count": 41,
     "metadata": {},
     "output_type": "execute_result"
    }
   ],
   "source": [
    "nt = TodoItem('', 0, False)\n",
    "fill_dataclass(todo, nt)\n",
    "nt"
   ]
  },
  {
   "cell_type": "markdown",
   "id": "474e14b4",
   "metadata": {},
   "source": [
    "# Export -"
   ]
  },
  {
   "cell_type": "code",
   "execution_count": 42,
   "id": "d211e8e2",
   "metadata": {},
   "outputs": [],
   "source": [
    "#|hide\n",
    "import nbdev; nbdev.nbdev_export()"
   ]
  },
  {
   "cell_type": "code",
   "execution_count": null,
   "id": "0a942593",
   "metadata": {},
   "outputs": [],
   "source": []
  }
 ],
 "metadata": {
  "kernelspec": {
   "display_name": "Python 3 (ipykernel)",
   "language": "python",
   "name": "python3"
  },
  "language_info": {
   "codemirror_mode": {
    "name": "ipython",
    "version": 3
   },
   "file_extension": ".py",
   "mimetype": "text/x-python",
   "name": "python",
   "nbconvert_exporter": "python",
   "pygments_lexer": "ipython3",
   "version": "3.11.8"
  }
 },
 "nbformat": 4,
 "nbformat_minor": 5
}
