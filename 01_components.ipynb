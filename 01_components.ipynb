{
 "cells": [
  {
   "cell_type": "code",
   "execution_count": 71,
   "id": "56db45b6",
   "metadata": {},
   "outputs": [],
   "source": [
    "#| default_exp components"
   ]
  },
  {
   "cell_type": "markdown",
   "id": "80f4f9d8",
   "metadata": {},
   "source": [
    "# Components"
   ]
  },
  {
   "cell_type": "code",
   "execution_count": 72,
   "id": "8e2d405b",
   "metadata": {},
   "outputs": [],
   "source": [
    "#| export\n",
    "from fastcore.xml import *\n",
    "from dataclasses import dataclass, asdict"
   ]
  },
  {
   "cell_type": "code",
   "execution_count": 73,
   "id": "6c3dcdbc",
   "metadata": {},
   "outputs": [],
   "source": [
    "from pprint import pprint\n",
    "from IPython import display"
   ]
  },
  {
   "cell_type": "code",
   "execution_count": 74,
   "id": "430aa9d9",
   "metadata": {},
   "outputs": [],
   "source": [
    "#| export\n",
    "def Checkbox(checked:bool=False, label=None, **kw):\n",
    "    if not checked: checked=None\n",
    "    res = Input(type=\"checkbox\", checked=checked, **kw)\n",
    "    if label: res = Label(res, label)\n",
    "    return res"
   ]
  },
  {
   "cell_type": "code",
   "execution_count": 75,
   "id": "2d089687",
   "metadata": {},
   "outputs": [],
   "source": [
    "def show_html(xt): return display.HTML(to_xml(xt))"
   ]
  },
  {
   "cell_type": "code",
   "execution_count": 76,
   "id": "3d9e3af6",
   "metadata": {},
   "outputs": [
    {
     "data": {
      "text/html": [
       "<label>\n",
       "  <input type=\"checkbox\" checked=\"True\">\n",
       "Check me out!\n",
       "</label>\n"
      ],
      "text/plain": [
       "<IPython.core.display.HTML object>"
      ]
     },
     "execution_count": 76,
     "metadata": {},
     "output_type": "execute_result"
    }
   ],
   "source": [
    "show_html(Checkbox(True, 'Check me out!'))"
   ]
  },
  {
   "cell_type": "code",
   "execution_count": 77,
   "id": "461bcf58",
   "metadata": {},
   "outputs": [],
   "source": [
    "#| export\n",
    "def Hidden(value:str=\"\", **kw):\n",
    "    return Input(type=\"hidden\", value=value, **kw)"
   ]
  },
  {
   "cell_type": "code",
   "execution_count": 80,
   "id": "eb8a9099",
   "metadata": {},
   "outputs": [],
   "source": [
    "#| export\n",
    "def A(txt, hx_get, target_id=None, hx_swap=None, href='#', **kw):\n",
    "    if target_id: target_id = '#'+target_id\n",
    "    return xt('a', txt, href=href, hx_get=hx_get, hx_target=target_id, hx_swap=hx_swap, **kw)"
   ]
  },
  {
   "cell_type": "code",
   "execution_count": 83,
   "id": "6632a92e",
   "metadata": {},
   "outputs": [
    {
     "data": {
      "text/markdown": [
       "```html\n",
       "<a href=\"#\" hx-get=\"/get\" hx-target=\"#id\" hx-swap=\"None\">\n",
       "text\n",
       "</a>\n",
       "\n",
       "```"
      ],
      "text/plain": [
       "['a',\n",
       " ('text',),\n",
       " {'href': '#', 'hx-get': '/get', 'hx-target': '#id', 'hx-swap': 'None'}]"
      ]
     },
     "execution_count": 83,
     "metadata": {},
     "output_type": "execute_result"
    }
   ],
   "source": [
    "A('text', '/get', 'id')"
   ]
  },
  {
   "cell_type": "code",
   "execution_count": 3,
   "id": "0e5a0e2e",
   "metadata": {},
   "outputs": [],
   "source": [
    "#| export\n",
    "def set_val(tag, attr, val):\n",
    "    if attr.get('type', '') in ('checkbox','radio'):\n",
    "        if val: attr['checked'] = '1'\n",
    "        else: attr.pop('checked', '')\n",
    "    else: attr['value'] = val"
   ]
  },
  {
   "cell_type": "code",
   "execution_count": 46,
   "id": "60172692",
   "metadata": {},
   "outputs": [],
   "source": [
    "#| export\n",
    "def find_inps(html):\n",
    "    if not html: return []\n",
    "    tag,cs,attrs = html\n",
    "    if tag == 'input': return [html]\n",
    "    res = []\n",
    "    for c in cs:\n",
    "        if isinstance(c, list): res.extend(find_inps(c))\n",
    "    return res"
   ]
  },
  {
   "cell_type": "code",
   "execution_count": 48,
   "id": "f0c83f26",
   "metadata": {},
   "outputs": [],
   "source": [
    "#| export\n",
    "def fill_form(form, obj):\n",
    "    \"Modifies form in-place and returns it\"\n",
    "    inps = find_inps(form)\n",
    "    inps = {attrs['id']:(tag,attrs) for tag,c,attrs in inps if 'id' in attrs}\n",
    "    for nm,val in asdict(obj).items():\n",
    "        if nm in inps:\n",
    "            tag,attr = inps[nm]\n",
    "            set_val(tag, attr, val)\n",
    "    return form"
   ]
  },
  {
   "cell_type": "code",
   "execution_count": 50,
   "id": "caef04d9",
   "metadata": {},
   "outputs": [
    {
     "data": {
      "text/markdown": [
       "```html\n",
       "<form>\n",
       "  <fieldset>\n",
       "    <input id=\"title\" name=\"title\" value=\"Profit\">\n",
       "    <label>\n",
       "      <input type=\"checkbox\" id=\"done\" name=\"done\" checked=\"1\">\n",
       "Done\n",
       "    </label>\n",
       "    <input type=\"hidden\" value=\"2\" id=\"id\" name=\"id\">\n",
       "    <button>\n",
       "Save\n",
       "    </button>\n",
       "  </fieldset>\n",
       "</form>\n",
       "\n",
       "```"
      ],
      "text/plain": [
       "['form',\n",
       " (['fieldset',\n",
       "   (['input', (), {'id': 'title', 'name': 'title', 'value': 'Profit'}],\n",
       "    ['label',\n",
       "     (['input',\n",
       "       (),\n",
       "       {'type': 'checkbox', 'id': 'done', 'name': 'done', 'checked': '1'}],\n",
       "      'Done'),\n",
       "     {}],\n",
       "    ['input', (), {'type': 'hidden', 'value': 2, 'id': 'id', 'name': 'id'}],\n",
       "    ['button', ('Save',), {}]),\n",
       "   {}],),\n",
       " {}]"
      ]
     },
     "execution_count": 50,
     "metadata": {},
     "output_type": "execute_result"
    }
   ],
   "source": [
    "@dataclass\n",
    "class TodoItem:\n",
    "    title:str; id:int; done:bool\n",
    "                \n",
    "todo = TodoItem(id=2, title=\"Profit\", done=True)\n",
    "check = Label(Checkbox(id=\"done\"), 'Done')\n",
    "form = Form(Fieldset(Input(id=\"title\"), check, Hidden(id=\"id\"), Button(\"Save\")))\n",
    "fill_form(form, todo)"
   ]
  },
  {
   "cell_type": "code",
   "execution_count": 6,
   "id": "8b171490",
   "metadata": {},
   "outputs": [],
   "source": [
    "#|export\n",
    "def fill_dataclass(src, dest):\n",
    "    \"Modifies dataclass in-place and returns it\"\n",
    "    for nm,val in asdict(src).items(): setattr(dest, nm, val)\n",
    "    return dest"
   ]
  },
  {
   "cell_type": "code",
   "execution_count": 7,
   "id": "77e3f785",
   "metadata": {},
   "outputs": [
    {
     "data": {
      "text/plain": [
       "TodoItem(title='Profit', id=2, done=True)"
      ]
     },
     "execution_count": 7,
     "metadata": {},
     "output_type": "execute_result"
    }
   ],
   "source": [
    "nt = TodoItem('', 0, False)\n",
    "fill_dataclass(todo, nt)\n",
    "nt"
   ]
  },
  {
   "cell_type": "markdown",
   "id": "474e14b4",
   "metadata": {},
   "source": [
    "# Export -"
   ]
  },
  {
   "cell_type": "code",
   "execution_count": 84,
   "id": "d211e8e2",
   "metadata": {},
   "outputs": [],
   "source": [
    "#|hide\n",
    "import nbdev; nbdev.nbdev_export()"
   ]
  },
  {
   "cell_type": "code",
   "execution_count": null,
   "id": "0a942593",
   "metadata": {},
   "outputs": [],
   "source": []
  }
 ],
 "metadata": {
  "kernelspec": {
   "display_name": "Python 3 (ipykernel)",
   "language": "python",
   "name": "python3"
  },
  "language_info": {
   "codemirror_mode": {
    "name": "ipython",
    "version": 3
   },
   "file_extension": ".py",
   "mimetype": "text/x-python",
   "name": "python",
   "nbconvert_exporter": "python",
   "pygments_lexer": "ipython3",
   "version": "3.11.8"
  }
 },
 "nbformat": 4,
 "nbformat_minor": 5
}
