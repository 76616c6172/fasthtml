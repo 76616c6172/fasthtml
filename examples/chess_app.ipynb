{
 "cells": [
  {
   "cell_type": "markdown",
   "metadata": {},
   "source": [
    "# Chess App"
   ]
  },
  {
   "cell_type": "code",
   "execution_count": null,
   "metadata": {},
   "outputs": [],
   "source": [
    "#| default_exp chess_app"
   ]
  },
  {
   "cell_type": "code",
   "execution_count": null,
   "metadata": {},
   "outputs": [],
   "source": [
    "! uv pip install chess stockfish"
   ]
  },
  {
   "cell_type": "markdown",
   "metadata": {},
   "source": [
    "## Todos\n",
    "- Use websockets to alert player when another one has joined (opened a second browser and connected)\n",
    "- Use websockets to alert player when another one has left (closed the browser)\n",
    "- Use websockets to alert player when another one has made a move\n",
    "- Add evaluation bar via stockfish chess engine to show who is winning"
   ]
  },
  {
   "cell_type": "code",
   "execution_count": 41,
   "metadata": {},
   "outputs": [],
   "source": [
    "import chess\n",
    "bboard = chess.BaseBoard()"
   ]
  },
  {
   "cell_type": "code",
   "execution_count": 43,
   "metadata": {},
   "outputs": [
    {
     "data": {
      "text/plain": [
       "NoneType"
      ]
     },
     "execution_count": 43,
     "metadata": {},
     "output_type": "execute_result"
    }
   ],
   "source": [
    "type(bboard.piece_at(chess.parse_square('a4')))\n",
    "# chess.svg.piece(())"
   ]
  },
  {
   "cell_type": "code",
   "execution_count": 10,
   "metadata": {},
   "outputs": [],
   "source": [
    "#| export\n",
    "from fasthtml import *\n",
    "from fastcore.utils import *\n",
    "from starlette.endpoints import WebSocketEndpoint\n",
    "from starlette.routing import WebSocketRoute\n",
    "\n",
    "import chess\n",
    "import chess.svg\n",
    "\n",
    "bboard = chess.BaseBoard()\n",
    "\n",
    "css = Style(\n",
    "    '''\\\n",
    "    #chess-board { display: grid; grid-template-columns: repeat(8, 64px); grid-template-rows: repeat(8, 64px);gap: 1px; }\n",
    "    .board-cell { width: 64px; height: 64px; border: 1px solid black; }\n",
    "    .black { background-color: grey; }\n",
    "    .white { background-color: white; }\n",
    "    .active { background-color: green; }\n",
    "    '''\n",
    ")\n",
    "# Flexbox CSS (http://flexboxgrid.com/)\n",
    "gridlink = Link(rel=\"stylesheet\", href=\"https://cdnjs.cloudflare.com/ajax/libs/flexboxgrid/6.3.1/flexboxgrid.min.css\", type=\"text/css\")\n",
    "htmx_ws = Script(src=\"https://unpkg.com/htmx-ext-ws@2.0.0/ws.js\")\n",
    "\n",
    "app = FastHTML(hdrs=(gridlink, css, htmx_ws,))\n",
    "rt = app.route"
   ]
  },
  {
   "cell_type": "code",
   "execution_count": null,
   "metadata": {},
   "outputs": [],
   "source": [
    "#| export\n",
    "player_queue = []\n",
    "class WS(WebSocketEndpoint):\n",
    "    encoding = 'text'\n",
    "\n",
    "    # async def on_connect(self, websocket):\n",
    "    #     await websocket.accept()\n",
    "\n",
    "    # async def on_connect(self, websocket):\n",
    "    #     # global player_queue\n",
    "    #     # player_queue.append(websocket)\n",
    "    #     await websocket.accept()\n",
    "        # await websocket.send_text(\"hi\")\n",
    "        # if len(player_queue) == 2:\n",
    "        #     await player_queue[0].send_text(\"Opponent joined!\")\n",
    "        #     await player_queue[1].send_text(\"You joined!\")\n",
    "\n",
    "    async def on_receive(self, websocket, data):\n",
    "        await websocket.send_text(\"hi\")\n",
    "\n",
    "    # async def on_disconnect(self, websocket, close_code):\n",
    "    #     pass\n",
    "        # global player_queue\n",
    "        # player_queue.remove(websocket)\n",
    "\n",
    "app.routes.append(WebSocketRoute('/chess', WS))"
   ]
  },
  {
   "cell_type": "code",
   "execution_count": 11,
   "metadata": {},
   "outputs": [],
   "source": [
    "#| export\n",
    "def Board():\n",
    "    def create_board():\n",
    "        rows = '87654321'\n",
    "        cols = 'abcdefgh'\n",
    "        board = []\n",
    "        for row in rows:\n",
    "            board_row = []\n",
    "            for col in cols:\n",
    "                pos = f\"{col}{row}\"\n",
    "                cell_color = \"black\" if (rows.index(row) + cols.index(col)) % 2 == 0 else \"white\"\n",
    "                piece = bboard.piece_at(chess.parse_square(pos))\n",
    "                if piece:\n",
    "                    piece = NotStr(chess.svg.piece(piece))\n",
    "                    board_row.append(\n",
    "                        Div(\n",
    "                            piece, id=f\"{col}{row}\", cls=f\"board-cell {cell_color}\", hx_post=\"/select\", hx_vars=f\"from={pos}&to=e2\",\n",
    "                            hx_swap='innerHTML', hx_target='#gol', hx_trigger='click'\n",
    "                        )\n",
    "                    )\n",
    "                else:\n",
    "                    board_row.append(Div(id=f\"{col}{row}\", cls=f\"board-cell {cell_color}\"))\n",
    "            board.append(Div(*board_row, cls=\"board-row\"))\n",
    "        return Div(*board, id=\"chess-board\")\n",
    "\n",
    "    html_board = create_board()\n",
    "    return html_board"
   ]
  },
  {
   "cell_type": "code",
   "execution_count": null,
   "metadata": {},
   "outputs": [],
   "source": [
    "#| export\n",
    "def Home():\n",
    "    return Div(\n",
    "        Div('Hello, still waiting on an opponent!', id='user-message'),\n",
    "        Board(),\n",
    "        hx_ext=\"ws\", ws_connect=\"/chess\"\n",
    "    )"
   ]
  },
  {
   "cell_type": "code",
   "execution_count": null,
   "metadata": {},
   "outputs": [],
   "source": [
    "#| export\n",
    "@rt(\"/\")\n",
    "def get():\n",
    "    return Home()# Div(NotStr(chess.svg.piece(chess.Piece.from_symbol(\"R\"))))"
   ]
  },
  {
   "cell_type": "code",
   "execution_count": 62,
   "metadata": {},
   "outputs": [],
   "source": [
    "#| eval: false\n",
    "#| hide\n",
    "from nbdev.export import nb_export\n",
    "nb_export('chess_app.ipynb', '.')"
   ]
  },
  {
   "cell_type": "code",
   "execution_count": null,
   "metadata": {},
   "outputs": [],
   "source": []
  }
 ],
 "metadata": {
  "kernelspec": {
   "display_name": ".venv",
   "language": "python",
   "name": "python3"
  },
  "language_info": {
   "codemirror_mode": {
    "name": "ipython",
    "version": 3
   },
   "file_extension": ".py",
   "mimetype": "text/x-python",
   "name": "python",
   "nbconvert_exporter": "python",
   "pygments_lexer": "ipython3",
   "version": "3.11.9"
  }
 },
 "nbformat": 4,
 "nbformat_minor": 2
}
