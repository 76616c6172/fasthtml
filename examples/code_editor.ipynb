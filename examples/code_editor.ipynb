{
 "cells": [
  {
   "cell_type": "markdown",
   "metadata": {},
   "source": [
    "# Code Editor"
   ]
  },
  {
   "cell_type": "code",
   "execution_count": null,
   "metadata": {},
   "outputs": [],
   "source": [
    "#| default_exp code_editor"
   ]
  },
  {
   "cell_type": "markdown",
   "metadata": {},
   "source": [
    "## Todos\n",
    "- ~~Full page editable area for writing code~~\n",
    "- ~~Syntax highlighting~~\n",
    "- ~~Line number side bar~~\n",
    "- auto-language detection\n",
    "- inline autocompletion\n",
    "- save files\n",
    "- handle multiple files"
   ]
  },
  {
   "cell_type": "code",
   "execution_count": 1,
   "metadata": {},
   "outputs": [],
   "source": [
    "#| export\n",
    "from fasthtml import *\n",
    "\n",
    "css = Style('''\\\n",
    "#editor {\n",
    "    position: absolute;\n",
    "    top: 0;\n",
    "    right: 0;\n",
    "    bottom: 0;\n",
    "    left: 0;\n",
    "}\n",
    "''')\n",
    "# Ace Editor (https://ace.c9.io/)\n",
    "ace_editor = Script(src=\"https://cdnjs.cloudflare.com/ajax/libs/ace/1.35.0/ace.min.js\")\n",
    "app = FastHTML(hdrs=(ace_editor, css))\n",
    "rt = app.route"
   ]
  },
  {
   "cell_type": "code",
   "execution_count": 2,
   "metadata": {},
   "outputs": [],
   "source": [
    "#| export\n",
    "js_code = \"\"\"\\\n",
    "var editor = ace.edit(\"editor\");\n",
    "editor.setTheme(\"ace/theme/monokai\");\n",
    "editor.session.setMode(\"ace/mode/javascript\");\n",
    "\"\"\"\n",
    "\n",
    "example_code = \"\"\"\\\n",
    "function foo(items) {\n",
    "    var x = \"All this is syntax highlighted\";\n",
    "    return x;\n",
    "}\"\"\""
   ]
  },
  {
   "cell_type": "code",
   "execution_count": 3,
   "metadata": {},
   "outputs": [],
   "source": [
    "#| export\n",
    "def CodeEditor():\n",
    "    editor = Div(example_code, id=\"editor\")\n",
    "    return Title(\"Code Editor\",), editor, Script(NotStr(js_code))"
   ]
  },
  {
   "cell_type": "code",
   "execution_count": 4,
   "metadata": {},
   "outputs": [
    {
     "data": {
      "text/html": [
       "<title>Code Editor</title>\n",
       "\n",
       "<div id=\"editor\" style=\"height: 100%; width: 100%;\">function foo(items) {\n",
       "    var x = &quot;All this is syntax highlighted&quot;;\n",
       "    return x;\n",
       "}\n",
       "</div>\n",
       "\n",
       "<script>var editor = ace.edit(&quot;editor&quot;);\n",
       "editor.setTheme(&quot;ace/theme/monokai&quot;);\n",
       "editor.session.setMode(&quot;ace/mode/javascript&quot;);\n",
       "</script>\n"
      ],
      "text/plain": [
       "<IPython.core.display.HTML object>"
      ]
     },
     "execution_count": 4,
     "metadata": {},
     "output_type": "execute_result"
    }
   ],
   "source": [
    "show(CodeEditor())"
   ]
  },
  {
   "cell_type": "code",
   "execution_count": 9,
   "metadata": {},
   "outputs": [],
   "source": [
    "#| export\n",
    "@rt(\"/\")\n",
    "def get():\n",
    "    return CodeEditor()"
   ]
  },
  {
   "cell_type": "code",
   "execution_count": 22,
   "metadata": {},
   "outputs": [],
   "source": [
    "#| eval: false\n",
    "#| hide\n",
    "from nbdev.export import nb_export\n",
    "nb_export('code_editor.ipynb', '.')"
   ]
  },
  {
   "cell_type": "code",
   "execution_count": null,
   "metadata": {},
   "outputs": [],
   "source": []
  }
 ],
 "metadata": {
  "kernelspec": {
   "display_name": ".venv",
   "language": "python",
   "name": "python3"
  },
  "language_info": {
   "codemirror_mode": {
    "name": "ipython",
    "version": 3
   },
   "file_extension": ".py",
   "mimetype": "text/x-python",
   "name": "python",
   "nbconvert_exporter": "python",
   "pygments_lexer": "ipython3",
   "version": "3.10.13"
  }
 },
 "nbformat": 4,
 "nbformat_minor": 2
}
