{
 "cells": [
  {
   "cell_type": "markdown",
   "metadata": {},
   "source": [
    "# Live Reloading"
   ]
  },
  {
   "cell_type": "markdown",
   "metadata": {},
   "source": [
    "\n",
    "When building your app it can be useful to view your changes in a web browser as you make them. FastHTML supports live reloading which means that it watches for any changes to your code and automatically refreshes the webpage in your browser.\n",
    "\n",
    "To enable live reloading simply replace `FastHTML` in your app with `FastHTMLWithLiveReload`.\n",
    "\n",
    "```python\n",
    "from fasthtml.common import *\n",
    "app = FastHTMLWithLiveReload()\n",
    "```\n",
    "\n",
    "Then in your terminal run `uvicorn` with reloading enabled.\n",
    "\n",
    "```\n",
    "uvicorn: main:app --reload\n",
    "```\n",
    "\n",
    "**⚠️ Gotchas**\n",
    "- A reload is only triggered when you save your changes.\n",
    "- `FastHTMLWithLiveReload` should only be used during development.\n",
    "- If your app spans multiple directories you might need to use the `--reload-dir` flag to watch all files in each directory. See the uvicorn [docs](https://www.uvicorn.org/settings/#development) for more info."
   ]
  }
 ],
 "metadata": {},
 "nbformat": 4,
 "nbformat_minor": 2
}
