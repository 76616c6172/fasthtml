{
 "cells": [
  {
   "cell_type": "markdown",
   "metadata": {},
   "source": [
    "# Deploying FastHTML Apps\n",
    "\n",
    "> This page provides a fast introduction to deploying FastHTML apps."
   ]
  },
  {
   "cell_type": "markdown",
   "metadata": {},
   "source": [
    "# One-click Deployment Support\n",
    "\n",
    "| Hosting | Supported |\n",
    "|---------|:-----|\n",
    "| [Railway.app](https://railway.app/)      | ✅   |\n",
    "| [Vercel](https://vercel.com/)     | ✖️  |\n",
    "\n",
    "::: {.callout-note}\n",
    "We are actively working on supporting more hosting providers. PRs are welcome!\n",
    ":::"
   ]
  },
  {
   "cell_type": "markdown",
   "metadata": {},
   "source": [
    "## Deploying to Railway\n",
    "\n",
    "To deploy to railway, you need to have a Railway account and the Railway CLI installed.\n",
    "\n",
    "1. Create a Railway account at [railway.app](https://railway.app/)\n",
    "2. Install the Railway CLI for your [operating system](https://docs.railway.app/guides/cli#installing-the-cli).\n",
    "3. Run `railway login` to log in to your Railway account.\n",
    "\n",
    "Next, navigate to the directory containing your FastHTML app and run the following command:\n",
    "\n",
    "```bash\n",
    "fh_railway_deploy <app-name>\n",
    "```\n",
    "\n",
    "::: {.callout-note}\n",
    "Your app's entry point must be located in a `main.py` file for this to work.\n",
    ":::\n",
    "\n",
    "`fh_railway_deploy` automatically handles linking your FastHTML app to the Railway app and setting up a `requirements.txt` if you haven't one already."
   ]
  }
 ],
 "metadata": {},
 "nbformat": 4,
 "nbformat_minor": 2
}
