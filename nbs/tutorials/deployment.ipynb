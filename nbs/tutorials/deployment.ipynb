{
 "cells": [
  {
   "cell_type": "markdown",
   "metadata": {},
   "source": [
    "# Deploying FastHTML Apps\n",
    "\n",
    "> This page provides a fast introduction to deploying FastHTML apps."
   ]
  },
  {
   "cell_type": "markdown",
   "metadata": {},
   "source": [
    "# One-click Deployment Support\n",
    "\n",
    "| Hosting | Supported |\n",
    "|---------|:-----|\n",
    "| [Railway.app](https://railway.app/)      | ✅   |\n",
    "| [Vercel](https://vercel.com/)     | ✖️  |\n",
    "\n",
    "::: {.callout-note}\n",
    "We are actively working on supporting more hosting providers. PRs are welcome!\n",
    ":::"
   ]
  },
  {
   "cell_type": "markdown",
   "metadata": {},
   "source": [
    "## Deploying to Railway\n",
    "\n",
    "To deploy to railway, you need to have a Railway account and the Railway CLI installed.\n",
    "\n",
    "1. Create a Railway account at [railway.app](https://railway.app/)\n",
    "2. Install the Railway CLI for your [operating system](https://docs.railway.app/guides/cli#installing-the-cli).\n",
    "3. Run `railway login` to log in to your Railway account.\n",
    "\n",
    "Next, navigate to the directory containing your FastHTML app and run the following command:\n",
    "\n",
    "```bash\n",
    "fh_railway_deploy <app-name>\n",
    "```\n",
    "\n",
    "::: {.callout-note}\n",
    "Your app's entry point must be located in a `main.py` file for this to work.\n",
    ":::\n",
    "\n",
    "`fh_railway_deploy` runs the following commands behind the scenes for you:\n",
    "\n",
    "```bash\n",
    "railway init -n <app-name>\n",
    "railway up -c\n",
    "railway domain\n",
    "railway link ...\n",
    "railway volume add -m /app/data \n",
    "```\n",
    "It handles automatically linking your current app to a railway project, setting up all the environment variables such as the port to listen on and setting up a `requirements.txt` if you haven't one already."
   ]
  },
  {
   "cell_type": "markdown",
   "metadata": {},
   "source": [
    "### Customizing your Domain Name\n",
    "\n",
    "Railway automatically assigns your website a unique domain name such as `quickdraw-production.up.railway.app`. However, if you want to use your own that you've purchased through services like [GoDaddy](https://www.godaddy.com/) or [Squarespace Domains](https://domains.squarespace.com/) and have users be able to navigate to your site using that domain, you'll need to configure it both in your domain registration service and in Railway. Railway has put together a nice tutorial for setting it up [here](https://docs.railway.app/guides/public-networking#custom-domains).\n",
    "\n",
    "::: {.callout-note}\n",
    "Make sure to notice the difference between setting up a regular domain and a subdomain. Regular domains don't have any prefixes before the main site name such as `example.com` and is setup differently from a subdomain which might look like `subdomain.example.com`. Make sure to follow your domain registration service's documentation on how to set these types up.\n",
    ":::"
   ]
  }
 ],
 "metadata": {},
 "nbformat": 4,
 "nbformat_minor": 2
}
