{
 "cells": [
  {
   "cell_type": "markdown",
   "metadata": {},
   "source": [
    "# Quickstart for Web Developers\n",
    "\n",
    "> This page provides a fast introduction to FastHTML that covers a lot of topics that web developers find useful."
   ]
  },
  {
   "cell_type": "code",
   "execution_count": null,
   "metadata": {},
   "outputs": [],
   "source": [
    "#| default_exp core"
   ]
  },
  {
   "cell_type": "markdown",
   "metadata": {},
   "source": [
    "::: {.callout-caution}\n",
    "This document is a work in progress. \n",
    ":::"
   ]
  },
  {
   "cell_type": "code",
   "execution_count": null,
   "metadata": {},
   "outputs": [],
   "source": [
    "#| hide\n",
    "from nbdev.showdoc import *"
   ]
  },
  {
   "cell_type": "markdown",
   "metadata": {},
   "source": [
    "## Installation"
   ]
  },
  {
   "cell_type": "code",
   "execution_count": null,
   "metadata": {},
   "outputs": [],
   "source": [
    "pip install python-fasthtml"
   ]
  },
  {
   "cell_type": "markdown",
   "metadata": {},
   "source": [
    "## A Minimal Application\n",
    "\n",
    "A minimal FastHTML application looks something like this:"
   ]
  },
  {
   "cell_type": "markdown",
   "metadata": {},
   "source": [
    "```{.python filename=\"main.py\" code-line-numbers=\"true\"}\n",
    "from fasthtml.fastapp import * \n",
    "\n",
    "app, rt = fast_app()\n",
    "\n",
    "@rt(\"/\")\n",
    "def get():\n",
    "    return Titled(\"FastHTML\", P(\"Let's do this!\"))\n",
    "\n",
    "run_uv()\n",
    "```"
   ]
  },
  {
   "cell_type": "markdown",
   "metadata": {},
   "source": [
    "What does that code do?\n",
    "\n",
    "1. In line 1, we import a carefully-specified set of FastHTML functions and other Python objects into our global namespace, for rapid development. \n",
    "\n",
    "2. Next on line 3 we instantiate the FastHTML app with the `fast_app()` utility function. This provides a number of really useful defaults that we'll take advantage of later in the tutorial. \n",
    "\n",
    "3. Then on line 5 we use the `rt()` decorator to tell FastTML what URL should trigger our view function if visited with an HTTP GET. By HTTP GET we mean \"go to that location in our browser\"\n",
    "\n",
    "4. Line 6 is where we define our function name of `get`. This also tells FastHTML which HTTP verb to use.\n",
    "\n",
    "5. On line 7 we return several functions that describe all the HTML required to write a properly formed web page.\n",
    "\n",
    "6. Finally, on line 10 the `run_uv()` utility configures and runs FastHTML using a library called `uvicorn`.\n",
    "\n",
    "Run the code:\n",
    "\n",
    "```bash\n",
    "python main.py\n",
    "```\n",
    "\n",
    "The terminal will look like this:\n",
    "\n",
    "```bash\n",
    "INFO:     Uvicorn running on http://0.0.0.0:5001 (Press CTRL+C to quit)\n",
    "INFO:     Started reloader process [58058] using WatchFiles\n",
    "INFO:     Started server process [58060]\n",
    "INFO:     Waiting for application startup.\n",
    "INFO:     Application startup complete.\n",
    "```"
   ]
  },
  {
   "cell_type": "markdown",
   "metadata": {},
   "source": [
    "Confirm FastHTML is running by opening your web browser to this linl: [127.0.0.1:5001](http://127.0.0.1:5001). You should see something like the image below:\n",
    "\n",
    "![](quickstart-web-dev/quickstart-fasthtml.png)"
   ]
  },
  {
   "cell_type": "markdown",
   "metadata": {},
   "source": [
    "## A Minimal Charting Application\n",
    "\n",
    "The `Script` function allows you to include JavaScript. You can use Python to generate parts of your JS or JSON like this:\n",
    "\n",
    "```python\n",
    "import json\n",
    "from fasthtml.common import * \n",
    "\n",
    "app, rt = fast_app(hdrs=(Script(src=\"https://cdn.plot.ly/plotly-2.32.0.min.js\"),))\n",
    "\n",
    "data = json.dumps({\n",
    "    \"data\": [{\"x\": [1, 2, 3, 4],\"type\": \"scatter\"},\n",
    "            {\"x\": [1, 2, 3, 4],\"y\": [16, 5, 11, 9],\"type\": \"scatter\"}],\n",
    "    \"title\": \"Plotly chart in FastHTML \",\n",
    "    \"description\": \"This is a demo dashboard\",\n",
    "    \"type\": \"scatter\"\n",
    "})\n",
    "\n",
    "\n",
    "@rt(\"/\")\n",
    "def get():\n",
    "  return Titled(\"Chart Demo\", Div(id=\"myDiv\"),\n",
    "    Script(f\"var data = {json.loads(data)}; Plotly.newPlot('myDiv', data);\"))\n",
    "\n",
    "run_uv()\n",
    "```"
   ]
  },
  {
   "cell_type": "markdown",
   "metadata": {},
   "source": [
    "## Routing\n",
    "\n",
    "FastHTML uses the Python community's friendly decorator pattern for specifying URLs:\n",
    "\n",
    "```{.python filename=\"main.py\" code-line-numbers=\"true\"}\n",
    "from fasthtml.fastapp import * \n",
    "\n",
    "app, rt = fast_app()\n",
    "\n",
    "@rt(\"/\")  # <1>\n",
    "def get():\n",
    "  return Titled(\"FastHTML\", P(\"Let's do this!\"))\n",
    "\n",
    "@rt(\"/hello\")  # <2>\n",
    "def get():\n",
    "  return Titled(\"Hello, world!\")\n",
    "\n",
    "run_uv()\n",
    "```\n",
    "\n",
    "1. The \"/\" URL on line 5 is the home of a project. This would be accessed at [127.0.0.1:5001](http://127.0.0.1:5001).\n",
    "2. \"/hello\" URL on line 9 will be found by the project if the user visits [127.0.0.1:5001/hello](http://127.0.0.1:5001/hello).\n",
    "\n",
    "::: {.callout-tip}\n",
    "It looks like `get()` is being defined twice, but that's not the case. Each function decorated with `rt` is totally separate, and is injected into the router. We're not calling them in the module's  namespace (`locals()`). Rather, we're loading them into the routing mechanism using the `rt` decorator.\n",
    ":::\n",
    "\n",
    "You can do more! Read on to learn what we can do to make parts of the URL dynamic."
   ]
  },
  {
   "cell_type": "markdown",
   "metadata": {},
   "source": [
    "## Variables in URLs\n",
    "\n",
    "You can add variable sections to a URL by marking them with `{variable_name}`. Your function then receives the `{variable_name}` as a keyword argument, but only if it is the correct type. Here's an example:\n",
    "\n",
    "```{.python filename=\"main.py\" code-line-numbers=\"true\"}\n",
    "from fasthtml.fastapp import * \n",
    "\n",
    "app, rt = fast_app()\n",
    "\n",
    "@rt(\"/{name}/{age}\")  # <3>\n",
    "def get(name: str, age: int):  # <4>\n",
    "  return Titled(f\"Hello {name.title()}, age {age}\")  # <5>\n",
    "\n",
    "run_uv()\n",
    "```\n",
    "\n",
    "3. On line 3 we specify two variable names, `name` and `age`.\n",
    "4. On line 4 we define two function arguments named identically to the variables. You will note that we specify the Python types to be passed.\n",
    "5. On line 5, we use these functions in our project.\n",
    "\n",
    "\n",
    "Try it out by going to this address: [127.0.0.1:5001/uma/5](http://127.0.0.1:5001/uma/5). You should get a page that says,\n",
    "\n",
    "> \"Hello Uma, age 5\".\n",
    "\n",
    "\n",
    "### What happens if we enter incorrect data?\n",
    "\n",
    "The [127.0.0.1:5001/uma/5](http://127.0.0.1:5001/uma/5) URL works because `5` is an integer. If we enter something that is not, such as [127.0.0.1:5001/uma/five](http://127.0.0.1:5001/uma/five), then FastHTML will return an error instead of a web page.\n",
    "\n",
    "::: {.callout-note}\n",
    "### FastHTML URL routing supports more complex types\n",
    "\n",
    "The two examples we provide here use Python's built-in `str` and `int` types, but you can use your own types, including more complex ones such as those defined by libraries like [attrs](https://pypi.org/project/attrs/), [pydantic](https://pypi.org/project/pydantic/), and even [sqlmodel](https://pypi.org/project/attrs/). \n",
    ":::"
   ]
  },
  {
   "cell_type": "markdown",
   "metadata": {},
   "source": [
    "## HTTP Methods\n",
    "\n",
    "FastHTML matches function names to HTTP methods. So far the URL routes we've defined have been for HTTP GET methods, the most common method for web pages.\n",
    "\n",
    "Form submissions often are sent as HTTP POST. When dealing with more dynamic web page designs, also known as Single Page Apps (SPA for short), the need can arise for other methods such as HTTP PUT and HTTP DELETE. The way FastHTML handles this is by changing the function name.\n",
    "\n",
    "```{.python filename=\"main.py\" code-line-numbers=\"true\"}\n",
    "from fasthtml.fastapp import * \n",
    "\n",
    "app, rt = fast_app()\n",
    "\n",
    "@rt(\"/\")  \n",
    "def get(): # <6>\n",
    "  return Titled(\"HTTP GET\", P(\"Handle GET\"))\n",
    "\n",
    "@rt(\"/\")  \n",
    "def post(): # <7>\n",
    "  return Titled(\"HTTP POST\", P(\"Handle POST\"))\n",
    "\n",
    "run_uv()\n",
    "```\n",
    "\n",
    "6. On line 6 because the `get()` function name is used, this will handle HTTP GETs going to the `/` URI.\n",
    "7. On line 10 because the `post()` function name is used, this will handle HTTP POSTs going to the `/` URI."
   ]
  },
  {
   "cell_type": "markdown",
   "metadata": {},
   "source": [
    "## CSS Files and Inline Styles\n",
    "\n",
    "Here we modify default headers to demonstrate how to use the [Sakura CSS microframework](https://github.com/oxalorg/sakura) instead of FastHTML's default of Pico CSS.\n",
    "\n",
    "```{.python filename=\"main.py\" code-line-numbers=\"true\"}\n",
    "from fasthtml.fastapp import * \n",
    "\n",
    "app, rt = fast_app(\n",
    "    default_hdrs=False,  # <8>\n",
    "    hdrs=(\n",
    "        Link(rel='stylesheet', href='assets/normalize.min.css', type='text/css'),\n",
    "        Link(rel='stylesheet', href='assets/sakura.css', type='text/css'),  # <9>\n",
    "        Style(\"p {color: red;}\")  # <10>\n",
    "))\n",
    "\n",
    "@app.get(\"/\")\n",
    "def home():\n",
    "    return Titled(\"FastHTML\",\n",
    "        P(\"Let's do this!\"),\n",
    "    )\n",
    "\n",
    "run_uv()\n",
    "```\n",
    "\n",
    "8. By setting `default_hdrs` to `False`, FastHTML will not include `pico.min.css`.\n",
    "9. This will generate an HTML `<link>` tag for sourcing the css for Sakura.\n",
    "10. If you want an inline styles, the `Style()` function will put the result into the HTML.\n",
    "\n",
    "Check it out!\n",
    "\n",
    "![](quickstart-web-dev/quickstart-sakura.png)"
   ]
  },
  {
   "cell_type": "markdown",
   "metadata": {},
   "source": [
    "## Other Static Media Files\n",
    "\n",
    "As you saw, `Script` and `Link` are specific to the most common static media use cases in web apps: including JavaScript and CSS.\n",
    "\n",
    "FastHTML also provides a way to serve static media files. You can define a route that uses `FileResponse` to serve the file at the specified path. This is useful for serving images, videos, and other media files.\n",
    "\n",
    "```{.python filename=\"main.py\" code-line-numbers=\"true\"}\n",
    "@rt(\"/{fname:path}.{ext:static}\")\n",
    "async def get(fname:str, ext:str): \n",
    "    return FileResponse(f'public/{fname}.{ext}')\n",
    "```"
   ]
  },
  {
   "cell_type": "markdown",
   "metadata": {},
   "source": [
    "## Unwritten quickstart sections\n",
    "\n",
    "1. Debug setting in fast_app\n",
    "2. Rendering markdown\n",
    "3. Code highlighting\n",
    "4. Defining simple components of our own\n",
    "5. Cookies\n",
    "6. Sessions\n",
    "7. Toast messages\n",
    "8. BeforeWare and AfterWare\n",
    "9. Websockets"
   ]
  },
  {
   "cell_type": "code",
   "execution_count": null,
   "metadata": {},
   "outputs": [],
   "source": [
    "#| hide\n",
    "import nbdev; nbdev.nbdev_export()"
   ]
  }
 ],
 "metadata": {
  "kernelspec": {
   "display_name": "python3",
   "language": "python",
   "name": "python3"
  }
 },
 "nbformat": 4,
 "nbformat_minor": 4
}
