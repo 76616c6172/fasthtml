{
 "cells": [
  {
   "cell_type": "code",
   "execution_count": null,
   "id": "6f411b65",
   "metadata": {},
   "outputs": [],
   "source": [
    "#| default_exp oauth"
   ]
  },
  {
   "cell_type": "markdown",
   "id": "0865b3d0",
   "metadata": {},
   "source": [
    "# OAuth\n",
    "\n",
    "- eval: false\n",
    "- skip_exec: true"
   ]
  },
  {
   "cell_type": "markdown",
   "id": "507cd009",
   "metadata": {},
   "source": [
    "- **NB**: *This is an incomplete draft of an OAuth framework for FastHTML. It's not working yet.*"
   ]
  },
  {
   "cell_type": "code",
   "execution_count": null,
   "id": "793722f2",
   "metadata": {},
   "outputs": [],
   "source": [
    "#| export\n",
    "import json, uuid\n",
    "from httpx import get,post\n",
    "\n",
    "from fastcore.utils import *\n",
    "from fastcore.net import recv_once\n",
    "from fastcore.xtras import parse_env\n",
    "\n",
    "from oauthlib.oauth2 import WebApplicationClient\n",
    "from urllib.parse import urlparse, parse_qs"
   ]
  },
  {
   "cell_type": "code",
   "execution_count": null,
   "id": "6293360b",
   "metadata": {},
   "outputs": [],
   "source": [
    "from IPython.display import Markdown"
   ]
  },
  {
   "cell_type": "code",
   "execution_count": null,
   "id": "46ece89b",
   "metadata": {},
   "outputs": [],
   "source": [
    "ex_path = Path(f'../examples')\n",
    "# secrets = (ex_path/'goog_secret.json').read_json()\n",
    "secrets = parse_env(fn=ex_path/'gh_secret.env')\n",
    "host,port = 'localhost',8000\n",
    "redirect_uri = f\"http://{host}:{port}/redirect\""
   ]
  },
  {
   "cell_type": "code",
   "execution_count": null,
   "id": "0a078133",
   "metadata": {},
   "outputs": [],
   "source": [
    "#| export\n",
    "class _AppClient(WebApplicationClient):\n",
    "    def __init__(self, client_id, client_secret, redirect_uri, code=None, scope=None, **kwargs):\n",
    "        super().__init__(client_id, code=code, scope=scope, **kwargs)\n",
    "        self.client_secret,self.redirect_uri = client_secret,redirect_uri"
   ]
  },
  {
   "cell_type": "code",
   "execution_count": null,
   "id": "d82ea17d",
   "metadata": {},
   "outputs": [],
   "source": [
    "#| export\n",
    "class GoogleAppClient(_AppClient):\n",
    "    \"A `WebApplicationClient` for Google oauth2\"\n",
    "    pre = \"https://www.googleapis.com/oauth2\"\n",
    "    acct_pre = \"https://accounts.google.com/o/oauth2\"\n",
    "    scope_pre = \"https://www.googleapis.com/auth/userinfo\"\n",
    "\n",
    "    base_url = f\"{acct_pre}/v2/auth\"\n",
    "    token_url = f\"{pre}/v4/token\"\n",
    "    info_url = f\"{pre}/v3/userinfo\"\n",
    "    id_key = 'sub'\n",
    "    \n",
    "    def __init__(self, client_id, client_secret, redirect_uri=None, redirect_uris=None, code=None, scope=None, **kwargs):\n",
    "        if redirect_uris and not redirect_uri: redirect_uri = redirect_uris[0]\n",
    "        if not scope: scope=[\"openid\", f\"{self.scope_pre}.email\", f\"{self.scope_pre}.profile\"]\n",
    "        super().__init__(client_id, client_secret, redirect_uri, code=code, scope=scope, **kwargs)"
   ]
  },
  {
   "cell_type": "code",
   "execution_count": null,
   "id": "371ab1f7",
   "metadata": {},
   "outputs": [],
   "source": [
    "#| export\n",
    "class GitHubAppClient(_AppClient):\n",
    "    \"A `WebApplicationClient` for GitHub oauth2\"\n",
    "    pre = \"https://github.com/login/oauth\"\n",
    "    base_url = f\"{pre}/authorize\"\n",
    "    token_url = f\"{pre}/access_token\"\n",
    "    info_url = \"https://api.github.com/user\"\n",
    "    id_key = 'id'\n",
    "\n",
    "    def __init__(self, client_id, client_secret, redirect_uri, code=None, scope=None, **kwargs):\n",
    "        if not scope: scope=\"user\"\n",
    "        super().__init__(client_id, client_secret, redirect_uri, code=code, scope=scope, **kwargs)"
   ]
  },
  {
   "cell_type": "code",
   "execution_count": null,
   "id": "990d2310",
   "metadata": {},
   "outputs": [],
   "source": [
    "#| export\n",
    "@patch\n",
    "def login_link(self:WebApplicationClient, scope=None):\n",
    "    \"Get a login link for this client\"\n",
    "    if not scope: scope=self.scope\n",
    "    return self.prepare_request_uri(self.base_url, self.redirect_uri, scope)"
   ]
  },
  {
   "cell_type": "code",
   "execution_count": null,
   "id": "e27ed564",
   "metadata": {},
   "outputs": [],
   "source": [
    "# client = GoogleAppClient(**secrets['web'], redirect_uri=redirect_uri)\n",
    "client = GitHubAppClient(**secrets, redirect_uri=redirect_uri)\n",
    "login_link = client.login_link()"
   ]
  },
  {
   "cell_type": "code",
   "execution_count": null,
   "id": "976d645c",
   "metadata": {},
   "outputs": [
    {
     "data": {
      "text/markdown": [
       "[login](https://github.com/login/oauth/authorize?response_type=code&client_id=Ov23liKzJ7qYxQdDDtHx&redirect_uri=http%3A%2F%2Flocalhost%3A8000%2Fredirect&scope=read%3Auser%2Cuser%3Aemail)"
      ],
      "text/plain": [
       "<IPython.core.display.Markdown object>"
      ]
     },
     "execution_count": null,
     "metadata": {},
     "output_type": "execute_result"
    }
   ],
   "source": [
    "t = recv_once(host, port)\n",
    "Markdown(f'[login]({login_link})')"
   ]
  },
  {
   "cell_type": "code",
   "execution_count": null,
   "id": "e70f4635",
   "metadata": {},
   "outputs": [],
   "source": [
    "#| export\n",
    "def retr_code(ret):\n",
    "    \"Parse a request to get the code -- mainly used for testing\"\n",
    "    url = ret.decode()\n",
    "    if url.startswith('GET'): url = url.split(' ')[1]\n",
    "    query_params = parse_qs(urlparse(url).query)\n",
    "    return query_params.get('code', [None])[0]"
   ]
  },
  {
   "cell_type": "code",
   "execution_count": null,
   "id": "35cd67f2",
   "metadata": {},
   "outputs": [
    {
     "data": {
      "text/plain": [
       "'e0b01caa1aa03fa8cfa7'"
      ]
     },
     "execution_count": null,
     "metadata": {},
     "output_type": "execute_result"
    }
   ],
   "source": [
    "code = retr_code(t.result)\n",
    "code"
   ]
  },
  {
   "cell_type": "code",
   "execution_count": null,
   "id": "bad57e7d",
   "metadata": {},
   "outputs": [],
   "source": [
    "#| export\n",
    "@patch\n",
    "def parse_response(self:_AppClient, code):\n",
    "    \"Get the token from the oauth2 server response\"\n",
    "    payload = dict(code=code, redirect_uri=self.redirect_uri, client_id=self.client_id,\n",
    "                   client_secret=self.client_secret, grant_type='authorization_code')\n",
    "    self.parse_request_body_response(post(self.token_url, json=payload).text)"
   ]
  },
  {
   "cell_type": "code",
   "execution_count": null,
   "id": "3b13820d",
   "metadata": {},
   "outputs": [],
   "source": [
    "#| export\n",
    "@patch\n",
    "def get_info(self:_AppClient):\n",
    "    \"Get the info for authenticated user\"\n",
    "    headers = {'Authorization': f'Bearer {self.token[\"access_token\"]}'}\n",
    "    return get(self.info_url, headers=headers).json()"
   ]
  },
  {
   "cell_type": "code",
   "execution_count": null,
   "id": "745cc5bd",
   "metadata": {},
   "outputs": [],
   "source": [
    "#| export\n",
    "@patch\n",
    "def retr_info(self:_AppClient, code):\n",
    "    \"Combines `parse_response` and `get_info`\"\n",
    "    self.parse_response(code)\n",
    "    return self.get_info()"
   ]
  },
  {
   "cell_type": "code",
   "execution_count": null,
   "id": "a0bfb27e",
   "metadata": {},
   "outputs": [],
   "source": [
    "#| export\n",
    "@patch\n",
    "def retr_id(self:_AppClient, code):\n",
    "    \"Call `retr_info` and then return id/subscriber value\"\n",
    "    return self.retr_info()[self.id_key]"
   ]
  },
  {
   "cell_type": "code",
   "execution_count": null,
   "id": "edfee116",
   "metadata": {},
   "outputs": [
    {
     "data": {
      "text/plain": [
       "346999"
      ]
     },
     "execution_count": null,
     "metadata": {},
     "output_type": "execute_result"
    }
   ],
   "source": [
    "client.retr_id(code)"
   ]
  },
  {
   "cell_type": "markdown",
   "id": "474e14b4",
   "metadata": {},
   "source": [
    "# Export -"
   ]
  },
  {
   "cell_type": "code",
   "execution_count": null,
   "id": "d211e8e2",
   "metadata": {},
   "outputs": [],
   "source": [
    "#|hide\n",
    "import nbdev; nbdev.nbdev_export()"
   ]
  },
  {
   "cell_type": "code",
   "execution_count": null,
   "id": "0da76608",
   "metadata": {},
   "outputs": [],
   "source": []
  }
 ],
 "metadata": {
  "kernelspec": {
   "display_name": "python3",
   "language": "python",
   "name": "python3"
  }
 },
 "nbformat": 4,
 "nbformat_minor": 5
}
