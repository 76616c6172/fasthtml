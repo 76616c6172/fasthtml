{
 "cells": [
  {
   "cell_type": "markdown",
   "metadata": {},
   "source": [
    "# fasthtml\n",
    "\n",
    "> The fastest way to create an HTML app"
   ]
  },
  {
   "cell_type": "markdown",
   "metadata": {},
   "source": [
    "`fasthtml` is a library for writing fast and scalable web applications. It's designed to make it as easy as possible to get started, while still being powerful enough to handle complex applications. TODO brief punch intro, link to docs and about."
   ]
  },
  {
   "cell_type": "markdown",
   "metadata": {},
   "source": [
    "## Installation\n",
    "\n",
    "Since `fasthtml` is a Python library, you can install it with:"
   ]
  },
  {
   "cell_type": "markdown",
   "metadata": {},
   "source": [
    "```sh\n",
    "pip install python-fasthtml\n",
    "```"
   ]
  },
  {
   "cell_type": "markdown",
   "metadata": {},
   "source": [
    "In the near future, we hope to add component libraries that can likewise be installed via `pip`."
   ]
  },
  {
   "cell_type": "markdown",
   "metadata": {},
   "source": [
    "## Usage"
   ]
  },
  {
   "cell_type": "markdown",
   "metadata": {},
   "source": [
    "For a minimal app, create a file \"main.py\" as follows:\n",
    "\n",
    "```{.python filename=\"main.py\"}\n",
    "from fasthtml.fastapp import *\n",
    "\n",
    "app,rt = fast_app()\n",
    "\n",
    "@rt(\"/\")\n",
    "def get():\n",
    "  return Titled(\"FastHTML\", P(\"Let's do this!\"))\n",
    "\n",
    "run_uv()\n",
    "```"
   ]
  },
  {
   "cell_type": "markdown",
   "metadata": {},
   "source": [
    "Running the app with `python main.py` print out a link to your running app: `http://localhost:5001/`. Visit that link in your browser and you should see a page with the title \"FastHTML\" and the text \"Let's do this!\". Congratulations - you've just created your first `fasthtml` app!"
   ]
  },
  {
   "cell_type": "markdown",
   "metadata": {},
   "source": [
    "Adding interactivity is surprisingly easy, thanks to HTMX. If you modify the file to look like this:\n",
    "\n",
    "```{.python filename=\"main.py\"}\n",
    "from fasthtml.fastapp import *\n",
    "\n",
    "app,rt = fast_app()\n",
    "\n",
    "@rt('/')\n",
    "def get(): return Title('Example'),P('Click Me!', id=\"greet\" hx_get=\"/change\")\n",
    "\n",
    "@rt('/change')\n",
    "def get(): return P('Hello, World!')\n",
    "\n",
    "run_uv()\n",
    "```\n",
    "\n",
    "You'll now have a page with a clickable element that changes the text when clicked. When clicking on this link, the server will respond with an \"HTML partial\"---that is, just a snippet of HTML which will be inserted into the existing page. In this case, the returned element will replace the original P element (since that's the default behavior of HTMX) with the new version returned by the second route.\n",
    "\n",
    "This \"hypermedia-based\" approach to web development is a powerful way to build web applications."
   ]
  },
  {
   "cell_type": "markdown",
   "metadata": {},
   "source": [
    "## Next Steps\n",
    "\n",
    "- [Homepage](https://fastht.ml)\n",
    "- [Documentation](https://docs.fastht.ml)\n",
    "- [About](https://about.fastht.ml)\n",
    "- [GitHub](https://github.com/AnswerDotAI/fasthtml)\n",
    "- [Examples on GitHub](https://github.com/AnswerDotAI/fasthtml-examples)\n"
   ]
  },
  {
   "cell_type": "markdown",
   "metadata": {},
   "source": [
    "TODO link other places to go"
   ]
  }
 ],
 "metadata": {
  "kernelspec": {
   "display_name": "python3",
   "language": "python",
   "name": "python3"
  }
 },
 "nbformat": 4,
 "nbformat_minor": 4
}
