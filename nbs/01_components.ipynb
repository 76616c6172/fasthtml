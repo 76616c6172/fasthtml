{
 "cells": [
  {
   "cell_type": "code",
   "execution_count": null,
   "id": "56db45b6",
   "metadata": {},
   "outputs": [],
   "source": [
    "#| default_exp components"
   ]
  },
  {
   "cell_type": "markdown",
   "id": "80f4f9d8",
   "metadata": {},
   "source": [
    "# Components"
   ]
  },
  {
   "cell_type": "code",
   "execution_count": null,
   "id": "8e2d405b",
   "metadata": {},
   "outputs": [],
   "source": [
    "#| export\n",
    "from html.parser import HTMLParser\n",
    "from dataclasses import dataclass, asdict, is_dataclass, make_dataclass, replace, astuple, MISSING\n",
    "\n",
    "from fastcore.utils import *\n",
    "from fastcore.xml import *\n",
    "from fastcore.meta import use_kwargs, delegates\n",
    "\n",
    "try: from IPython import display\n",
    "except ImportError: display=None"
   ]
  },
  {
   "cell_type": "code",
   "execution_count": null,
   "id": "3ccb463a",
   "metadata": {},
   "outputs": [],
   "source": [
    "from lxml import html as lx\n",
    "from pprint import pprint"
   ]
  },
  {
   "cell_type": "code",
   "execution_count": null,
   "id": "ad9c6bf2",
   "metadata": {},
   "outputs": [],
   "source": [
    "#| export\n",
    "def show(xt,*rest):\n",
    "    if rest: xt = (xt,)+rest\n",
    "    return display.HTML(to_xml(xt))"
   ]
  },
  {
   "cell_type": "code",
   "execution_count": null,
   "id": "0ff9acc3",
   "metadata": {},
   "outputs": [],
   "source": [
    "#| export\n",
    "named = set('a button form frame iframe img input map meta object param select textarea'.split())\n",
    "html_attrs = 'id cls title style accesskey contenteditable dir draggable enterkeyhint hidden inert inputmode lang popover spellcheck tabindex translate'.split()\n",
    "hx_attrs = 'get post put delete patch trigger target swap include select indicator push_url confirm disable replace_url on'\n",
    "hx_attrs = html_attrs + [f'hx_{o}' for o in hx_attrs.split()]"
   ]
  },
  {
   "cell_type": "code",
   "execution_count": null,
   "id": "c8ade6b4",
   "metadata": {},
   "outputs": [],
   "source": [
    "#| export\n",
    "def xt_html(tag: str, *c, id=None, cls=None, title=None, style=None, **kwargs):\n",
    "    kwargs['id'],kwargs['cls'],kwargs['title'],kwargs['style'] = id,cls,title,style\n",
    "    tag,c,kw = xt(tag, *c, **kwargs)\n",
    "    if tag in named and 'id' in kw and 'name' not in kw: kw['name'] = kw['id']\n",
    "    return XT(tag,c,kw)"
   ]
  },
  {
   "cell_type": "code",
   "execution_count": null,
   "id": "d5158b3d",
   "metadata": {},
   "outputs": [],
   "source": [
    "#| export\n",
    "@use_kwargs(hx_attrs, keep=True)\n",
    "def xt_hx(tag: str, *c, target_id=None, **kwargs):\n",
    "    if target_id: kwargs['hx_target'] = '#'+target_id\n",
    "    return xt_html(tag, *c, **kwargs)"
   ]
  },
  {
   "cell_type": "code",
   "execution_count": null,
   "id": "ede9b44d",
   "metadata": {},
   "outputs": [],
   "source": [
    "#| export\n",
    "_g = globals()\n",
    "_all_ = ['Html', 'Head', 'Title', 'Meta', 'Link', 'Style', 'Body', 'Pre', 'Code',\n",
    "    'Div', 'Span', 'P', 'H1', 'H2', 'H3', 'H4', 'H5', 'H6', 'Strong', 'Em', 'B',\n",
    "    'I', 'U', 'S', 'Strike', 'Sub', 'Sup', 'Hr', 'Br', 'Img', 'Link', 'Nav',\n",
    "    'Ul', 'Ol', 'Li', 'Dl', 'Dt', 'Dd', 'Table', 'Thead', 'Tbody', 'Tfoot', 'Tr',\n",
    "    'Th', 'Td', 'Caption', 'Col', 'Colgroup', 'Form', 'Input', 'Textarea',\n",
    "    'Button', 'Select', 'Option', 'Label', 'Fieldset', 'Legend', 'Details', 'Dialog',\n",
    "    'Summary', 'Main', 'Header', 'Footer', 'Section', 'Article', 'Aside', 'Figure',\n",
    "    'Figcaption', 'Mark', 'Small', 'Iframe', 'Object', 'Embed', 'Param', 'Video',\n",
    "    'Audio', 'Source', 'Canvas', 'Svg', 'Math', 'Script', 'Noscript', 'Template', 'Slot']\n",
    "\n",
    "for o in _all_: _g[o] = partial(xt_hx, o.lower())"
   ]
  },
  {
   "cell_type": "code",
   "execution_count": null,
   "id": "38cbc02e",
   "metadata": {},
   "outputs": [],
   "source": [
    "#| hide\n",
    "both_attrs = html_attrs+hx_attrs\n",
    "\n",
    "with open('../fasthtml/components.pyi', 'w') as f:\n",
    "    attrs_str = ', '.join(f'{t}:str|None=None' for t in both_attrs)\n",
    "    f.write(f\"def xt_hx(tag: str, *c, {attrs_str}, **kwargs): ...\\n\")\n",
    "    for o in _all_:\n",
    "        attrs = (['name'] if o.lower() in named else []) + both_attrs\n",
    "        attrs_str = ', '.join(f'{t}:str|None=None' for t in attrs)\n",
    "        f.write(f\"def {o}(*c, {attrs_str}, **kwargs): ...\\n\")"
   ]
  },
  {
   "cell_type": "markdown",
   "id": "1b030be9",
   "metadata": {},
   "source": [
    "For tags that have a `name` attribute, it will be set to the value of `id` if not provided explicitly:"
   ]
  },
  {
   "cell_type": "code",
   "execution_count": null,
   "id": "ecbcfa18",
   "metadata": {},
   "outputs": [
    {
     "data": {
      "text/markdown": [
       "```xml\n",
       "<form hx-post=\"/\" hx-target=\"#tgt\" id=\"frm\" name=\"frm\">\n",
       "  <button hx-target=\"#foo\" id=\"btn\" name=\"btn\"></button>\n",
       "</form>\n",
       "\n",
       "```"
      ],
      "text/plain": [
       "['form',\n",
       " (['button', (), {'hx-target': '#foo', 'id': 'btn', 'name': 'btn'}],),\n",
       " {'hx-post': '/', 'hx-target': '#tgt', 'id': 'frm', 'name': 'frm'}]"
      ]
     },
     "execution_count": null,
     "metadata": {},
     "output_type": "execute_result"
    }
   ],
   "source": [
    "Form(Button(target_id='foo', id='btn'),\n",
    "     hx_post='/', target_id='tgt', id='frm')"
   ]
  },
  {
   "cell_type": "code",
   "execution_count": null,
   "id": "1df362c7",
   "metadata": {},
   "outputs": [],
   "source": [
    "#| export\n",
    "def _fill_item(item, obj):\n",
    "    if not isinstance(item,list): return item\n",
    "    tag,cs,attr = item\n",
    "    if isinstance(cs,tuple): cs = tuple(_fill_item(o, obj) for o in cs)\n",
    "    name = attr.get('name', None)\n",
    "    val = None if name is None else obj.get(name, None)\n",
    "    if val is not None:\n",
    "        if tag=='input':\n",
    "            if attr.get('type', '') in ('checkbox','radio'):\n",
    "                if val: attr['checked'] = '1'\n",
    "                else: attr.pop('checked', '')\n",
    "            else: attr['value'] = val\n",
    "        if tag=='textarea': cs=(val,)\n",
    "    return XT(tag,cs,attr)"
   ]
  },
  {
   "cell_type": "code",
   "execution_count": null,
   "id": "f0c83f26",
   "metadata": {},
   "outputs": [],
   "source": [
    "#| export\n",
    "def fill_form(form:XT, obj)->XT:\n",
    "    \"Fills named items in `form` using attributes in `obj`\"\n",
    "    if not isinstance(obj,dict): obj = asdict(obj)\n",
    "    return _fill_item(form, obj)"
   ]
  },
  {
   "cell_type": "code",
   "execution_count": null,
   "id": "caef04d9",
   "metadata": {},
   "outputs": [
    {
     "data": {
      "text/markdown": [
       "```xml\n",
       "<form>\n",
       "  <fieldset>\n",
       "    <input id=\"title\" name=\"title\" value=\"Profit\">\n",
       "    <label>\n",
       "      <input type=\"checkbox\" id=\"done\" name=\"done\" checked=\"1\">\n",
       "Done\n",
       "    </label>\n",
       "    <input type=\"hidden\" id=\"id\" name=\"id\" value=\"2\">\n",
       "    <textarea id=\"details\" name=\"details\">\n",
       "Details\n",
       "    </textarea>\n",
       "    <button>\n",
       "Save\n",
       "    </button>\n",
       "  </fieldset>\n",
       "</form>\n",
       "\n",
       "```"
      ],
      "text/plain": [
       "['form',\n",
       " (['fieldset',\n",
       "   (['input', (), {'id': 'title', 'name': 'title', 'value': 'Profit'}],\n",
       "    ['label',\n",
       "     (['input',\n",
       "       (),\n",
       "       {'type': 'checkbox', 'id': 'done', 'name': 'done', 'checked': '1'}],\n",
       "      'Done'),\n",
       "     {}],\n",
       "    ['input', (), {'type': 'hidden', 'id': 'id', 'name': 'id', 'value': 2}],\n",
       "    ['textarea', ('Details',), {'id': 'details', 'name': 'details'}],\n",
       "    ['button', ('Save',), {}]),\n",
       "   {}],),\n",
       " {}]"
      ]
     },
     "execution_count": null,
     "metadata": {},
     "output_type": "execute_result"
    }
   ],
   "source": [
    "@dataclass\n",
    "class TodoItem:\n",
    "    title:str; id:int; done:bool; details:str\n",
    "                \n",
    "todo = TodoItem(id=2, title=\"Profit\", done=True, details=\"Details\")\n",
    "check = Label(Input(type=\"checkbox\", id=\"done\"), \"Done\")\n",
    "form = Form(Fieldset(Input(id=\"title\"), check, Input(type=\"hidden\", id=\"id\"), Textarea(id='details'), Button(\"Save\")))\n",
    "form = fill_form(form, todo)\n",
    "form"
   ]
  },
  {
   "cell_type": "code",
   "execution_count": null,
   "id": "8b171490",
   "metadata": {},
   "outputs": [],
   "source": [
    "#|export\n",
    "def fill_dataclass(src, dest):\n",
    "    \"Modifies dataclass in-place and returns it\"\n",
    "    for nm,val in asdict(src).items(): setattr(dest, nm, val)\n",
    "    return dest"
   ]
  },
  {
   "cell_type": "code",
   "execution_count": null,
   "id": "77e3f785",
   "metadata": {},
   "outputs": [
    {
     "data": {
      "text/plain": [
       "TodoItem(title='Profit', id=2, done=True, details='Details')"
      ]
     },
     "execution_count": null,
     "metadata": {},
     "output_type": "execute_result"
    }
   ],
   "source": [
    "nt = TodoItem('', 0, False, '')\n",
    "fill_dataclass(todo, nt)\n",
    "nt"
   ]
  },
  {
   "cell_type": "code",
   "execution_count": null,
   "id": "c9594f70",
   "metadata": {},
   "outputs": [],
   "source": [
    "#| exports\n",
    "def find_inputs(e, tags='input', **kw):\n",
    "    # Recursively find all elements in `e` with `tags` and attrs matching `kw`\n",
    "    if not isinstance(e, (list,tuple)): return []\n",
    "    inputs = []\n",
    "    if isinstance(tags,str): tags = [tags]\n",
    "    elif tags is None: tags = []\n",
    "    cs = e\n",
    "    if isinstance(e, list):\n",
    "        tag,cs,attr = e\n",
    "        if e[0] in tags and kw.items()<=e[2].items(): inputs.append(e)\n",
    "    for o in cs: inputs += find_inputs(o, tags, **kw)\n",
    "    return inputs"
   ]
  },
  {
   "cell_type": "code",
   "execution_count": null,
   "id": "7e740aac",
   "metadata": {},
   "outputs": [
    {
     "data": {
      "text/plain": [
       "[['input', (), {'id': 'title', 'name': 'title', 'value': 'Profit'}]]"
      ]
     },
     "execution_count": null,
     "metadata": {},
     "output_type": "execute_result"
    }
   ],
   "source": [
    "find_inputs(form, id='title')"
   ]
  },
  {
   "cell_type": "markdown",
   "id": "04b4f6c7",
   "metadata": {},
   "source": [
    "You can also use lxml for more sophisticated searching:"
   ]
  },
  {
   "cell_type": "code",
   "execution_count": null,
   "id": "e551de91",
   "metadata": {},
   "outputs": [
    {
     "data": {
      "text/plain": [
       "['Profit']"
      ]
     },
     "execution_count": null,
     "metadata": {},
     "output_type": "execute_result"
    }
   ],
   "source": [
    "elem = lx.fromstring(to_xml(form))\n",
    "elem.xpath(\"//input[@id='title']/@value\")"
   ]
  },
  {
   "cell_type": "code",
   "execution_count": null,
   "id": "1d8a28b1",
   "metadata": {},
   "outputs": [],
   "source": [
    "#| export\n",
    "def __getattr__(tag):\n",
    "    if tag.startswith('_') or tag[0].islower(): raise AttributeError\n",
    "    def _f(*c, target_id=None, **kwargs): return xt_hx(tag, *c, target_id=target_id, **kwargs)\n",
    "    return _f"
   ]
  },
  {
   "cell_type": "markdown",
   "id": "474e14b4",
   "metadata": {},
   "source": [
    "# Export -"
   ]
  },
  {
   "cell_type": "code",
   "execution_count": null,
   "id": "d211e8e2",
   "metadata": {},
   "outputs": [],
   "source": [
    "#|hide\n",
    "import nbdev; nbdev.nbdev_export()"
   ]
  },
  {
   "cell_type": "code",
   "execution_count": null,
   "id": "0a942593",
   "metadata": {},
   "outputs": [],
   "source": []
  }
 ],
 "metadata": {
  "kernelspec": {
   "display_name": "python3",
   "language": "python",
   "name": "python3"
  }
 },
 "nbformat": 4,
 "nbformat_minor": 5
}
