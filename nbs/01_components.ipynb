{
 "cells": [
  {
   "cell_type": "code",
   "execution_count": null,
   "id": "56db45b6",
   "metadata": {},
   "outputs": [],
   "source": [
    "#| default_exp components"
   ]
  },
  {
   "cell_type": "markdown",
   "id": "80f4f9d8",
   "metadata": {},
   "source": [
    "# Components"
   ]
  },
  {
   "cell_type": "code",
   "execution_count": null,
   "id": "8e2d405b",
   "metadata": {},
   "outputs": [],
   "source": [
    "#| export\n",
    "from html.parser import HTMLParser\n",
    "from dataclasses import dataclass, asdict\n",
    "\n",
    "from fastcore.utils import *\n",
    "from fastcore.xml import *\n",
    "from fastcore.meta import use_kwargs, delegates\n",
    "\n",
    "try: from IPython import display\n",
    "except ImportError: display=None"
   ]
  },
  {
   "cell_type": "code",
   "execution_count": null,
   "id": "3ccb463a",
   "metadata": {},
   "outputs": [],
   "source": [
    "from lxml import html as lx"
   ]
  },
  {
   "cell_type": "code",
   "execution_count": null,
   "id": "ad9c6bf2",
   "metadata": {},
   "outputs": [],
   "source": [
    "#| export\n",
    "def show(xt,*rest):\n",
    "    if rest: xt = (xt,)+rest\n",
    "    return display.HTML(to_xml(xt))"
   ]
  },
  {
   "cell_type": "code",
   "execution_count": null,
   "id": "0ff9acc3",
   "metadata": {},
   "outputs": [],
   "source": [
    "#| export\n",
    "named = set('a button form frame iframe img input map meta object param select textarea'.split())\n",
    "html_attrs = 'id cls title style accesskey contenteditable dir draggable enterkeyhint hidden inert inputmode lang popover spellcheck tabindex translate'.split()\n",
    "hx_attrs = 'get post put delete patch trigger target swap include select indicator push_url confirm disable replace_url on'\n",
    "hx_attrs = html_attrs + [f'hx_{o}' for o in hx_attrs.split()]"
   ]
  },
  {
   "cell_type": "code",
   "execution_count": null,
   "id": "c8ade6b4",
   "metadata": {},
   "outputs": [],
   "source": [
    "#| export\n",
    "def xt_html(tag: str, *c, id=None, cls=None, title=None, style=None, **kwargs):\n",
    "    kwargs['id'],kwargs['cls'],kwargs['title'],kwargs['style'] = id,cls,title,style\n",
    "    tag,c,kw = xt(tag, *c, **kwargs)\n",
    "    if tag in named and 'id' in kw and 'name' not in kw: kw['name'] = kw['id']\n",
    "    return XT([tag,c,kw])"
   ]
  },
  {
   "cell_type": "code",
   "execution_count": null,
   "id": "d5158b3d",
   "metadata": {},
   "outputs": [],
   "source": [
    "#| export\n",
    "@use_kwargs(hx_attrs, keep=True)\n",
    "def xt_hx(tag: str, *c, target_id=None, **kwargs):\n",
    "    if target_id: kwargs['hx_target'] = '#'+target_id\n",
    "    return xt_html(tag, *c, **kwargs)"
   ]
  },
  {
   "cell_type": "code",
   "execution_count": null,
   "id": "ede9b44d",
   "metadata": {},
   "outputs": [],
   "source": [
    "#| export\n",
    "_g = globals()\n",
    "_all_ = ['Html', 'Head', 'Title', 'Meta', 'Link', 'Style', 'Body', 'Pre', 'Code',\n",
    "    'Div', 'Span', 'P', 'H1', 'H2', 'H3', 'H4', 'H5', 'H6', 'Strong', 'Em', 'B',\n",
    "    'I', 'U', 'S', 'Strike', 'Sub', 'Sup', 'Hr', 'Br', 'Img', 'Link', 'Nav',\n",
    "    'Ul', 'Ol', 'Li', 'Dl', 'Dt', 'Dd', 'Table', 'Thead', 'Tbody', 'Tfoot', 'Tr',\n",
    "    'Th', 'Td', 'Caption', 'Col', 'Colgroup', 'Form', 'Input', 'Textarea',\n",
    "    'Button', 'Select', 'Option', 'Label', 'Fieldset', 'Legend', 'Details', 'Dialog',\n",
    "    'Summary', 'Main', 'Header', 'Footer', 'Section', 'Article', 'Aside', 'Figure',\n",
    "    'Figcaption', 'Mark', 'Small', 'Iframe', 'Object', 'Embed', 'Param', 'Video',\n",
    "    'Audio', 'Source', 'Canvas', 'Svg', 'Math', 'Script', 'Noscript', 'Template', 'Slot']\n",
    "\n",
    "for o in _all_: _g[o] = partial(xt_hx, o.lower())"
   ]
  },
  {
   "cell_type": "code",
   "execution_count": null,
   "id": "38cbc02e",
   "metadata": {},
   "outputs": [],
   "source": [
    "#| hide\n",
    "both_attrs = html_attrs+hx_attrs\n",
    "\n",
    "with open('../fasthtml/components.pyi', 'w') as f:\n",
    "    attrs_str = ', '.join(f'{t}:str|None=None' for t in both_attrs)\n",
    "    f.write(f\"def xt_hx(tag: str, *c, {attrs_str}, **kwargs): ...\\n\")\n",
    "    for o in _all_:\n",
    "        attrs = (['name'] if o.lower() in named else []) + both_attrs\n",
    "        attrs_str = ', '.join(f'{t}:str|None=None' for t in attrs)\n",
    "        f.write(f\"def {o}(*c, {attrs_str}, **kwargs): ...\\n\")"
   ]
  },
  {
   "cell_type": "markdown",
   "id": "1b030be9",
   "metadata": {},
   "source": [
    "For tags that have a `name` attribute, it will be set to the value of `id` if not provided explicitly:"
   ]
  },
  {
   "cell_type": "code",
   "execution_count": null,
   "id": "ecbcfa18",
   "metadata": {},
   "outputs": [
    {
     "data": {
      "text/html": [
       "<code><pre>\n",
       "&lt;form hx-post=&quot;/&quot; hx-target=&quot;#tgt&quot; id=&quot;frm&quot; name=&quot;frm&quot;&gt;\n",
       "  &lt;button hx-target=&quot;#foo&quot; id=&quot;btn&quot; name=&quot;btn&quot;&gt;&lt;/button&gt;\n",
       "&lt;/form&gt;\n",
       "\n",
       "</code></pre>"
      ],
      "text/plain": [
       "['form',\n",
       " (['button', (), {'hx-target': '#foo', 'id': 'btn', 'name': 'btn'}],),\n",
       " {'hx-post': '/', 'hx-target': '#tgt', 'id': 'frm', 'name': 'frm'}]"
      ]
     },
     "execution_count": null,
     "metadata": {},
     "output_type": "execute_result"
    }
   ],
   "source": [
    "Form(Button(target_id='foo', id='btn'),\n",
    "     hx_post='/', target_id='tgt', id='frm')"
   ]
  },
  {
   "cell_type": "code",
   "execution_count": null,
   "id": "0e5a0e2e",
   "metadata": {},
   "outputs": [],
   "source": [
    "#| export\n",
    "def set_val(tag, attr, val):\n",
    "    if attr.get('type', '') in ('checkbox','radio'):\n",
    "        if val: attr['checked'] = '1'\n",
    "        else: attr.pop('checked', '')\n",
    "    else: attr['value'] = val"
   ]
  },
  {
   "cell_type": "code",
   "execution_count": null,
   "id": "60172692",
   "metadata": {},
   "outputs": [],
   "source": [
    "#| export\n",
    "def find_inps(html):\n",
    "    if not html: return []\n",
    "    tag,cs,attrs = html\n",
    "    if tag == 'input': return [html]\n",
    "    res = []\n",
    "    for c in cs:\n",
    "        if isinstance(c, list): res.extend(find_inps(c))\n",
    "    return res"
   ]
  },
  {
   "cell_type": "code",
   "execution_count": null,
   "id": "f0c83f26",
   "metadata": {},
   "outputs": [],
   "source": [
    "#| export\n",
    "def fill_form(form, obj):\n",
    "    \"Modifies form in-place and returns it\"\n",
    "    inps = find_inps(form)\n",
    "    inps = {attrs['id']:(tag,attrs) for tag,c,attrs in inps if 'id' in attrs}\n",
    "    for nm,val in asdict(obj).items():\n",
    "        if nm in inps:\n",
    "            tag,attr = inps[nm]\n",
    "            set_val(tag, attr, val)\n",
    "    return form"
   ]
  },
  {
   "cell_type": "code",
   "execution_count": null,
   "id": "caef04d9",
   "metadata": {},
   "outputs": [
    {
     "data": {
      "text/html": [
       "<code><pre>\n",
       "&lt;form&gt;\n",
       "  &lt;fieldset&gt;\n",
       "    &lt;input id=&quot;title&quot; name=&quot;title&quot; value=&quot;Profit&quot;&gt;\n",
       "    &lt;input type=&quot;checkbox&quot; id=&quot;done&quot; name=&quot;done&quot; checked=&quot;1&quot;&gt;\n",
       "      &lt;label&gt;\n",
       "Done\n",
       "      &lt;/label&gt;\n",
       "    &lt;input type=&quot;hidden&quot; id=&quot;id&quot; name=&quot;id&quot; value=&quot;2&quot;&gt;\n",
       "    &lt;button&gt;\n",
       "Save\n",
       "    &lt;/button&gt;\n",
       "  &lt;/fieldset&gt;\n",
       "&lt;/form&gt;\n",
       "\n",
       "</code></pre>"
      ],
      "text/plain": [
       "['form',\n",
       " (['fieldset',\n",
       "   (['input', (), {'id': 'title', 'name': 'title', 'value': 'Profit'}],\n",
       "    ['input',\n",
       "     (['label', ('Done',), {}],),\n",
       "     {'type': 'checkbox', 'id': 'done', 'name': 'done', 'checked': '1'}],\n",
       "    ['input', (), {'type': 'hidden', 'id': 'id', 'name': 'id', 'value': 2}],\n",
       "    ['button', ('Save',), {}]),\n",
       "   {}],),\n",
       " {}]"
      ]
     },
     "execution_count": null,
     "metadata": {},
     "output_type": "execute_result"
    }
   ],
   "source": [
    "@dataclass\n",
    "class TodoItem:\n",
    "    title:str; id:int; done:bool\n",
    "                \n",
    "todo = TodoItem(id=2, title=\"Profit\", done=True)\n",
    "check = Input(Label(\"Done\"), type=\"checkbox\", id=\"done\")\n",
    "form = Form(Fieldset(Input(id=\"title\"), check, Input(type=\"hidden\", id=\"id\"), Button(\"Save\")))\n",
    "fill_form(form, todo)"
   ]
  },
  {
   "cell_type": "code",
   "execution_count": null,
   "id": "8b171490",
   "metadata": {},
   "outputs": [],
   "source": [
    "#|export\n",
    "def fill_dataclass(src, dest):\n",
    "    \"Modifies dataclass in-place and returns it\"\n",
    "    for nm,val in asdict(src).items(): setattr(dest, nm, val)\n",
    "    return dest"
   ]
  },
  {
   "cell_type": "code",
   "execution_count": null,
   "id": "77e3f785",
   "metadata": {},
   "outputs": [
    {
     "data": {
      "text/plain": [
       "TodoItem(title='Profit', id=2, done=True)"
      ]
     },
     "execution_count": null,
     "metadata": {},
     "output_type": "execute_result"
    }
   ],
   "source": [
    "nt = TodoItem('', 0, False)\n",
    "fill_dataclass(todo, nt)\n",
    "nt"
   ]
  },
  {
   "cell_type": "code",
   "execution_count": null,
   "id": "f33b9eea",
   "metadata": {},
   "outputs": [],
   "source": [
    "#| export\n",
    "class _FindElems(HTMLParser):\n",
    "    def __init__(self, tag=None, attr=None, **props):\n",
    "        super().__init__()\n",
    "        self.tag,self.attr,self.props = tag,attr,props\n",
    "        self.res = []\n",
    "\n",
    "    def handle_starttag(self, tag, attrs):\n",
    "        if self.tag and tag!=self.tag: return\n",
    "        d = dict(attrs)\n",
    "        if [k for k,v in self.props.items() if d.get(k,None)==v]:\n",
    "            self.res.append(d.get(self.attr, None) if self.attr else d)"
   ]
  },
  {
   "cell_type": "code",
   "execution_count": null,
   "id": "8439d070",
   "metadata": {},
   "outputs": [],
   "source": [
    "#| export\n",
    "def find_elems(s:XT|str, tag=None, attr=None, **props):\n",
    "    \"Find elements in `s` with `tag` (if supplied) and `props`, returning `attr`\"\n",
    "    o = _FindElems(tag, attr, **props)\n",
    "    o.feed(to_xml(s))\n",
    "    return o.res"
   ]
  },
  {
   "cell_type": "code",
   "execution_count": null,
   "id": "f6d33549",
   "metadata": {},
   "outputs": [
    {
     "data": {
      "text/plain": [
       "['Profit']"
      ]
     },
     "execution_count": null,
     "metadata": {},
     "output_type": "execute_result"
    }
   ],
   "source": [
    "find_elems(form, 'input', 'value', id='title')"
   ]
  },
  {
   "cell_type": "code",
   "execution_count": null,
   "id": "e551de91",
   "metadata": {},
   "outputs": [
    {
     "data": {
      "text/plain": [
       "['Profit']"
      ]
     },
     "execution_count": null,
     "metadata": {},
     "output_type": "execute_result"
    }
   ],
   "source": [
    "elem = lx.fromstring(to_xml(form))\n",
    "elem.xpath(\"//input[@id='title']/@value\")"
   ]
  },
  {
   "cell_type": "markdown",
   "id": "474e14b4",
   "metadata": {},
   "source": [
    "# Export -"
   ]
  },
  {
   "cell_type": "code",
   "execution_count": null,
   "id": "d211e8e2",
   "metadata": {},
   "outputs": [],
   "source": [
    "#|hide\n",
    "import nbdev; nbdev.nbdev_export()"
   ]
  },
  {
   "cell_type": "code",
   "execution_count": null,
   "id": "0a942593",
   "metadata": {},
   "outputs": [],
   "source": []
  }
 ],
 "metadata": {
  "kernelspec": {
   "display_name": "python3",
   "language": "python",
   "name": "python3"
  }
 },
 "nbformat": 4,
 "nbformat_minor": 5
}
