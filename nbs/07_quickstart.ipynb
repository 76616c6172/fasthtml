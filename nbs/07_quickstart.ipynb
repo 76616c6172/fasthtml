{
 "cells": [
  {
   "cell_type": "markdown",
   "metadata": {},
   "source": [
    "# Quickstart\n",
    "\n",
    "> This page provides a fast introduction to FastHTML that covers most of what you need to be useful. This document is a work in progress, "
   ]
  },
  {
   "cell_type": "code",
   "execution_count": null,
   "metadata": {},
   "outputs": [],
   "source": [
    "#| default_exp core"
   ]
  },
  {
   "cell_type": "code",
   "execution_count": null,
   "metadata": {},
   "outputs": [],
   "source": [
    "#| hide\n",
    "from nbdev.showdoc import *"
   ]
  },
  {
   "cell_type": "markdown",
   "metadata": {},
   "source": [
    "## Installation"
   ]
  },
  {
   "cell_type": "code",
   "execution_count": null,
   "metadata": {
    "vscode": {
     "languageId": "shellscript"
    }
   },
   "outputs": [],
   "source": [
    "pip install python-fasthtml"
   ]
  },
  {
   "cell_type": "markdown",
   "metadata": {},
   "source": [
    "## A Minimal Application\n",
    "\n",
    "A minimal FastHTML application looks something like this:"
   ]
  },
  {
   "cell_type": "markdown",
   "metadata": {},
   "source": [
    "```{.python filename=\"main.py\" code-line-numbers=\"true\"}\n",
    "from fasthtml.fastapp import * \n",
    "\n",
    "app, rt = fast_app()\n",
    "\n",
    "@app.get(\"/\")\n",
    "def home():\n",
    "    return Titled(\"FastHTML\",\n",
    "        P(\"Let's do this!\"))\n",
    "\n",
    "run_uv()\n",
    "```"
   ]
  },
  {
   "cell_type": "markdown",
   "metadata": {},
   "source": [
    "What does that code do?\n",
    "\n",
    "1. First we imported the FastHTML namespace on line 1. This is a carefully specified set of functions and other Python objects designed to optimize development of FastHTML projects. \n",
    "\n",
    "2. Next on line 3 we instantiate the FastHTML app with the `fast_app()` utility function. This provides a number of really useful defaults that we'll take advantage of later in the tutorial. \n",
    "\n",
    "3. Then on line 5 we use the `app.get()` decorator to tell FastTML what URL should trigger our view function if visited with an HTTP GET. By HTTP GET we mean \"go to that location in our browser\"\n",
    "\n",
    "4. Line 6 is where we define our function name.\n",
    "\n",
    "5. On line 7 we return several functions that describe all the HTML required to write a properly formed web page.\n",
    "\n",
    "6. Finally, on line 10 the `run_uv()` utility configures and runs FastHTML using a library called `uvicorn`.\n",
    "\n",
    "Run the code:\n",
    "\n",
    "```bash\n",
    "python main.py\n",
    "```\n",
    "\n",
    "The terminal will look like this:\n",
    "\n",
    "```bash\n",
    "INFO:     Uvicorn running on http://0.0.0.0:5001 (Press CTRL+C to quit)\n",
    "INFO:     Started reloader process [58058] using WatchFiles\n",
    "INFO:     Started server process [58060]\n",
    "INFO:     Waiting for application startup.\n",
    "INFO:     Application startup complete.\n",
    "```"
   ]
  },
  {
   "cell_type": "markdown",
   "metadata": {},
   "source": [
    "Confirm FastHTML is running by opening your web browser to this linl: [127.0.0.1:5001](http://127.0.0.1:5001). You should see something like the image below:\n",
    "\n",
    "![](quickstart-fasthtml.png)\n",
    "\n",
    "We did it! Now that we've got the program running, let's view the source of the HTML page. It should look something like this:\n",
    "\n",
    "```html\n",
    "<!doctype html>\n",
    "\n",
    "<html>\n",
    "  <head>\n",
    "    <title>FastHTML</title>\n",
    "    <meta charset=\"utf-8\"></meta>\n",
    "    <meta name=\"viewport\" content=\"width=device-width, initial-scale=1, viewport-fit=cover\"></meta>\n",
    "    <script src=\"https://unpkg.com/htmx.org@next/dist/htmx.min.js\"></script>\n",
    "    <script src=\"https://cdn.jsdelivr.net/gh/answerdotai/surreal@1.3.0/surreal.js\"></script>\n",
    "    <script src=\"https://cdn.jsdelivr.net/gh/gnat/css-scope-inline@main/script.js\"></script>\n",
    "    <link rel=\"stylesheet\" href=\"https://cdn.jsdelivr.net/npm/@picocss/pico@latest/css/pico.min.css\">\n",
    "    <style>:root { --pico-font-size: 100%; }</style>\n",
    "  </head>\n",
    "  <body>\n",
    "<main class=\"container\">\n",
    "  <h1>FastHTML</h1>\n",
    "  <p>Let&#x27;s do this!</p>\n",
    "</main>\n",
    "  </body>\n",
    "</html>\n",
    "\n",
    "```"
   ]
  },
  {
   "cell_type": "markdown",
   "metadata": {},
   "source": [
    "## A Minimal Charting Application\n",
    "\n",
    "```python\n",
    "import json\n",
    "from fasthtml.common import * \n",
    "\n",
    "app, rt = fast_app(hdrs=(Script(src=\"https://cdn.plot.ly/plotly-2.32.0.min.js\"),))\n",
    "\n",
    "data = json.dumps({\n",
    "    \"data\": [\n",
    "            {\n",
    "            \"x\": [1, 2, 3, 4],\n",
    "            \"type\": \"scatter\"\n",
    "            },\n",
    "\n",
    "            {\n",
    "            \"x\": [1, 2, 3, 4],\n",
    "            \"y\": [16, 5, 11, 9],\n",
    "            \"type\": \"scatter\"\n",
    "            }\n",
    "        ],\n",
    "    \"title\": \"Plotly chart in FastHTML \",\n",
    "    \"description\": \"This is a demo dashboard\",\n",
    "    \"type\": \"scatter\"\n",
    "})\n",
    "\n",
    "\n",
    "@app.get(\"/\")\n",
    "def home():\n",
    "  return Titled(\"FastHTML\", P(\"Let's do this!\"), Div(id=\"myDiv\"),\n",
    "    Script(f\"var data = {json.loads(data)}; Plotly.newPlot('myDiv', data);\"))\n",
    "\n",
    "run_uv()\n",
    "```"
   ]
  },
  {
   "cell_type": "markdown",
   "metadata": {},
   "source": [
    "## Routing\n",
    "\n",
    "Friendly URLs are intuitive and helpful to users, and easier to maintain for coders. Users are more likely to use your project if they can remember URLs without much effort. Fortunately, FastHTML uses the Python community's common pattern for specifying URLs.\n",
    "\n",
    "```{.python filename=\"main.py\" code-line-numbers=\"true\"}\n",
    "from fasthtml.fastapp import * \n",
    "\n",
    "app, rt = fast_app()\n",
    "\n",
    "@app.get(\"/\")  # <1>\n",
    "def home():\n",
    "  return Titled(\"FastHTML\", P(\"Let's do this!\"))\n",
    "\n",
    "@app.get(\"/hello\")  # <2>\n",
    "def hello():\n",
    "  return Titled(\"Hello, world!\")\n",
    "\n",
    "run_uv()\n",
    "```\n",
    "\n",
    "1. The \"/\" URL on line 5 is the home of a project. This would be accessed at [127.0.0.1:5001](http://127.0.0.1:5001).\n",
    "2. \"/hello\" URL on line 9 will be found by the project if the user visits [127.0.0.1:5001/hello](http://127.0.0.1:5001/hello).\n",
    "\n",
    "You can do more! Read on to learn what we can do to make parts of the URL dynamic.\n",
    "\n",
    "## Variable in URLs\n",
    "\n",
    "You can add variable sections to a URL by marking sections with `{variable_name}`. Your function then receives the `{variable_name}` as a keyword argument, but only if it is the correct type. Here's an example:\n",
    "\n",
    "```{.python filename=\"main.py\" code-line-numbers=\"true\"}\n",
    "from fasthtml.fastapp import * \n",
    "\n",
    "app, rt = fast_app()\n",
    "\n",
    "@app.get(\"/\")\n",
    "def home():\n",
    "  return Titled(\"FastHTML\", P(\"Let's do this!\"))\n",
    "\n",
    "@app.get(\"/{name}/{age}\")  # <3>\n",
    "def namer(name: str, age: int):  # <4>\n",
    "  return Titled(f\"Hello {name.title()}, age {age}\")  # <5>\n",
    "\n",
    "run_uv()\n",
    "```\n",
    "\n",
    "3. On line 9 we specify two variable names, `name` and `age`\n",
    "4. On line 10 we define two function arguments named identically to the variables. You will note that we specify the Python types to be passed\n",
    "5. On line 11, we use these functions in our project\n",
    "\n",
    "Try it out by going to this address: [127.0.0.1:5001/uma/5](http://127.0.0.1:5001/uma/5). You should get a page that says,\n",
    "\n",
    "> \"Hello Uma, age 5\".\n",
    "\n",
    "\n",
    "### What happens if we enter incorrect data?\n",
    "\n",
    "The [127.0.0.1:5001/uma/5](http://127.0.0.1:5001/uma/5) URL works because `5` is an integer. If we enter something that is not, such as [127.0.0.1:5001/uma/five](http://127.0.0.1:5001/uma/five), then FastHTML will return an error instead of a web page.\n",
    "\n",
    "::: {.callout-note}\n",
    "### FastHTML URL routing supports more complex types\n",
    "\n",
    "The two examples we provide here use Python's built-in `str` and `int` types, but you can use your own types, including more complex ones such as those defined by libraries like [attrs](https://pypi.org/project/attrs/), [pydantic](https://pypi.org/project/pydantic/), and even [sqlmodel](https://pypi.org/project/attrs/). \n",
    ":::\n",
    "\n",
    "\n",
    "## HTTP Methods\n",
    "\n",
    "Most commonly URL routes for web apps are defined as HTTP GET methods. However, form submissions often are sent as HTTP POST. When dealing with more dynamic web page designs, also known as Single Page Apps (SPA for short), the need can arise for other methods such as HTTP PUT and HTTP DELETE. The way FastHTML handles this is by changing the decorator.\n",
    "\n",
    "```{.python filename=\"main.py\" code-line-numbers=\"true\"}\n",
    "from fasthtml.fastapp import * \n",
    "\n",
    "app, rt = fast_app()\n",
    "\n",
    "@app.get(\"/\")  # <6>\n",
    "def handle_get():\n",
    "  return Titled(\"HTTP GET\", P(\"Handle GET\"))\n",
    "\n",
    "@app.post(\"/\")  # <7>\n",
    "def handle_post():\n",
    "  return Titled(\"HTTP POST\", P(\"Handle POST\"))\n",
    "\n",
    "run_uv()\n",
    "```\n",
    "\n",
    "6. On line 5 the `app.get()` decorator is used\n",
    "7. On line 10 the `app.post()` decorator is used\n",
    "\n",
    "\n",
    "\n",
    "\n"
   ]
  },
  {
   "cell_type": "markdown",
   "metadata": {},
   "source": [
    "## Static Files\n",
    "\n",
    "FastHTML automatically handles common usecase for static media. That is to say, reasonably sized JavaScript, CSS, and images. The links and scripts and image tags for them are straight-forward in implementation. In the example below, we use the defaults to demonstrate how to implement the [Sakura css microframework]() instead of FastHTML's default use of Picocss.\n",
    "\n",
    "```{.python filename=\"main.py\" code-line-numbers=\"true\"}\n",
    "from fasthtml.fastapp import * \n",
    "\n",
    "app, rt = fast_app(\n",
    "    default_hdrs=False,  # <8>\n",
    "    hdrs=(\n",
    "        Link(rel='stylesheet', href='assets/normalize.min.css', type='text/css'),\n",
    "        Link(rel='stylesheet', href='assets/sakura.css', type='text/css'),  # <9>\n",
    "        Style(\"p {color: red;}\")  # <10>\n",
    "))\n",
    "\n",
    "@app.get(\"/\")\n",
    "def home():\n",
    "    return Titled(\"FastHTML\",\n",
    "        P(\"Let's do this!\"),\n",
    "    )\n",
    "\n",
    "run_uv()\n",
    "```\n",
    "\n",
    "8. By setting `default_hdrs` to `False`, FastHTML will not include picocss.\n",
    "9. This will generate an HTML `<link>` tag for sourcing the css for Sakura.\n",
    "10. If you want an inline styles, the `Style()` function will put the result into the HTML.\n",
    "\n",
    "Check it out!\n",
    "\n",
    "![](quickstart-sakura.png)"
   ]
  },
  {
   "cell_type": "markdown",
   "metadata": {},
   "source": [
    "The HTML:\n",
    "\n",
    "```python\n",
    "<!doctype html>\n",
    "\n",
    "<html>\n",
    "  <head>\n",
    "    <title>FastHTML</title>\n",
    "    <link rel=\"stylesheet\" href=\"assets/normalize.min.css\" type=\"text/css\">\n",
    "    <link rel=\"stylesheet\" href=\"assets/sakura.css\" type=\"text/css\">\n",
    "    <style>p {color: red;}</style>    \n",
    "  </head>\n",
    "  <body>\n",
    "<main class=\"container\">\n",
    "  <h1>FastHTML</h1>\n",
    "  <p>Let&#x27;s do this!</p>\n",
    "</main>\n",
    "  </body>\n",
    "</html>\n",
    "\n",
    "```"
   ]
  },
  {
   "cell_type": "markdown",
   "metadata": {},
   "source": [
    "## Advanced Static Media\n",
    "\n",
    "If you want to customize your static media handler, you can define your own handler. \n",
    "\n",
    "```python\n",
    "@rt(\"/{fname:path}.{ext:static}\")\n",
    "async def get(fname:str, ext:str): return FileResponse(f'public/{fname}.{ext}')\n",
    "```"
   ]
  },
  {
   "cell_type": "markdown",
   "metadata": {
    "vscode": {
     "languageId": "shellscript"
    }
   },
   "source": [
    "## Unwritten quickstart sections\n",
    "\n",
    "1. Debug setting in fast_app\n",
    "2. Rendering markdown\n",
    "3. Code highlighting\n",
    "4. Defining simple components of our own\n",
    "5. Cookies\n",
    "6. Sessions\n",
    "7. Toast messages\n",
    "8. BeforeWare and AfterWare"
   ]
  },
  {
   "cell_type": "code",
   "execution_count": null,
   "metadata": {},
   "outputs": [],
   "source": [
    "#| hide\n",
    "import nbdev; nbdev.nbdev_export()"
   ]
  }
 ],
 "metadata": {
  "kernelspec": {
   "display_name": "python3",
   "language": "python",
   "name": "python3"
  },
  "language_info": {
   "codemirror_mode": {
    "name": "ipython",
    "version": 3
   },
   "file_extension": ".py",
   "mimetype": "text/x-python",
   "name": "python",
   "nbconvert_exporter": "python",
   "pygments_lexer": "ipython3",
   "version": "3.12.3"
  }
 },
 "nbformat": 4,
 "nbformat_minor": 4
}
