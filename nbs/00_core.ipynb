{
 "cells": [
  {
   "cell_type": "code",
   "execution_count": null,
   "id": "8656ed20",
   "metadata": {},
   "outputs": [],
   "source": [
    "#| default_exp core"
   ]
  },
  {
   "cell_type": "markdown",
   "id": "2161d9b5",
   "metadata": {},
   "source": [
    "# API Details"
   ]
  },
  {
   "cell_type": "code",
   "execution_count": null,
   "id": "0c0c2292",
   "metadata": {},
   "outputs": [],
   "source": [
    "#| export\n",
    "import json, dateutil\n",
    "\n",
    "from fastcore.utils import *\n",
    "from fastcore.xml import *\n",
    "\n",
    "from types import UnionType, SimpleNamespace as ns\n",
    "from typing import Optional, get_type_hints, get_args, get_origin, Union, Mapping\n",
    "from datetime import datetime\n",
    "from dataclasses import dataclass,fields,is_dataclass,MISSING,asdict\n",
    "from collections import namedtuple\n",
    "from inspect import isfunction,ismethod,signature,Parameter,get_annotations\n",
    "from functools import wraps, partialmethod\n",
    "\n",
    "from starlette.applications import Starlette\n",
    "from starlette.routing import Route, Mount, Router\n",
    "from starlette.responses import Response, HTMLResponse, FileResponse, JSONResponse\n",
    "from starlette.requests import Request\n",
    "from starlette.staticfiles import StaticFiles\n",
    "from starlette.exceptions import HTTPException\n",
    "from starlette._utils import is_async_callable\n",
    "from starlette.convertors import Convertor, StringConvertor, register_url_convertor, CONVERTOR_TYPES"
   ]
  },
  {
   "cell_type": "code",
   "execution_count": null,
   "id": "5f824904",
   "metadata": {},
   "outputs": [],
   "source": [
    "import time\n",
    "\n",
    "from IPython import display\n",
    "from enum import Enum\n",
    "from pprint import pprint\n",
    "\n",
    "from fastcore.test import *\n",
    "from starlette.testclient import TestClient"
   ]
  },
  {
   "cell_type": "code",
   "execution_count": null,
   "id": "f0aea6a8",
   "metadata": {},
   "outputs": [],
   "source": [
    "#| export\n",
    "empty = Parameter.empty"
   ]
  },
  {
   "cell_type": "code",
   "execution_count": null,
   "id": "bd2e5c0a",
   "metadata": {},
   "outputs": [],
   "source": [
    "#| export\n",
    "def is_namedtuple(cls):\n",
    "    return issubclass(cls, tuple) and hasattr(cls, '_fields')"
   ]
  },
  {
   "cell_type": "code",
   "execution_count": null,
   "id": "6f518ca5",
   "metadata": {},
   "outputs": [],
   "source": [
    "#| export\n",
    "def date(s): return dateutil.parser.parse(s)"
   ]
  },
  {
   "cell_type": "code",
   "execution_count": null,
   "id": "b2d44106",
   "metadata": {},
   "outputs": [],
   "source": [
    "#| export\n",
    "def snake2hyphens(s):\n",
    "    s = snake2camel(s)\n",
    "    return camel2words(s, '-')"
   ]
  },
  {
   "cell_type": "code",
   "execution_count": null,
   "id": "490eb390",
   "metadata": {},
   "outputs": [],
   "source": [
    "#| export\n",
    "htmx_hdrs = dict(\n",
    "    boosted=\"HX-Boosted\",\n",
    "    current_url=\"HX-Current-URL\",\n",
    "    history_restore_request=\"HX-History-Restore-Request\",\n",
    "    prompt=\"HX-Prompt\",\n",
    "    request=\"HX-Request\",\n",
    "    target=\"HX-Target\",\n",
    "    trigger_name=\"HX-Trigger-Name\",\n",
    "    trigger=\"HX-Trigger\")\n",
    "\n",
    "@dataclass\n",
    "class HtmxHeaders:\n",
    "    boosted:str|None=None; current_url:str|None=None; history_restore_request:str|None=None; prompt:str|None=None\n",
    "    request:str|None=None; target:str|None=None; trigger_name:str|None=None; trigger:str|None=None\n",
    "    def __bool__(self): return any(hasattr(self,o) for o in htmx_hdrs)\n",
    "\n",
    "def _get_htmx(req):\n",
    "    res = {k:req.headers.get(v.lower(), None) for k,v in htmx_hdrs.items()}\n",
    "    return HtmxHeaders(**res)"
   ]
  },
  {
   "cell_type": "code",
   "execution_count": null,
   "id": "3052d614",
   "metadata": {},
   "outputs": [],
   "source": [
    "#| export\n",
    "def str2int(s)->int:\n",
    "    \"Convert `s` to an `int`\"\n",
    "    s = s.lower()\n",
    "    if s=='on': return 1\n",
    "    if s=='none': return 0\n",
    "    return 0 if not s else int(s)"
   ]
  },
  {
   "cell_type": "code",
   "execution_count": null,
   "id": "56f5ae0e",
   "metadata": {},
   "outputs": [],
   "source": [
    "#| export\n",
    "def _fix_anno(t):\n",
    "    origin = get_origin(t)\n",
    "    if origin is Union or origin is UnionType:\n",
    "        t = first(o for o in get_args(t) if o!=type(None))\n",
    "    d = {bool: str2bool, int: str2int}\n",
    "    return d.get(t, t)"
   ]
  },
  {
   "cell_type": "code",
   "execution_count": null,
   "id": "6c60360c",
   "metadata": {},
   "outputs": [],
   "source": [
    "#| export\n",
    "def _form_arg(k, v, d):\n",
    "    if v is None: return\n",
    "    anno = d.get(k, None)\n",
    "    if not anno: return v\n",
    "    return _fix_anno(anno)(v)"
   ]
  },
  {
   "cell_type": "code",
   "execution_count": null,
   "id": "5ed4131d",
   "metadata": {},
   "outputs": [],
   "source": [
    "#| export\n",
    "def _is_body(anno):\n",
    "    return issubclass(anno, (dict,ns)) or is_dataclass(anno) or is_namedtuple(anno) or get_annotations(anno)\n",
    "\n",
    "def _anno2flds(anno):\n",
    "    if is_dataclass(anno): return {o.name:o.type for o in fields(anno)}\n",
    "    if is_namedtuple(anno): return {o:str for o in anno._fields}\n",
    "    annoanno = get_annotations(anno)\n",
    "    if annoanno: return annoanno\n",
    "    return {}\n",
    "\n",
    "async def _from_body(req, arg, p):\n",
    "    body = await req.form()\n",
    "    anno = p.annotation\n",
    "    d = _anno2flds(anno)\n",
    "    cargs = {k:_form_arg(k, v, d) for k,v in body.items()}\n",
    "    return anno(**cargs)"
   ]
  },
  {
   "cell_type": "code",
   "execution_count": null,
   "id": "89dee594",
   "metadata": {},
   "outputs": [],
   "source": [
    "#| export\n",
    "async def _find_p(req, arg:str, p):\n",
    "    anno = p.annotation\n",
    "    if isinstance(anno, type):\n",
    "        if issubclass(anno, Request): return req\n",
    "        if issubclass(anno, HtmxHeaders): return _get_htmx(req)\n",
    "        if issubclass(anno, Starlette): return req.scope['app']\n",
    "        if _is_body(anno): return await _from_body(req, arg, p)\n",
    "    if anno is empty:\n",
    "        if 'request'.startswith(arg.lower()): return req\n",
    "        if arg.lower()=='htmx': return _get_htmx(req)\n",
    "        if arg.lower()=='app': return req.scope['app']\n",
    "        return None\n",
    "    res = req.path_params.get(arg, None)\n",
    "    if not res: res = req.query_params.get(arg, None)\n",
    "    if not res: res = req.cookies.get(arg, None)\n",
    "    if not res: res = req.headers.get(snake2hyphens(arg), None)\n",
    "    if not res: res = p.default\n",
    "    if res is empty or res is None: return None\n",
    "    if not isinstance(res, str) or anno is empty: return res\n",
    "    return _fix_anno(anno)(res)"
   ]
  },
  {
   "cell_type": "code",
   "execution_count": null,
   "id": "bd602fc8",
   "metadata": {},
   "outputs": [],
   "source": [
    "#| export\n",
    "async def _wrap_req(req, params):\n",
    "    return [await _find_p(req, arg, p) for arg,p in params.items()]"
   ]
  },
  {
   "cell_type": "code",
   "execution_count": null,
   "id": "fb45e961",
   "metadata": {},
   "outputs": [],
   "source": [
    "#| export\n",
    "def _xt_resp(req, resp, hdrs, **bodykw):\n",
    "    if resp and 'hx-request' not in req.headers and isinstance(resp,tuple) and resp[0][0]=='title':\n",
    "        title,bdy = resp\n",
    "        resp = Html(Header(title, *hdrs), Body(bdy, **bodykw))\n",
    "    return HTMLResponse(to_xml(resp))"
   ]
  },
  {
   "cell_type": "code",
   "execution_count": null,
   "id": "b3bd902d",
   "metadata": {},
   "outputs": [],
   "source": [
    "#| export\n",
    "def _wrap_resp(req, resp, cls, hdrs, **bodykw):\n",
    "    if isinstance(resp, Response): return resp\n",
    "    if cls is not empty: return cls(resp)\n",
    "    if isinstance(resp, (list,tuple)): return _xt_resp(req, resp, hdrs, **bodykw)\n",
    "    if isinstance(resp, str): cls = HTMLResponse \n",
    "    elif isinstance(resp, Mapping): cls = JSONResponse \n",
    "    else:\n",
    "        resp = str(resp)\n",
    "        cls = HTMLResponse\n",
    "    return cls(resp)"
   ]
  },
  {
   "cell_type": "code",
   "execution_count": null,
   "id": "9c0b553d",
   "metadata": {},
   "outputs": [],
   "source": [
    "#| export\n",
    "def _wrap_ep(f, hdrs, **bodykw):\n",
    "    if not (isfunction(f) or ismethod(f)): return f\n",
    "    sig = signature(f)\n",
    "    params = sig.parameters\n",
    "    cls = sig.return_annotation\n",
    "\n",
    "    async def _f(req):\n",
    "        wreq = await _wrap_req(req, params)\n",
    "        resp = f(*wreq)\n",
    "        if is_async_callable(f): resp = await resp\n",
    "        return _wrap_resp(req, resp, cls, hdrs, **bodykw)\n",
    "    return _f"
   ]
  },
  {
   "cell_type": "code",
   "execution_count": null,
   "id": "69d1b7d2",
   "metadata": {},
   "outputs": [],
   "source": [
    "#| export\n",
    "class RouteX(Route):\n",
    "    def __init__(self, path:str, endpoint, *, methods=None, name=None, include_in_schema=True, middleware=None,\n",
    "                hdrs=None, **bodykw):\n",
    "        super().__init__(path, _wrap_ep(endpoint, hdrs, **bodykw), methods=methods, name=name,\n",
    "                         include_in_schema=include_in_schema, middleware=middleware)"
   ]
  },
  {
   "cell_type": "code",
   "execution_count": null,
   "id": "ef058280",
   "metadata": {},
   "outputs": [],
   "source": [
    "#| export\n",
    "class RouterX(Router):\n",
    "    def __init__(self, routes=None, redirect_slashes=True, default=None, on_startup=None, on_shutdown=None,\n",
    "                 lifespan=None, *, middleware=None, hdrs=None, **bodykw):\n",
    "        super().__init__(routes, redirect_slashes, default, on_startup, on_shutdown,\n",
    "                 lifespan=lifespan, middleware=middleware)\n",
    "        self.hdrs,self.bodykw = hdrs or (),bodykw\n",
    "\n",
    "    def add_route( self, path: str, endpoint: callable, methods=None, name=None, include_in_schema=True):\n",
    "        route = RouteX(path, endpoint=endpoint, methods=methods, name=name, include_in_schema=include_in_schema,\n",
    "                      hdrs=self.hdrs, **self.bodykw)\n",
    "        self.routes = [o for o in self.routes if o.methods!=methods or o.path!=path]\n",
    "        self.routes.append(route)"
   ]
  },
  {
   "cell_type": "code",
   "execution_count": null,
   "id": "05db17c2",
   "metadata": {},
   "outputs": [],
   "source": [
    "#| export\n",
    "htmxscr = Script(\n",
    "    src=\"https://unpkg.com/htmx.org@1.9.12\", crossorigin=\"anonymous\",\n",
    "    integrity=\"sha384-ujb1lZYygJmzgSwoxRggbCHcjc0rB2XoQrxeTUQyRjrOnlCoYta87iKBWq3EsdM2\")"
   ]
  },
  {
   "cell_type": "code",
   "execution_count": null,
   "id": "5658e557",
   "metadata": {},
   "outputs": [],
   "source": [
    "#| export\n",
    "all_meths = 'get post put delete patch head trace options'.split()\n",
    "\n",
    "class FastHTML(Starlette):\n",
    "    def __init__(self, debug=False, routes=None, middleware=None, exception_handlers=None,\n",
    "                 on_startup=None, on_shutdown=None, lifespan=None, hdrs=None, **bodykw):\n",
    "        super().__init__(debug, routes, middleware, exception_handlers, on_startup, on_shutdown, lifespan=lifespan)\n",
    "        hdrs = list([] if hdrs is None else hdrs) + [htmxscr]\n",
    "        self.router = RouterX(routes, on_startup=on_startup, on_shutdown=on_shutdown, lifespan=lifespan, hdrs=hdrs, **bodykw)\n",
    "\n",
    "    def __getitem__(self, path):\n",
    "        name = None\n",
    "        if isinstance(path, tuple): path,name = path\n",
    "        def f(func):\n",
    "            meth = func.__name__\n",
    "            if meth not in all_meths: meth='get'\n",
    "            self.router.add_route(path, func, methods=[meth], name=name)\n",
    "            return func\n",
    "        return f\n",
    "\n",
    "    def route(self, path:str, methods=None, name=None, include_in_schema=True):\n",
    "        if isinstance(methods,str): methods=[methods]\n",
    "        def f(func):\n",
    "            self.router.add_route(path, func, methods=methods, name=name, include_in_schema=include_in_schema)\n",
    "            return func\n",
    "        return f\n",
    "\n",
    "for o in all_meths:\n",
    "    setattr(FastHTML, o, partialmethod(FastHTML.route, methods=o.capitalize()))"
   ]
  },
  {
   "cell_type": "code",
   "execution_count": null,
   "id": "d37b1814",
   "metadata": {},
   "outputs": [],
   "source": [
    "#| export\n",
    "def reg_re_param(m, s):\n",
    "    cls = get_class(f'{m}Conv', sup=StringConvertor, regex=s)\n",
    "    register_url_convertor(m, cls())\n",
    "\n",
    "# Starlette doesn't have the '?', so it chomps the whole remaining URL\n",
    "reg_re_param(\"path\", \".*?\")\n",
    "reg_re_param(\"static\", \"ico|gif|jpg|jpeg|webm|css|js|woff|png|svg|mp4|webp|ttf|otf|eot|woff2|txt|xml\")"
   ]
  },
  {
   "cell_type": "markdown",
   "id": "93269d53",
   "metadata": {},
   "source": [
    "## Tests"
   ]
  },
  {
   "cell_type": "code",
   "execution_count": null,
   "id": "a863bdaa",
   "metadata": {},
   "outputs": [],
   "source": [
    "from starlette.responses import Response\n",
    "from datetime import datetime\n",
    "from fastcore.utils import *\n",
    "from dataclasses import dataclass, asdict"
   ]
  },
  {
   "cell_type": "code",
   "execution_count": null,
   "id": "66b8b1de",
   "metadata": {},
   "outputs": [],
   "source": [
    "app = FastHTML()\n",
    "cli = TestClient(app)"
   ]
  },
  {
   "cell_type": "code",
   "execution_count": null,
   "id": "3edc4781",
   "metadata": {},
   "outputs": [
    {
     "data": {
      "text/plain": [
       "'Hi there'"
      ]
     },
     "execution_count": null,
     "metadata": {},
     "output_type": "execute_result"
    }
   ],
   "source": [
    "@app[\"/hi\"]\n",
    "def get(): return 'Hi there'\n",
    "\n",
    "r = cli.get('/hi')\n",
    "r.text"
   ]
  },
  {
   "cell_type": "code",
   "execution_count": null,
   "id": "07fe773b",
   "metadata": {},
   "outputs": [
    {
     "data": {
      "text/plain": [
       "'Postal'"
      ]
     },
     "execution_count": null,
     "metadata": {},
     "output_type": "execute_result"
    }
   ],
   "source": [
    "@app[\"/hi\"]\n",
    "def post(): return 'Postal'\n",
    "\n",
    "cli.post('/hi').text"
   ]
  },
  {
   "cell_type": "code",
   "execution_count": null,
   "id": "bb4f8b67",
   "metadata": {},
   "outputs": [
    {
     "data": {
      "text/plain": [
       "'testserver'"
      ]
     },
     "execution_count": null,
     "metadata": {},
     "output_type": "execute_result"
    }
   ],
   "source": [
    "@app.get(\"/\")\n",
    "def show_host(req): return req.headers['host']\n",
    "\n",
    "cli.get('/').text"
   ]
  },
  {
   "cell_type": "code",
   "execution_count": null,
   "id": "64343367",
   "metadata": {},
   "outputs": [
    {
     "data": {
      "text/plain": [
       "'Good day to you, Alexis!'"
      ]
     },
     "execution_count": null,
     "metadata": {},
     "output_type": "execute_result"
    }
   ],
   "source": [
    "@app['/user/{nm}', 'gday']\n",
    "def get(nm:str): return f\"Good day to you, {nm}!\"\n",
    "\n",
    "cli.get('/user/Alexis').text"
   ]
  },
  {
   "cell_type": "code",
   "execution_count": null,
   "id": "db0281cf",
   "metadata": {},
   "outputs": [
    {
     "data": {
      "text/plain": [
       "'/user/Jeremy'"
      ]
     },
     "execution_count": null,
     "metadata": {},
     "output_type": "execute_result"
    }
   ],
   "source": [
    "app.router.url_path_for('gday', nm='Jeremy')"
   ]
  },
  {
   "cell_type": "code",
   "execution_count": null,
   "id": "6b022adb",
   "metadata": {},
   "outputs": [],
   "source": [
    "def test_r(cli, path, exp, meth='get', **kwargs): test_eq(getattr(cli, meth)(path, **kwargs).text, exp)\n",
    "\n",
    "app.chk = 'foo'\n",
    "ModelName = str_enum('ModelName', \"alexnet\", \"resnet\", \"lenet\")\n",
    "fake_db = [{\"name\": \"Foo\"}, {\"name\": \"Bar\"}]"
   ]
  },
  {
   "cell_type": "code",
   "execution_count": null,
   "id": "0bfd7af6",
   "metadata": {},
   "outputs": [],
   "source": [
    "@app['/html/{idx}']\n",
    "async def get(idx:int): return Body(H4(f'Next is {idx+1}.'))\n",
    "\n",
    "reg_re_param(\"imgext\", \"ico|gif|jpg|jpeg|webm\")\n",
    "\n",
    "@app[r'/static/{path:path}{fn}.{ext:imgext}']\n",
    "def get(fn:str, path:str, ext:str): return f\"Getting {fn}.{ext} from /{path}\"\n",
    "\n",
    "@app[\"/models/{nm}\"]\n",
    "def get(nm:ModelName): return nm\n",
    "\n",
    "@app[\"/files/{path}\"]\n",
    "async def get(path: Path): return path.with_suffix('.txt')\n",
    "\n",
    "@app[\"/items/\"]\n",
    "def get(idx:int|None = 0): return fake_db[idx]"
   ]
  },
  {
   "cell_type": "code",
   "execution_count": null,
   "id": "09b24265",
   "metadata": {},
   "outputs": [],
   "source": [
    "test_r(cli, '/html/1', '<body>\\n  <h4>\\nNext is 2.\\n  </h4>\\n</body>\\n')\n",
    "test_r(cli, '/static/foo/jph.ico', 'Getting jph.ico from /foo/')\n",
    "test_r(cli, '/models/alexnet', 'alexnet')\n",
    "test_r(cli, '/files/foo', 'foo.txt')\n",
    "test_r(cli, '/items/?idx=1', '{\"name\":\"Bar\"}')\n",
    "test_r(cli, '/items/', '{\"name\":\"Foo\"}')"
   ]
  },
  {
   "cell_type": "code",
   "execution_count": null,
   "id": "b8be4ef3",
   "metadata": {},
   "outputs": [],
   "source": [
    "@app.get(\"/booly/\")\n",
    "def _(coming:bool=True): return 'Coming' if coming else 'Not coming'\n",
    "\n",
    "@app.get(\"/datie/\")\n",
    "def _(d:date): return d\n",
    "\n",
    "@app.get(\"/ua\")\n",
    "async def _(user_agent:str): return user_agent\n",
    "\n",
    "@app.get(\"/hxtest\")\n",
    "def _(htmx): return htmx.request\n",
    "\n",
    "@app.get(\"/hxtest2\")\n",
    "def _(foo:HtmxHeaders, req): return foo.request\n",
    "\n",
    "@app.get(\"/app\")\n",
    "def _(app): return app.chk\n",
    "\n",
    "@app.get(\"/app2\")\n",
    "def _(foo:FastHTML): return foo.chk"
   ]
  },
  {
   "cell_type": "code",
   "execution_count": null,
   "id": "52f9f934",
   "metadata": {},
   "outputs": [],
   "source": [
    "test_r(cli, '/booly/?coming=true', 'Coming')\n",
    "test_r(cli, '/booly/?coming=no', 'Not coming')\n",
    "date_str = \"17th of May, 2024, 2p\"\n",
    "test_r(cli, f'/datie/?d={date_str}', '2024-05-17 14:00:00')\n",
    "test_r(cli, '/ua', 'FastHTML', headers={'User-Agent':'FastHTML'})\n",
    "test_r(cli, '/hxtest' , '1', headers={'HX-Request':'1'})\n",
    "test_r(cli, '/hxtest2', '1', headers={'HX-Request':'1'})\n",
    "test_r(cli, '/app' , 'foo')\n",
    "test_r(cli, '/app2', 'foo')"
   ]
  },
  {
   "cell_type": "code",
   "execution_count": null,
   "id": "3366d88f",
   "metadata": {},
   "outputs": [],
   "source": [
    "@dataclass\n",
    "class Bodie: a:int;b:str\n",
    "\n",
    "@app.post(\"/bodie/{nm}/\")\n",
    "async def bodie(nm:str, data:Bodie):\n",
    "    res = asdict(data)\n",
    "    res['nm'] = nm\n",
    "    return res\n",
    "\n",
    "@app.post(\"/bodied/\")\n",
    "async def bodied(nm:str, data:dict): return data\n",
    "\n",
    "nt = namedtuple('Bodient', ['a','b'])\n",
    "\n",
    "@app.post(\"/bodient/\")\n",
    "async def bodient(nm:str, data:nt): return data._asdict()\n",
    "\n",
    "class Bodie2:\n",
    "    a:int|None; b:str\n",
    "    def __init__(self, a, b='foo'): store_attr()\n",
    "\n",
    "@app.post(\"/bodie2/\")\n",
    "async def bodie(d:Bodie2): return f\"a: {d.a}; b: {d.b}\""
   ]
  },
  {
   "cell_type": "code",
   "execution_count": null,
   "id": "48f0a45e",
   "metadata": {},
   "outputs": [],
   "source": [
    "d = dict(a=1, b='foo')\n",
    "\n",
    "test_r(cli, '/bodie/me', '{\"a\":1,\"b\":\"foo\",\"nm\":\"me\"}', 'post', data=d)\n",
    "test_r(cli, '/bodied/', '{\"a\":\"1\",\"b\":\"foo\"}', 'post', data=d)\n",
    "test_r(cli, '/bodie2/', 'a: 1; b: foo', 'post', data={'a':1})\n",
    "test_r(cli, '/bodient/', '{\"a\":\"1\",\"b\":\"foo\"}', 'post', data=d)"
   ]
  },
  {
   "cell_type": "code",
   "execution_count": null,
   "id": "8057b34b",
   "metadata": {},
   "outputs": [],
   "source": [
    "@app.get(\"/setcookie\")\n",
    "async def setc(req):\n",
    "    now = datetime.now()\n",
    "    res = Response(f'Set to {now}')\n",
    "    res.set_cookie('now', str(now))\n",
    "    return res\n",
    "\n",
    "@app.get(\"/getcookie\")\n",
    "async def getc(now:date): return f'Cookie was set at time {now.time()}'"
   ]
  },
  {
   "cell_type": "code",
   "execution_count": null,
   "id": "cbdcbe74",
   "metadata": {},
   "outputs": [
    {
     "name": "stdout",
     "output_type": "stream",
     "text": [
      "Set to 2024-05-31 01:36:06.189385\n"
     ]
    },
    {
     "data": {
      "text/plain": [
       "'Cookie was set at time 01:36:06.189385'"
      ]
     },
     "execution_count": null,
     "metadata": {},
     "output_type": "execute_result"
    }
   ],
   "source": [
    "print(cli.get('/setcookie').text)\n",
    "time.sleep(0.01)\n",
    "cli.get('/getcookie').text"
   ]
  },
  {
   "cell_type": "markdown",
   "id": "474e14b4",
   "metadata": {},
   "source": [
    "# Export -"
   ]
  },
  {
   "cell_type": "code",
   "execution_count": null,
   "id": "d211e8e2",
   "metadata": {},
   "outputs": [],
   "source": [
    "#|hide\n",
    "import nbdev; nbdev.nbdev_export()"
   ]
  },
  {
   "cell_type": "code",
   "execution_count": null,
   "id": "ff0f002c",
   "metadata": {},
   "outputs": [],
   "source": []
  }
 ],
 "metadata": {
  "kernelspec": {
   "display_name": "python3",
   "language": "python",
   "name": "python3"
  }
 },
 "nbformat": 4,
 "nbformat_minor": 5
}
