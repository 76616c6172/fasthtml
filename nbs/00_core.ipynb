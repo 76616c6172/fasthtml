{
 "cells": [
  {
   "cell_type": "code",
   "execution_count": 1,
   "id": "8656ed20",
   "metadata": {},
   "outputs": [],
   "source": [
    "#| default_exp core"
   ]
  },
  {
   "cell_type": "markdown",
   "id": "2161d9b5",
   "metadata": {},
   "source": [
    "# API Details"
   ]
  },
  {
   "cell_type": "code",
   "execution_count": 2,
   "id": "0c0c2292",
   "metadata": {},
   "outputs": [],
   "source": [
    "#| export\n",
    "import json, dateutil\n",
    "\n",
    "from fastcore.utils import *\n",
    "from fastcore.xml import *\n",
    "\n",
    "from types import UnionType\n",
    "from typing import Optional, get_type_hints, get_args, get_origin, Union, Mapping\n",
    "from datetime import datetime\n",
    "from dataclasses import dataclass,fields,is_dataclass,MISSING,asdict\n",
    "from inspect import isfunction,ismethod,signature,Parameter\n",
    "from functools import wraps, partialmethod\n",
    "\n",
    "from starlette.applications import Starlette\n",
    "from starlette.routing import Route, Mount\n",
    "from starlette.responses import Response, HTMLResponse, FileResponse, JSONResponse\n",
    "from starlette.requests import Request\n",
    "from starlette.staticfiles import StaticFiles\n",
    "from starlette.exceptions import HTTPException\n",
    "from starlette._utils import is_async_callable\n",
    "from starlette.convertors import Convertor, StringConvertor, register_url_convertor, CONVERTOR_TYPES"
   ]
  },
  {
   "cell_type": "code",
   "execution_count": 3,
   "id": "5f824904",
   "metadata": {},
   "outputs": [],
   "source": [
    "from IPython import display\n",
    "from enum import Enum\n",
    "from pprint import pprint\n",
    "\n",
    "from starlette.testclient import TestClient"
   ]
  },
  {
   "cell_type": "code",
   "execution_count": 4,
   "id": "387680de",
   "metadata": {},
   "outputs": [],
   "source": [
    "# if 'HX-Request' not in request.headers:\n",
    "#     resp = wrap_root(resp, self.headtags)"
   ]
  },
  {
   "cell_type": "code",
   "execution_count": 5,
   "id": "f0aea6a8",
   "metadata": {},
   "outputs": [],
   "source": [
    "#| export\n",
    "empty = Parameter.empty"
   ]
  },
  {
   "cell_type": "code",
   "execution_count": 6,
   "id": "3e4eab18",
   "metadata": {},
   "outputs": [],
   "source": [
    "#| export\n",
    "def _wrap_resp(resp, cls):\n",
    "    if isinstance(resp, Response): return resp\n",
    "    if cls is not empty: return cls(resp)\n",
    "    if isinstance(resp, (list,tuple)): return HTMLResponse(to_xml(resp))\n",
    "    if isinstance(resp, str): cls = HTMLResponse \n",
    "    elif isinstance(resp, Mapping): cls = JSONResponse \n",
    "    else:\n",
    "        resp = str(resp)\n",
    "        cls = HTMLResponse\n",
    "    return cls(resp)"
   ]
  },
  {
   "cell_type": "code",
   "execution_count": 7,
   "id": "406b0dd1",
   "metadata": {},
   "outputs": [],
   "source": [
    "#| export\n",
    "def _fix_anno(t):\n",
    "    origin = get_origin(t)\n",
    "    if origin is Union or origin is UnionType:\n",
    "        t = first(o for o in get_args(t) if o!=type(None))\n",
    "    if t==bool: return str2bool\n",
    "    return t"
   ]
  },
  {
   "cell_type": "code",
   "execution_count": 8,
   "id": "6f518ca5",
   "metadata": {},
   "outputs": [],
   "source": [
    "#| export\n",
    "def date(s): return dateutil.parser.parse(s)"
   ]
  },
  {
   "cell_type": "code",
   "execution_count": 9,
   "id": "999aba2b",
   "metadata": {},
   "outputs": [],
   "source": [
    "#| export\n",
    "def _form_arg(fld, body):\n",
    "    res = body.get(fld.name, None)\n",
    "    if not res: res = fld.default\n",
    "    assert res is not MISSING\n",
    "    anno = _fix_anno(fld.type)\n",
    "    if res is not None: res = anno(res)\n",
    "    return res"
   ]
  },
  {
   "cell_type": "code",
   "execution_count": 10,
   "id": "7826389e",
   "metadata": {},
   "outputs": [],
   "source": [
    "#| export\n",
    "async def _from_body(req, arg, p):\n",
    "    body = await req.form()\n",
    "    cargs = {o.name:_form_arg(o, body) for o in fields(p.annotation)}\n",
    "    return p.annotation(**cargs)"
   ]
  },
  {
   "cell_type": "code",
   "execution_count": 11,
   "id": "b2d44106",
   "metadata": {},
   "outputs": [],
   "source": [
    "#| export\n",
    "def snake2hyphens(s):\n",
    "    s = snake2camel(s)\n",
    "    return camel2words(s, '-')"
   ]
  },
  {
   "cell_type": "code",
   "execution_count": 12,
   "id": "ecaf2762",
   "metadata": {},
   "outputs": [],
   "source": [
    "#| export\n",
    "async def _find_p(req, arg:str, p):\n",
    "    if is_dataclass(p.annotation): return await _from_body(req, arg, p)\n",
    "    res = req.path_params.get(arg, None)\n",
    "    if not res: res = req.query_params.get(arg, None)\n",
    "    if not res: res = req.cookies.get(arg, None)\n",
    "    if not res: res = req.headers.get(snake2hyphens(arg), None)\n",
    "    if not res: res = p.default\n",
    "    if res is empty: return None\n",
    "    anno = _fix_anno(p.annotation)\n",
    "    if res is not None and anno is not empty: res = anno(res)\n",
    "    return res"
   ]
  },
  {
   "cell_type": "code",
   "execution_count": 13,
   "id": "bd602fc8",
   "metadata": {},
   "outputs": [],
   "source": [
    "#| export\n",
    "async def _wrap_req(req, params):\n",
    "    items = [(k,v) for k,v in params.items()\n",
    "             if v.annotation is not empty or v.default is not empty]\n",
    "    if len(params)==1 and not items: return [req]\n",
    "    return [await _find_p(req, arg, p) for arg,p in items]"
   ]
  },
  {
   "cell_type": "code",
   "execution_count": 14,
   "id": "9c0b553d",
   "metadata": {},
   "outputs": [],
   "source": [
    "#| export\n",
    "def _wrap_ep(f):\n",
    "    if not (isfunction(f) or ismethod(f)): return f\n",
    "    sig = signature(f)\n",
    "    params = sig.parameters\n",
    "    cls = sig.return_annotation\n",
    "\n",
    "    async def _f(req):\n",
    "        req = await _wrap_req(req, params)\n",
    "        resp = f(*req)\n",
    "        if is_async_callable(f): resp = await resp\n",
    "        return _wrap_resp(resp, cls)\n",
    "    return _f"
   ]
  },
  {
   "cell_type": "code",
   "execution_count": 15,
   "id": "69d1b7d2",
   "metadata": {},
   "outputs": [],
   "source": [
    "#| export\n",
    "class RouteX(Route):\n",
    "    def __init__(self, path, endpoint, *args, **kw):\n",
    "        ep = _wrap_ep(endpoint)\n",
    "        super().__init__(path, ep, *args, **kw)"
   ]
  },
  {
   "cell_type": "code",
   "execution_count": 16,
   "id": "5658e557",
   "metadata": {},
   "outputs": [],
   "source": [
    "#| export\n",
    "class FastHTML:\n",
    "    def __init__(self): self.rd = {}\n",
    "\n",
    "    async def __call__(self, scope, recv, send):\n",
    "        routes = list(self.rd.values())\n",
    "        app = Starlette(debug=True, routes=routes)\n",
    "        return await app(scope, recv, send)\n",
    "\n",
    "    def add_route(self, route):\n",
    "        meth = first(route.methods)\n",
    "        self.rd[(route.path,meth)] = route\n",
    "        \n",
    "    def route(self, path, meth='GET'):\n",
    "        def _inner(f):\n",
    "            self.add_route(RouteX(path, f, methods=[meth]))\n",
    "            return f\n",
    "        return _inner\n",
    "\n",
    "for o in 'get post put delete patch head trace options'.split():\n",
    "    setattr(FastHTML, o, partialmethod(FastHTML.route, meth=o.capitalize()))"
   ]
  },
  {
   "cell_type": "code",
   "execution_count": 17,
   "id": "d37b1814",
   "metadata": {},
   "outputs": [],
   "source": [
    "#| export\n",
    "def reg_re_param(m, s):\n",
    "    cls = get_class(f'{m}Conv', sup=StringConvertor, regex=s)\n",
    "    register_url_convertor(m, cls())\n",
    "\n",
    "# Starlette doesn't have the '?', so it chomps the whole remaining URL\n",
    "reg_re_param(\"path\", \".*?\")"
   ]
  },
  {
   "cell_type": "code",
   "execution_count": 3,
   "id": "420d2107",
   "metadata": {},
   "outputs": [
    {
     "data": {
      "text/plain": [
       "\"\\nclass NotFoundException(HTTPException):\\n    def __init__(self): return super().__init__(404)\\n\\nasync def not_found(request: Request, exc: NotFoundException):\\n    return HTMLResponse(content='not found', status_code=exc.status_code)\\n\\nexception_handlers = { NotFoundException: not_found }\\n\\nrt = Router(headtags=[htmxscr, picocss])\\n\\ndef wrap_root(resp, headtags):\\n    title = Title('Page')\\n    if isinstance(resp, tuple): title,resp = resp\\n    return Html(Head(title, *headtags), resp)\\n\""
      ]
     },
     "execution_count": 3,
     "metadata": {},
     "output_type": "execute_result"
    }
   ],
   "source": [
    "\n",
    "\"\"\"\n",
    "class NotFoundException(HTTPException):\n",
    "    def __init__(self): return super().__init__(404)\n",
    "\n",
    "async def not_found(request: Request, exc: NotFoundException):\n",
    "    return HTMLResponse(content='not found', status_code=exc.status_code)\n",
    "\n",
    "exception_handlers = { NotFoundException: not_found }\n",
    "\n",
    "rt = Router(headtags=[htmxscr, picocss])\n",
    "\n",
    "def wrap_root(resp, headtags):\n",
    "    title = Title('Page')\n",
    "    if isinstance(resp, tuple): title,resp = resp\n",
    "    return Html(Head(title, *headtags), resp)\n",
    "\"\"\"\n"
   ]
  },
  {
   "cell_type": "markdown",
   "id": "474e14b4",
   "metadata": {},
   "source": [
    "# Export -"
   ]
  },
  {
   "cell_type": "code",
   "execution_count": 2,
   "id": "d211e8e2",
   "metadata": {},
   "outputs": [],
   "source": [
    "#|hide\n",
    "import nbdev; nbdev.nbdev_export()"
   ]
  },
  {
   "cell_type": "code",
   "execution_count": null,
   "id": "ff0f002c",
   "metadata": {},
   "outputs": [],
   "source": []
  }
 ],
 "metadata": {
  "kernelspec": {
   "display_name": "Python 3 (ipykernel)",
   "language": "python",
   "name": "python3"
  },
  "language_info": {
   "codemirror_mode": {
    "name": "ipython",
    "version": 3
   },
   "file_extension": ".py",
   "mimetype": "text/x-python",
   "name": "python",
   "nbconvert_exporter": "python",
   "pygments_lexer": "ipython3",
   "version": "3.11.8"
  }
 },
 "nbformat": 4,
 "nbformat_minor": 5
}
