{
 "cells": [
  {
   "cell_type": "code",
   "execution_count": null,
   "id": "8656ed20",
   "metadata": {},
   "outputs": [],
   "source": [
    "#| default_exp core"
   ]
  },
  {
   "cell_type": "markdown",
   "id": "2161d9b5",
   "metadata": {},
   "source": [
    "# API Details"
   ]
  },
  {
   "cell_type": "code",
   "execution_count": null,
   "id": "0c0c2292",
   "metadata": {},
   "outputs": [],
   "source": [
    "#| export\n",
    "import json, dateutil\n",
    "\n",
    "from fastcore.utils import *\n",
    "from fastcore.xml import *\n",
    "\n",
    "from types import UnionType, SimpleNamespace as ns\n",
    "from typing import Optional, get_type_hints, get_args, get_origin, Union, Mapping\n",
    "from datetime import datetime\n",
    "from dataclasses import dataclass,fields,is_dataclass,MISSING,asdict\n",
    "from inspect import isfunction,ismethod,signature,Parameter\n",
    "from functools import wraps, partialmethod\n",
    "\n",
    "from starlette.applications import Starlette\n",
    "from starlette.routing import Route, Mount, Router\n",
    "from starlette.responses import Response, HTMLResponse, FileResponse, JSONResponse\n",
    "from starlette.requests import Request\n",
    "from starlette.staticfiles import StaticFiles\n",
    "from starlette.exceptions import HTTPException\n",
    "from starlette._utils import is_async_callable\n",
    "from starlette.convertors import Convertor, StringConvertor, register_url_convertor, CONVERTOR_TYPES"
   ]
  },
  {
   "cell_type": "code",
   "execution_count": null,
   "id": "5f824904",
   "metadata": {},
   "outputs": [],
   "source": [
    "from IPython import display\n",
    "from enum import Enum\n",
    "from pprint import pprint\n",
    "\n",
    "from starlette.testclient import TestClient"
   ]
  },
  {
   "cell_type": "code",
   "execution_count": null,
   "id": "f0aea6a8",
   "metadata": {},
   "outputs": [],
   "source": [
    "#| export\n",
    "empty = Parameter.empty"
   ]
  },
  {
   "cell_type": "code",
   "execution_count": null,
   "id": "406b0dd1",
   "metadata": {},
   "outputs": [],
   "source": [
    "#| export\n",
    "def _fix_anno(t):\n",
    "    origin = get_origin(t)\n",
    "    if origin is Union or origin is UnionType:\n",
    "        t = first(o for o in get_args(t) if o!=type(None))\n",
    "    if t==bool: return str2bool\n",
    "    return t"
   ]
  },
  {
   "cell_type": "code",
   "execution_count": null,
   "id": "6f518ca5",
   "metadata": {},
   "outputs": [],
   "source": [
    "#| export\n",
    "def date(s): return dateutil.parser.parse(s)"
   ]
  },
  {
   "cell_type": "code",
   "execution_count": null,
   "id": "999aba2b",
   "metadata": {},
   "outputs": [],
   "source": [
    "#| export\n",
    "def _form_arg(fld, body):\n",
    "    res = body.get(fld.name, None)\n",
    "    if not res: res = fld.default\n",
    "    assert res is not MISSING\n",
    "    anno = _fix_anno(fld.type)\n",
    "    if res is not None: res = anno(res)\n",
    "    return res"
   ]
  },
  {
   "cell_type": "code",
   "execution_count": null,
   "id": "7826389e",
   "metadata": {},
   "outputs": [],
   "source": [
    "#| export\n",
    "async def _from_body(req, arg, p):\n",
    "    body = await req.form()\n",
    "    cargs = {o.name:_form_arg(o, body) for o in fields(p.annotation)}\n",
    "    return p.annotation(**cargs)"
   ]
  },
  {
   "cell_type": "code",
   "execution_count": null,
   "id": "b2d44106",
   "metadata": {},
   "outputs": [],
   "source": [
    "#| export\n",
    "def snake2hyphens(s):\n",
    "    s = snake2camel(s)\n",
    "    return camel2words(s, '-')"
   ]
  },
  {
   "cell_type": "code",
   "execution_count": null,
   "id": "490eb390",
   "metadata": {},
   "outputs": [],
   "source": [
    "#| export\n",
    "htmx_hdrs = dict(\n",
    "    boosted=\"HX-Boosted\",\n",
    "    current_url=\"HX-Current-URL\",\n",
    "    history_restore_request=\"HX-History-Restore-Request\",\n",
    "    prompt=\"HX-Prompt\",\n",
    "    request=\"HX-Request\",\n",
    "    target=\"HX-Target\",\n",
    "    trigger_name=\"HX-Trigger-Name\",\n",
    "    trigger=\"HX-Trigger\")\n",
    "\n",
    "def _get_htmx(req):\n",
    "    res = {k:req.headers.get(v.lower(), None) for k,v in htmx_hdrs.items()}\n",
    "    return ns(**res) if res else None"
   ]
  },
  {
   "cell_type": "code",
   "execution_count": null,
   "id": "ecaf2762",
   "metadata": {},
   "outputs": [],
   "source": [
    "#| export\n",
    "async def _find_p(req, arg:str, p):\n",
    "    if p.annotation is empty:\n",
    "        if 'request'.startswith(arg.lower()): return req\n",
    "        if arg.lower()=='htmx': return _get_htmx(req)\n",
    "        return None\n",
    "    if is_dataclass(p.annotation): return await _from_body(req, arg, p)\n",
    "    res = req.path_params.get(arg, None)\n",
    "    if not res: res = req.query_params.get(arg, None)\n",
    "    if not res: res = req.cookies.get(arg, None)\n",
    "    if not res: res = req.headers.get(snake2hyphens(arg), None)\n",
    "    if not res: res = p.default\n",
    "    if res is empty: return None\n",
    "    anno = _fix_anno(p.annotation)\n",
    "    if res is not None and anno is not empty: res = anno(res)\n",
    "    return res"
   ]
  },
  {
   "cell_type": "code",
   "execution_count": null,
   "id": "bd602fc8",
   "metadata": {},
   "outputs": [],
   "source": [
    "#| export\n",
    "async def _wrap_req(req, params):\n",
    "    return [await _find_p(req, arg, p) for arg,p in params.items()]"
   ]
  },
  {
   "cell_type": "code",
   "execution_count": null,
   "id": "fb45e961",
   "metadata": {},
   "outputs": [],
   "source": [
    "#| export\n",
    "def _xt_resp(req, resp, hdrs, **bodykw):\n",
    "    if resp and 'hx-request' not in req.headers and isinstance(resp,tuple) and resp[0][0] not in ('!doctype','html'):\n",
    "        title,bdy = resp\n",
    "        if isinstance(title,str): title=Title(title)\n",
    "        resp = Html(Header(title, *hdrs), Body(bdy, **bodykw))\n",
    "    return HTMLResponse(to_xml(resp))"
   ]
  },
  {
   "cell_type": "code",
   "execution_count": null,
   "id": "b3bd902d",
   "metadata": {},
   "outputs": [],
   "source": [
    "#| export\n",
    "def _wrap_resp(req, resp, cls, hdrs, **bodykw):\n",
    "    if isinstance(resp, Response): return resp\n",
    "    if cls is not empty: return cls(resp)\n",
    "    if isinstance(resp, (list,tuple)): return _xt_resp(req, resp, hdrs, **bodykw)\n",
    "    if isinstance(resp, str): cls = HTMLResponse \n",
    "    elif isinstance(resp, Mapping): cls = JSONResponse \n",
    "    else:\n",
    "        resp = str(resp)\n",
    "        cls = HTMLResponse\n",
    "    return cls(resp)"
   ]
  },
  {
   "cell_type": "code",
   "execution_count": null,
   "id": "9c0b553d",
   "metadata": {},
   "outputs": [],
   "source": [
    "#| export\n",
    "def _wrap_ep(f, hdrs, **bodykw):\n",
    "    if not (isfunction(f) or ismethod(f)): return f\n",
    "    sig = signature(f)\n",
    "    params = sig.parameters\n",
    "    cls = sig.return_annotation\n",
    "\n",
    "    async def _f(req):\n",
    "        wreq = await _wrap_req(req, params)\n",
    "        resp = f(*wreq)\n",
    "        if is_async_callable(f): resp = await resp\n",
    "        return _wrap_resp(req, resp, cls, hdrs, **bodykw)\n",
    "    return _f"
   ]
  },
  {
   "cell_type": "code",
   "execution_count": null,
   "id": "69d1b7d2",
   "metadata": {},
   "outputs": [],
   "source": [
    "#| export\n",
    "class RouteX(Route):\n",
    "    def __init__(self, path:str, endpoint, *, methods=None, name=None, include_in_schema=True, middleware=None,\n",
    "                hdrs=None, **bodykw):\n",
    "        super().__init__(path, _wrap_ep(endpoint, hdrs, **bodykw), methods=methods, name=name,\n",
    "                         include_in_schema=include_in_schema, middleware=middleware)"
   ]
  },
  {
   "cell_type": "code",
   "execution_count": null,
   "id": "ef058280",
   "metadata": {},
   "outputs": [],
   "source": [
    "#| export\n",
    "class RouterX(Router):\n",
    "    def __init__(self, routes=None, redirect_slashes=True, default=None, on_startup=None, on_shutdown=None,\n",
    "                 lifespan=None, *, middleware=None, hdrs=None, **bodykw):\n",
    "        super().__init__(routes, redirect_slashes, default, on_startup, on_shutdown,\n",
    "                 lifespan=lifespan, middleware=middleware)\n",
    "        self.hdrs,self.bodykw = hdrs or (),bodykw\n",
    "\n",
    "    def add_route( self, path: str, endpoint: callable, methods=None, name=None, include_in_schema=True):\n",
    "        route = RouteX(path, endpoint=endpoint, methods=methods, name=name, include_in_schema=include_in_schema,\n",
    "                      hdrs=self.hdrs, **self.bodykw)\n",
    "        self.routes.append(route)"
   ]
  },
  {
   "cell_type": "code",
   "execution_count": null,
   "id": "5658e557",
   "metadata": {},
   "outputs": [],
   "source": [
    "#| export\n",
    "class FastHTML(Starlette):\n",
    "    def __init__(self, debug=False, routes=None, middleware=None, exception_handlers=None,\n",
    "                 on_startup=None, on_shutdown=None, lifespan=None, hdrs=None, **bodykw):\n",
    "        super().__init__(debug, routes, middleware, exception_handlers, on_startup, on_shutdown, lifespan=lifespan)\n",
    "        self.router = RouterX(routes, on_startup=on_startup, on_shutdown=on_shutdown, lifespan=lifespan, hdrs=hdrs, **bodykw)\n",
    "\n",
    "    def route(self, path:str, methods=None, name=None, include_in_schema=True):\n",
    "        if isinstance(methods,str): methods=[methods]\n",
    "        def f(func):\n",
    "            self.router.add_route(path, func, methods=methods, name=name, include_in_schema=include_in_schema)\n",
    "            return func\n",
    "        return f\n",
    "\n",
    "for o in 'get post put delete patch head trace options'.split():\n",
    "    setattr(FastHTML, o, partialmethod(FastHTML.route, methods=o.capitalize()))"
   ]
  },
  {
   "cell_type": "code",
   "execution_count": null,
   "id": "d37b1814",
   "metadata": {},
   "outputs": [],
   "source": [
    "#| export\n",
    "def reg_re_param(m, s):\n",
    "    cls = get_class(f'{m}Conv', sup=StringConvertor, regex=s)\n",
    "    register_url_convertor(m, cls())\n",
    "\n",
    "# Starlette doesn't have the '?', so it chomps the whole remaining URL\n",
    "reg_re_param(\"path\", \".*?\")"
   ]
  },
  {
   "cell_type": "markdown",
   "id": "474e14b4",
   "metadata": {},
   "source": [
    "# Export -"
   ]
  },
  {
   "cell_type": "code",
   "execution_count": null,
   "id": "d211e8e2",
   "metadata": {},
   "outputs": [],
   "source": [
    "#|hide\n",
    "import nbdev; nbdev.nbdev_export()"
   ]
  },
  {
   "cell_type": "code",
   "execution_count": null,
   "id": "ff0f002c",
   "metadata": {},
   "outputs": [],
   "source": []
  }
 ],
 "metadata": {
  "kernelspec": {
   "display_name": "python3",
   "language": "python",
   "name": "python3"
  }
 },
 "nbformat": 4,
 "nbformat_minor": 5
}
