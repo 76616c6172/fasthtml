{
 "cells": [
  {
   "cell_type": "markdown",
   "metadata": {},
   "source": [
    "# Routes"
   ]
  },
  {
   "cell_type": "code",
   "execution_count": null,
   "metadata": {},
   "outputs": [],
   "source": [
    "from fasthtml.common import *"
   ]
  },
  {
   "cell_type": "code",
   "execution_count": null,
   "metadata": {},
   "outputs": [],
   "source": [
    "app = FastHTML()"
   ]
  },
  {
   "cell_type": "markdown",
   "metadata": {},
   "source": [
    "Behaviour in FastHTML apps is defined by routes. The syntax is largely the same as the wonderful [FastAPI](https://fastapi.tiangolo.com/) (which is what you should be using instead of this if you're creating a JSON service. FastHTML is for mainly for making HTML web apps, not APIs).\n",
    "\n",
    "Note that you need to include the types of your parameters, so that `FastHTML` knows what to pass to your function. Here, we're just expecting a string:"
   ]
  },
  {
   "cell_type": "code",
   "execution_count": null,
   "metadata": {},
   "outputs": [],
   "source": [
    "@app.get('/user/{nm}')\n",
    "def get_nm(nm:str): return f\"Good day to you, {nm}!\""
   ]
  },
  {
   "cell_type": "markdown",
   "metadata": {},
   "source": [
    "Normally you'd save this into a file such as main.py, and then run it in `uvicorn` using:\n",
    "\n",
    "```\n",
    "uvicorn main:app\n",
    "```\n",
    "\n",
    "However, for testing, we can use Starlette's `TestClient` to try it out:"
   ]
  },
  {
   "cell_type": "code",
   "execution_count": null,
   "metadata": {},
   "outputs": [],
   "source": [
    "from starlette.testclient import TestClient"
   ]
  },
  {
   "cell_type": "code",
   "execution_count": null,
   "metadata": {},
   "outputs": [
    {
     "data": {
      "text/plain": [
       "<Response [200 OK]>"
      ]
     },
     "execution_count": null,
     "metadata": {},
     "output_type": "execute_result"
    }
   ],
   "source": [
    "client = TestClient(app)\n",
    "r = client.get('/user/Jeremy')\n",
    "r"
   ]
  },
  {
   "cell_type": "markdown",
   "metadata": {},
   "source": [
    "TestClient uses `httpx` behind the scenes, so it returns a `httpx.Response`, which has a `text` attribute with our response body:"
   ]
  },
  {
   "cell_type": "code",
   "execution_count": null,
   "metadata": {},
   "outputs": [
    {
     "data": {
      "text/plain": [
       "'Good day to you, Jeremy!'"
      ]
     },
     "execution_count": null,
     "metadata": {},
     "output_type": "execute_result"
    }
   ],
   "source": [
    "r.text"
   ]
  },
  {
   "cell_type": "markdown",
   "metadata": {},
   "source": [
    "In the previous example, the function name (`get_nm`) didn't actually matter -- we could have just called it `_`, for instance, since we never actually call it directly. It's just called through HTTP. In fact, we often do call our functions `_` when using this style of route, since that's one less thing we have to worry about naming.\n",
    "\n",
    "An alternative approach to creating a route is to use `app.route` instead, in which case you make the function name the HTTP method you want. Since this is such a common pattern, you might like to give a shorter name to `app.route` -- we normally use `rt`:"
   ]
  },
  {
   "cell_type": "code",
   "execution_count": null,
   "metadata": {},
   "outputs": [
    {
     "data": {
      "text/plain": [
       "'Going postal!'"
      ]
     },
     "execution_count": null,
     "metadata": {},
     "output_type": "execute_result"
    }
   ],
   "source": [
    "rt = app.route\n",
    "\n",
    "@rt('/')\n",
    "def post(): return \"Going postal!\"\n",
    "\n",
    "client.post('/').text"
   ]
  },
  {
   "cell_type": "markdown",
   "metadata": {},
   "source": [
    "## Features"
   ]
  },
  {
   "cell_type": "markdown",
   "metadata": {},
   "source": [
    "Here's a brief demo of all the features of the library:"
   ]
  },
  {
   "cell_type": "code",
   "execution_count": null,
   "metadata": {},
   "outputs": [],
   "source": [
    "from starlette.responses import Response\n",
    "from datetime import datetime\n",
    "from fastcore.utils import *\n",
    "from dataclasses import dataclass, asdict\n",
    "from IPython import display"
   ]
  },
  {
   "cell_type": "code",
   "execution_count": null,
   "metadata": {},
   "outputs": [],
   "source": [
    "def todict(req): return {k:str(v) for k,v in req.items()}"
   ]
  },
  {
   "cell_type": "code",
   "execution_count": null,
   "metadata": {},
   "outputs": [],
   "source": [
    "app = FastHTML()\n",
    "rt = app.route\n",
    "\n",
    "@app.get(\"/\")\n",
    "def _(req): return todict(req.scope)"
   ]
  },
  {
   "cell_type": "code",
   "execution_count": null,
   "metadata": {},
   "outputs": [
    {
     "name": "stdout",
     "output_type": "stream",
     "text": [
      "{\"type\":\"http\",\"http_version\":\"1.1\",\"method\":\"GET\",\"path\":\"/\",\"raw_path\":\"b'/'\",\"root_path\":\"\",\"scheme\":\"http\",\"query_string\":\"b''\",\"headers\":\"[(b'host', b'testserver'), (b'accept', b'*/*'), (b'accept-encoding', b'gzip, deflate, br'), (b'connection', b'keep-alive'), (b'user-agent', b'testclient')]\",\"client\":\"['testclient', 50000]\",\"server\":\"['testserver', 80]\",\"extensions\":\"{'http.response.debug': {}}\",\"state\":\"{}\",\"app\":\"<fasthtml.core.FastHTML object>\",\"session\":\"{}\",\"starlette.exception_handlers\":\"({<class 'starlette.exceptions.HTTPException'>: <bound method ExceptionMiddleware.http_exception of <starlette.middleware.exceptions.ExceptionMiddleware object>>, <class 'starlette.exceptions.WebSocketException'>: <bound method ExceptionMiddleware.websocket_exception of <starlette.middleware.exceptions.ExceptionMiddleware object>>}, {})\",\"router\":\"<fasthtml.core.RouterX object>\",\"endpoint\":\"<function _wrap_ep.<locals>._f>\",\"path_params\":\"{}\"}\n"
     ]
    }
   ],
   "source": [
    "cli = TestClient(app)\n",
    "r = cli.get('/')\n",
    "print(r.text)"
   ]
  },
  {
   "cell_type": "code",
   "execution_count": null,
   "metadata": {},
   "outputs": [
    {
     "data": {
      "text/plain": [
       "'Good day to you, jph!'"
      ]
     },
     "execution_count": null,
     "metadata": {},
     "output_type": "execute_result"
    }
   ],
   "source": [
    "@app.get('/user/{nm}')\n",
    "def _(nm:str): return f\"Good day to you, {nm}!\"\n",
    "\n",
    "cli.get('/user/jph').text"
   ]
  },
  {
   "cell_type": "code",
   "execution_count": null,
   "metadata": {},
   "outputs": [
    {
     "data": {
      "text/html": [
       "<!doctype html></!doctype>\n",
       "\n",
       "<html>\n",
       "  <head>\n",
       "    <title>FastHTML page</title>\n",
       "    <meta charset=\"utf-8\"></meta>\n",
       "    <meta name=\"viewport\" content=\"width=device-width, initial-scale=1, viewport-fit=cover\"></meta>\n",
       "    <script src=\"https://unpkg.com/htmx.org@next/dist/htmx.min.js\"></script>\n",
       "    <script src=\"https://cdn.jsdelivr.net/gh/answerdotai/surreal@1.3.0/surreal.js\"></script>\n",
       "    <script src=\"https://cdn.jsdelivr.net/gh/gnat/css-scope-inline@main/script.js\"></script>\n",
       "  </head>\n",
       "  <body>\n",
       "<body>\n",
       "  <h4>Wow look here</h4>\n",
       "  <p>It looks like you are visitor 1! Next is 2.</p>\n",
       "</body>\n",
       "  </body>\n",
       "</html>\n"
      ],
      "text/plain": [
       "<IPython.core.display.HTML object>"
      ]
     },
     "execution_count": null,
     "metadata": {},
     "output_type": "execute_result"
    }
   ],
   "source": [
    "@rt('/html/{idx}')\n",
    "async def get(idx:int):\n",
    "    return Body(\n",
    "        H4(\"Wow look here\"),\n",
    "        P(f'It looks like you are visitor {idx}! Next is {idx+1}.')\n",
    "    )\n",
    "\n",
    "display.HTML(cli.get('/html/1').text)"
   ]
  },
  {
   "cell_type": "code",
   "execution_count": null,
   "metadata": {},
   "outputs": [
    {
     "data": {
      "text/plain": [
       "'Getting jph.ico from /foo/'"
      ]
     },
     "execution_count": null,
     "metadata": {},
     "output_type": "execute_result"
    }
   ],
   "source": [
    "reg_re_param(\"imgext\", \"ico|gif|jpg|jpeg|webm\")\n",
    "\n",
    "@app.get(r'/static/{path:path}{fn}.{ext:imgext}')\n",
    "def get_img(fn:str, path:str, ext:str): return f\"Getting {fn}.{ext} from /{path}\"\n",
    "\n",
    "cli.get('/static/foo/jph.ico').text"
   ]
  },
  {
   "cell_type": "code",
   "execution_count": null,
   "metadata": {},
   "outputs": [
    {
     "name": "stdout",
     "output_type": "stream",
     "text": [
      "alexnet\n"
     ]
    }
   ],
   "source": [
    "ModelName = str_enum('ModelName', \"alexnet\", \"resnet\", \"lenet\")\n",
    "\n",
    "@app.get(\"/models/{nm}\")\n",
    "def model(nm:ModelName): return nm\n",
    "\n",
    "print(cli.get('/models/alexnet').text)"
   ]
  },
  {
   "cell_type": "code",
   "execution_count": null,
   "metadata": {},
   "outputs": [
    {
     "name": "stdout",
     "output_type": "stream",
     "text": [
      "foo.txt\n"
     ]
    }
   ],
   "source": [
    "@app.get(\"/files/{path}\")\n",
    "async def txt(path: Path): return path.with_suffix('.txt')\n",
    "\n",
    "print(cli.get('/files/foo').text)"
   ]
  },
  {
   "cell_type": "code",
   "execution_count": null,
   "metadata": {},
   "outputs": [
    {
     "name": "stdout",
     "output_type": "stream",
     "text": [
      "{\"name\":\"Bar\"}\n"
     ]
    }
   ],
   "source": [
    "fake_db = [{\"name\": \"Foo\"}, {\"name\": \"Bar\"}]\n",
    "\n",
    "@app.get(\"/items/\")\n",
    "def read_item(idx:int|None = 0): return fake_db[idx]\n",
    "\n",
    "print(cli.get('/items/?idx=1').text)"
   ]
  },
  {
   "cell_type": "code",
   "execution_count": null,
   "metadata": {},
   "outputs": [
    {
     "name": "stdout",
     "output_type": "stream",
     "text": [
      "{\"name\":\"Foo\"}\n"
     ]
    }
   ],
   "source": [
    "print(cli.get('/items/').text)"
   ]
  },
  {
   "cell_type": "code",
   "execution_count": null,
   "metadata": {},
   "outputs": [
    {
     "name": "stdout",
     "output_type": "stream",
     "text": [
      "Coming\n"
     ]
    }
   ],
   "source": [
    "@app.get(\"/booly/\")\n",
    "def booly(coming:bool=True): return 'Coming' if coming else 'Not coming'\n",
    "\n",
    "print(cli.get('/booly/?coming=true').text)"
   ]
  },
  {
   "cell_type": "code",
   "execution_count": null,
   "metadata": {},
   "outputs": [
    {
     "name": "stdout",
     "output_type": "stream",
     "text": [
      "Not coming\n"
     ]
    }
   ],
   "source": [
    "print(cli.get('/booly/?coming=no').text)"
   ]
  },
  {
   "cell_type": "code",
   "execution_count": null,
   "metadata": {},
   "outputs": [
    {
     "name": "stdout",
     "output_type": "stream",
     "text": [
      "2024-05-17 14:00:00\n"
     ]
    }
   ],
   "source": [
    "@app.get(\"/datie/\")\n",
    "def datie(d:date): return d\n",
    "\n",
    "date_str = \"17th of May, 2024, 2p\"\n",
    "print(cli.get(f'/datie/?d={date_str}').text)"
   ]
  },
  {
   "cell_type": "code",
   "execution_count": null,
   "metadata": {},
   "outputs": [
    {
     "data": {
      "text/plain": [
       "'{\"a\":1,\"b\":\"foo\",\"nm\":\"me\"}'"
      ]
     },
     "execution_count": null,
     "metadata": {},
     "output_type": "execute_result"
    }
   ],
   "source": [
    "@dataclass\n",
    "class Bodie:\n",
    "    a:int;b:str\n",
    "\n",
    "@rt(\"/bodie/{nm}\")\n",
    "async def post(nm:str, data:Bodie):\n",
    "    res = asdict(data)\n",
    "    res['nm'] = nm\n",
    "    return res\n",
    "\n",
    "cli.post('/bodie/me', data=dict(a=1, b='foo')).text"
   ]
  },
  {
   "cell_type": "code",
   "execution_count": null,
   "metadata": {},
   "outputs": [
    {
     "data": {
      "text/plain": [
       "'Set to 2024-07-26 15:52:40.314109'"
      ]
     },
     "execution_count": null,
     "metadata": {},
     "output_type": "execute_result"
    }
   ],
   "source": [
    "@app.get(\"/setcookie\")\n",
    "async def setc(req):\n",
    "    now = datetime.now()\n",
    "    res = Response(f'Set to {now}')\n",
    "    res.set_cookie('now', str(now))\n",
    "    return res\n",
    "\n",
    "cli.get('/setcookie').text"
   ]
  },
  {
   "cell_type": "code",
   "execution_count": null,
   "metadata": {},
   "outputs": [
    {
     "data": {
      "text/plain": [
       "'Cookie was set at time 15:52:40.314109'"
      ]
     },
     "execution_count": null,
     "metadata": {},
     "output_type": "execute_result"
    }
   ],
   "source": [
    "@app.get(\"/getcookie\")\n",
    "async def getc(now:date): return f'Cookie was set at time {now.time()}'\n",
    "\n",
    "cli.get('/getcookie').text"
   ]
  },
  {
   "cell_type": "code",
   "execution_count": null,
   "metadata": {},
   "outputs": [
    {
     "data": {
      "text/plain": [
       "'FastHTML'"
      ]
     },
     "execution_count": null,
     "metadata": {},
     "output_type": "execute_result"
    }
   ],
   "source": [
    "@app.get(\"/ua\")\n",
    "async def ua(user_agent:str): return user_agent\n",
    "\n",
    "cli.get('/ua', headers={'User-Agent':'FastHTML'}).text"
   ]
  },
  {
   "cell_type": "code",
   "execution_count": null,
   "metadata": {},
   "outputs": [
    {
     "data": {
      "text/plain": [
       "'1'"
      ]
     },
     "execution_count": null,
     "metadata": {},
     "output_type": "execute_result"
    }
   ],
   "source": [
    "@app.get(\"/hxtest\")\n",
    "def hxtest(htmx): return htmx.request\n",
    "\n",
    "cli.get('/hxtest', headers={'HX-Request':'1'}).text"
   ]
  }
 ],
 "metadata": {
  "kernelspec": {
   "display_name": "python3",
   "language": "python",
   "name": "python3"
  }
 },
 "nbformat": 4,
 "nbformat_minor": 2
}
