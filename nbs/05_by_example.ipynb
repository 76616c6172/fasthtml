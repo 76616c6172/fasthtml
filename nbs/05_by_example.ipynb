{
 "cells": [
  {
   "cell_type": "markdown",
   "metadata": {},
   "source": [
    "# FastHTML By Example\n",
    "\n",
    "There are lots of non-FastHTML-specific tricks and patterns involved in building web apps. The goal of this tutorial is to give an alternate introduction to FastHTML, building out a number of example applications to show common patterns and illustrate some of the ways you can build on top of the FastHTML foundations to create your own custom web apps. A secondary goal is to have this be a useful document to add to the context of an LLM to turn it into a useful FastHTML assistant - in fact, in some of the examples we'll see this kind of assistant in action, thanks to [this custom GPT](https://chatgpt.com/g/g-xPqF9SZjM-fasthtml-helper).\n",
    "\n",
    "Let's get started."
   ]
  },
  {
   "cell_type": "markdown",
   "metadata": {},
   "source": [
    "## FastHTML Basics\n",
    "\n",
    "FastHTML is *just python*. You can install it with `pip install python-fasthtml`, and extensions/components built for it can likewise be distriuted via pypi or as simple python files.\n",
    "\n",
    "The core usage of FastHTML is to define routes, and then to define what to do at each route. This is similar to the [FastAPI](https://fastapi.tiangolo.com/) web framework (in fact we implemented much of the fuctionality to match the FastAPI usage examples) but where FastAPI focuses on returning JSON data to build APIs, FastHTML focuses on returning HTML data.\n",
    "\n",
    "Here's a simple FastHTML app that returns a \"Hello, World\" message:"
   ]
  },
  {
   "cell_type": "code",
   "execution_count": null,
   "metadata": {},
   "outputs": [],
   "source": [
    "from fasthtml import FastHTML\n",
    "\n",
    "app = FastHTML()\n",
    "\n",
    "@app.get(\"/\")\n",
    "def home():\n",
    "    return \"<h1>Hello, World</h1>\""
   ]
  },
  {
   "cell_type": "markdown",
   "metadata": {},
   "source": [
    "To run this app, place it in a file, say `app.py`, and then run it with `uvicorn app:app --reload`. You'll see a message like this:\n",
    "```\n",
    "INFO:     Will watch for changes in these directories: ['/home/jonathan/fasthtml-example']\n",
    "INFO:     Uvicorn running on http://127.0.0.1:8000 (Press CTRL+C to quit)\n",
    "INFO:     Started reloader process [871942] using WatchFiles\n",
    "INFO:     Started server process [871945]\n",
    "INFO:     Waiting for application startup.\n",
    "INFO:     Application startup complete.\n",
    "```\n",
    "\n",
    "If you navigate to http://127.0.0.1:8000 in a browser, you'll see your \"Hello, World\". If you edit the `app.py` file and save it, the server will reload and you'll see the updated message when you refresh the page in your browser."
   ]
  },
  {
   "cell_type": "markdown",
   "metadata": {},
   "source": [
    "## Constructing HTML\n",
    "\n",
    "Notice we wrote some HTML in the previous example. We don't want to do that! Some web frameworks require that you learn HTML, CSS, Javascript AND some templating language AND python. We want to do as much as possible with just one language. Fortunately, [fastcore.xml](https://fastcore.fast.ai/xml.html) has all we need for constructing HTML from python, and FastHTML includes all the tags you need to get started. For example:"
   ]
  },
  {
   "cell_type": "code",
   "execution_count": null,
   "metadata": {},
   "outputs": [
    {
     "name": "stdout",
     "output_type": "stream",
     "text": [
      "<!doctype html>\n",
      "\n",
      "<html>\n",
      "  <head>\n",
      "    <title>\n",
      "Some page\n",
      "    </title>\n",
      "  </head>\n",
      "  <body>\n",
      "    <div class=\"myclass\">\n",
      "Some text\n",
      "      <input name=\"me\">\n",
      "      <img src=\"filename\">\n",
      "    </div>\n",
      "  </body>\n",
      "</html>\n",
      "\n"
     ]
    }
   ],
   "source": [
    "from fasthtml import *\n",
    "page = Html(\n",
    "    Head(Title('Some page')),\n",
    "    Body(Div('Some text', Input(name='me'), Img(src=\"filename\"), cls='myclass'))\n",
    ")\n",
    "print(to_xml(page))"
   ]
  },
  {
   "cell_type": "markdown",
   "metadata": {},
   "source": [
    "If that `import *` worries you, you can always import only the tags you need. \n",
    "\n",
    "FastHTML is smart enough to know about fastcore.xml, and so you don't need to use the `to_xml` function to convert your XT objects to HTML. You can just return them as you would any other python object. For example, if we modify our previous example to use fastcore.xml, we can return an XT object directly:"
   ]
  },
  {
   "cell_type": "code",
   "execution_count": null,
   "metadata": {},
   "outputs": [],
   "source": [
    "app = FastHTML()\n",
    "\n",
    "@app.get(\"/\")\n",
    "def home():\n",
    "    return Div(H1('Hello, World'), P('Some text'), P('Some more text'))"
   ]
  },
  {
   "cell_type": "markdown",
   "metadata": {},
   "source": [
    "\n",
    "This will render the HTML in the browser. TODO picture\n",
    "\n",
    "For debugging, you can right-click on the rendered HTML in the browser and select \"Inspect\" to see the underlying HTML that was generated. There you'll also find the 'network' tab, which shows you the requests that were made to render the page. Refresh and look for the request to `127.0.0.1` - and you'll see it's just a `GET` request to `/`, and the response body is the HTML you just returned."
   ]
  },
  {
   "cell_type": "markdown",
   "metadata": {},
   "source": [
    "You can also use Starlette's `TestClient` to try it out in a notebook: "
   ]
  },
  {
   "cell_type": "code",
   "execution_count": null,
   "metadata": {},
   "outputs": [
    {
     "data": {
      "text/plain": [
       "'<div>\\n  <h1>\\nHello, World\\n  </h1>\\n  <p>\\nSome text\\n  </p>\\n  <p>\\nSome more text\\n  </p>\\n</div>\\n'"
      ]
     },
     "execution_count": null,
     "metadata": {},
     "output_type": "execute_result"
    }
   ],
   "source": [
    "from starlette.testclient import TestClient\n",
    "client = TestClient(app)\n",
    "r = client.get(\"/\")\n",
    "r.text"
   ]
  },
  {
   "cell_type": "markdown",
   "metadata": {},
   "source": [
    "See the section 'XT objects and HTML' for more on creating custom components or adding HTML rendering to existing python objects.\n",
    "\n",
    "One final note: the output above only shows the div we returned. If you want FastHTML to wrap the output into a full HTML page, along with any headers, scripts, styles etc associated with the app, you can instead return a tuple of title, content:"
   ]
  },
  {
   "cell_type": "code",
   "execution_count": null,
   "metadata": {},
   "outputs": [
    {
     "name": "stdout",
     "output_type": "stream",
     "text": [
      "<html>\n",
      "  <header>\n",
      "    <title>\n",
      "Page Demo\n",
      "    </title>\n",
      "    <script src=\"https://unpkg.com/htmx.org@1.9.12\" crossorigin=\"anonymous\" integrity=\"sha384-ujb1lZYygJmzgSwoxRggbCHcjc0rB2XoQrxeTUQyRjrOnlCoYta87iKBWq3EsdM2\"></script>\n",
      "  </header>\n",
      "  <body>\n",
      "<div>\n",
      "  <h1>\n",
      "Hello, World\n",
      "  </h1>\n",
      "  <p>\n",
      "Some text\n",
      "  </p>\n",
      "  <p>\n",
      "Some more text\n",
      "  </p>\n",
      "</div>\n",
      "  </body>\n",
      "</html>\n",
      "\n"
     ]
    }
   ],
   "source": [
    "app = FastHTML()\n",
    "\n",
    "@app.get(\"/\")\n",
    "def home():\n",
    "    return Title(\"Page Demo\"), Div(H1('Hello, World'), P('Some text'), P('Some more text'))\n",
    "\n",
    "client = TestClient(app)\n",
    "print(client.get(\"/\").text)"
   ]
  },
  {
   "cell_type": "markdown",
   "metadata": {},
   "source": [
    "We'll use this pattern often in the examples to follow."
   ]
  },
  {
   "cell_type": "markdown",
   "metadata": {},
   "source": [
    "## Defining Routes\n"
   ]
  },
  {
   "cell_type": "markdown",
   "metadata": {},
   "source": [
    "\n",
    "The HTTP protocol defines a number of methods ('verbs') to send requests to a server. The most common are GET, POST, PUT, DELETE, and HEAD. We saw 'GET' in action before - when you navigate to a URL, you're making a GET request to that URL. We can do different things on a route for different HTTP methods. For example:\n",
    "\n",
    "```python\n",
    "@app.route(\"/\", methods='get')\n",
    "def home():\n",
    "    return H1('Hello, World')\n",
    "\n",
    "@app.route(\"/\", methods=['post', 'put'])\n",
    "def post():\n",
    "    return \"got a post or put request\"\n",
    "```\n",
    "\n",
    "This says that when someone navigates to the root URL \"/\" (i.e. sends a GET request), they will see the big \"Hello, World\" heading. When someone submits a POST or PUT request to the same URL, the server should return the string \"got a post or put request\".\n",
    "\n",
    "Aside: You can test the POST request with `curl -X POST http://127.0.0.1:8000 -d \"some data\"`. This sends some data to the server, you should see the response \"got a post or put request\" printed in the terminal.\n",
    "\n",
    "There are a few other ways you can specify the route+method - FastHTML has `.get`, `.post`, etc. as shorthand for `route(..., methods=['get'])`, etc."
   ]
  },
  {
   "cell_type": "code",
   "execution_count": null,
   "metadata": {},
   "outputs": [],
   "source": [
    "@app.get(\"/\")\n",
    "def my_function():\n",
    "    return \"Hello World from a get request\""
   ]
  },
  {
   "cell_type": "markdown",
   "metadata": {},
   "source": [
    " Or you can use the `@app.route` decorator without a method but specify the method with the name of the function. For example:"
   ]
  },
  {
   "cell_type": "code",
   "execution_count": null,
   "metadata": {},
   "outputs": [],
   "source": [
    "@app.route(\"/\")\n",
    "def post():\n",
    "    return \"Hello World from a post request\""
   ]
  },
  {
   "cell_type": "code",
   "execution_count": null,
   "metadata": {},
   "outputs": [
    {
     "data": {
      "text/plain": [
       "'Hello World from a post request'"
      ]
     },
     "execution_count": null,
     "metadata": {},
     "output_type": "execute_result"
    }
   ],
   "source": [
    "client.post(\"/\").text"
   ]
  },
  {
   "cell_type": "markdown",
   "metadata": {},
   "source": [
    "You're welcome to pick whichever style you prefer. Using routes let's you show different content on different pages - '/home', '/about' and so on. You can also respond differently to different kinds of requests to the same route, as we shown above. You can also pass data via the route:"
   ]
  },
  {
   "cell_type": "code",
   "execution_count": null,
   "metadata": {},
   "outputs": [
    {
     "data": {
      "text/plain": [
       "'Good day to you, dave!'"
      ]
     },
     "execution_count": null,
     "metadata": {},
     "output_type": "execute_result"
    }
   ],
   "source": [
    "@app.get(\"/greet/{nm}\")\n",
    "def greet(nm:str):\n",
    "    return f\"Good day to you, {nm}!\"\n",
    "\n",
    "client.get(\"/greet/dave\").text"
   ]
  },
  {
   "cell_type": "markdown",
   "metadata": {},
   "source": [
    "More on this in the 'More on Routing and Requests' section, which goes deeper into the different ways to get information from a request."
   ]
  },
  {
   "cell_type": "markdown",
   "metadata": {},
   "source": [
    "## Styling Basics\n",
    "\n",
    "Plain HTML probably isn't quite what you imagine when you visualize your beautiful web app. CSS is the go-to language for styling HTML. But again, we don't want to learn extra languages unless we absolutely have to! Fortunately, there are ways to get much more visually appealing sites by relying on the hard work of others, using existing CSS libraries. One of our favourites is [PicoCSS](https://picocss.com/). To add a CSS file to HTML, you can use the `<link>` tag. Since we typically want things like CSS styling on all pages of our app, FastHTML lets you add shared headers when you define your app. And it already has `picolink` defined for convenience. As per the [pico docs](https://picocss.com/docs), we put all of our content inside a `<main>` tag with a class of `container`: \n"
   ]
  },
  {
   "cell_type": "markdown",
   "metadata": {},
   "source": [
    "\n",
    "```python\n",
    "from fasthtml import FastHTML, picolink\n",
    "from fastcore.xml import *\n",
    "\n",
    "# App with custom styling to override the pico defaults\n",
    "css = Style(':root { --pico-font-size: 100%; --pico-font-family: Pacifico, cursive;}')\n",
    "app = FastHTML(hdrs=(picolink, css))\n",
    "\n",
    "@app.route(\"/\")\n",
    "def get():\n",
    "    return Title(\"Hello World\"), Main(H1('Hello, World'), cls=\"container\")\n",
    "```\n",
    "\n",
    "You can check out the pico [examples](https://picocss.com/examples) page to see how different elements will look. If everything is working, the page should now render nice text with our custom font, and it should respect the user's light/dark mode preferences too.\n",
    "\n",
    "If you want to [override the default styles](https://picocss.com/docs/css-variables) or add more custom CSS, you can do so by adding a `<style>` tag to the headers as shown above. So you are allowed to write CSS to your heart's content - we just want to make sure you don't necessarily have to! Later on we'll see examples using other component libraries and tailwind css to do more fancy styling things, along with tips to get an LLM to write all those fiddly bits so you don't have to."
   ]
  },
  {
   "cell_type": "markdown",
   "metadata": {},
   "source": [
    "TODO show picture of the before and after here"
   ]
  },
  {
   "cell_type": "markdown",
   "metadata": {},
   "source": [
    "Aside: We're returning a tuple here (a title and the main page). This is needed to tell FastHTML to turn the main body into a full HTML page that includes the headers (including the pico link and our custom css) which we passed in."
   ]
  },
  {
   "cell_type": "markdown",
   "metadata": {},
   "source": [
    "## Web Page -> Web App"
   ]
  },
  {
   "cell_type": "markdown",
   "metadata": {},
   "source": [
    "Showing content is all well and good, but we typically expect a bit more *interactivity* from something calling itself a web app! So, let's add a few different pages, and use a form to let users add messages to a list:"
   ]
  },
  {
   "cell_type": "code",
   "execution_count": null,
   "metadata": {},
   "outputs": [],
   "source": [
    "app = FastHTML()\n",
    "messages = [\"This is a message, which will get rendered as a paragraph\"]\n",
    "\n",
    "@app.get(\"/\")\n",
    "def home():\n",
    "    return Main(H1('Messages'), \n",
    "                *[P(msg) for msg in messages],\n",
    "                A(\"Link to Page 2 (to add messages)\", href=\"/page2\"))\n",
    "\n",
    "@app.get(\"/page2\")\n",
    "def page2():\n",
    "    return Main(P(\"Add a message with the form below:\"),\n",
    "                Form(Input(type=\"text\", name=\"data\"),\n",
    "                     Button(\"Submit\"),\n",
    "                     action=\"/\", method=\"post\"))\n",
    "\n",
    "@app.post(\"/\")\n",
    "def add_message(data:str):\n",
    "    messages.append(data)\n",
    "    return home()"
   ]
  },
  {
   "cell_type": "markdown",
   "metadata": {},
   "source": [
    "We re-render the entire homepage to show the newly added message. This is fine, but modern web apps often don't re-render the entire page, they just update a part of the page. In fact even very complicated applications are often implemented as 'Single Page Apps' (SPAs). This is where HTMX comes in."
   ]
  },
  {
   "cell_type": "markdown",
   "metadata": {},
   "source": [
    "## HTMX"
   ]
  },
  {
   "cell_type": "markdown",
   "metadata": {},
   "source": [
    "[HTMX](https://htmx.org/) addresses some key limitations of HTML. In vanilla HTML, links can trigger a GET request to show a new page, and forms can send requests containing data to the server. A lot of 'Web 1.0' design revolved around ways to use these to do everything we wanted. But why should only *some* elements be allowed to trigger requests? And why should we refresh the *entire page* with the result each time one does? HTMX extends HTML to allow us to trigger requests from *any* element on all kinds of events, and to update a part of the page without refreshing the entire page. It's a powerful tool for building modern web apps.\n",
    "\n",
    "It does this by adding attributes to HTML tags to make them do things. For example, here's a page with a counter and a button that increments it:"
   ]
  },
  {
   "cell_type": "code",
   "execution_count": null,
   "metadata": {},
   "outputs": [],
   "source": [
    "app = FastHTML()\n",
    "\n",
    "count = 0\n",
    "\n",
    "@app.get(\"/\")\n",
    "def home():\n",
    "    return Title(\"Count Demo\"), Main(\n",
    "        H1(\"Count Demo\"),\n",
    "        P(f\"Count is set to {count}\", id=\"count\"),\n",
    "        Button(\"Increment\", hx_post=\"/increment\", hx_target=\"#count\", hx_swap=\"innerHTML\")\n",
    "    )\n",
    "\n",
    "@app.post(\"/increment\")\n",
    "def increment():\n",
    "    print(\"incrementing\")\n",
    "    global count\n",
    "    count += 1\n",
    "    return f\"Count is set to {count}\""
   ]
  },
  {
   "cell_type": "markdown",
   "metadata": {},
   "source": [
    "The button triggers a POST request to `/increment` (since we set `hx_post=\"increment\"`), which increments the count and returns the new count. The `hx_target` attribute tells HTMX where to put the result. If no target is specified it replaces the element that triggered the request. The `hx_swap` attribute specifies how it adds the result to the page. Useful options are:\n",
    "- `innerHTML`: Replace the target element's content with the result.\n",
    "- `outerHTML`: Replace the target element with the result.\n",
    "- `beforebegin`: Insert the result before the target element.\n",
    "- `beforend`: Insert the result after the target element.\n",
    "- `afterbegin`: Insert the result inside the target element, before its first child.\n",
    "- `afterend`: Insert the result inside the target element, after its last child.\n",
    "\n",
    "You can also use an hx_swap of `delete` to delete the target element regardless of response, or of `none` to do nothing.\n",
    "\n",
    "By default, requests are triggered by the “natural” event of an element - click in the case of a button (and most other elements). You can also specify different triggers, along with various modifiers - see the [HTMX docs](https://htmx.org/docs/#triggers) for more.\n",
    "\n",
    "This pattern of having elements trigger requests that modify or replace other elements is a key part of the HTMX philosophy. It takes a little getting used to, but once mastered it is extremely powerful.\n",
    "\n",
    "### Replacing Elements Besides the Target\n",
    "\n",
    "Sometimes having a single target is not enough, and we'd like to specify some additional elements to update or remove. In these cases, returning elements with an id that matches the element to be replaces and `hx_swap_oob='true'` will replace those elements too. We'll use this in the next example to clear an input field when we submit a form."
   ]
  },
  {
   "cell_type": "markdown",
   "metadata": {},
   "source": [
    "## Full Example #1 - ToDo App\n",
    "\n",
    "TODO"
   ]
  },
  {
   "cell_type": "markdown",
   "metadata": {},
   "source": [
    "## Full Example #2 - Image App"
   ]
  },
  {
   "cell_type": "markdown",
   "metadata": {},
   "source": [
    "Let's create an image generation app. We'd like to wrap a text-to-image model in a nice UI, where the user can type in a prompt and see a generated image appear. We'll use a model hosted by [Replicate](https://replicate.com) to actually generate the images. Let's start with the homepage, with a form to submit prompts and a div to hold the generated images:\n",
    "\n",
    "```python\n",
    "# Main page\n",
    "@app.get(\"/\")\n",
    "async def get():\n",
    "    inp = Input(id=\"new-prompt\", name=\"prompt\", placeholder=\"Enter a prompt\")\n",
    "    add = Form(Group(inp, Button(\"Generate\")), hx_post=\"/\", target_id='gen-list', hx_swap=\"afterbegin\")\n",
    "    gen_list = Div(id='gen-list')\n",
    "    return Title('Image Generation Demo'), Main(H1('Magic Image Generation'), add, gen_list, cls='container')\n",
    "```\n",
    "\n",
    "Submitting the form will trigger a POST request to `/`, so next we need to generate an image and add it to the list. One problem: generating images is slow! We'll start the generation in a separate thread, but this now surfaces a different problem: we want to update the UI right away, but our image will only be ready a few seconds later. This is a common pattern - think about how often you see a loading spinner online. We need a way to return a temporary bit of UI which will eventually be replaced by the final image. Here's how we might do this:\n",
    "\n",
    "```python\n",
    "def generation_preview(id):\n",
    "    if os.path.exists(f\"gens/{id}.png\"):\n",
    "        return Div(Img(src=f\"/gens/{id}.png\"), id=f'gen-{id}')\n",
    "    else:\n",
    "        return Div(\"Generating...\", id=f'gen-{id}', \n",
    "                   hx_post=f\"/generations/{id}\",\n",
    "                   hx_trigger='every 1s', hx_swap='outerHTML')\n",
    "    \n",
    "@app.post(\"/generations/{id}\")\n",
    "async def get(id:int): return generation_preview(id)\n",
    "\n",
    "@app.post(\"/\")\n",
    "async def post(prompt:str):\n",
    "    id = len(generations)\n",
    "    generate_and_save(prompt, id)\n",
    "    generations.append(prompt)\n",
    "    clear_input =  Input(id=\"new-prompt\", name=\"prompt\", placeholder=\"Enter a prompt\", hx_swap_oob='true')\n",
    "    return generation_preview(id), clear_input\n",
    "\n",
    "@threaded\n",
    "def generate_and_save(prompt, id): ... \n",
    "```\n",
    "\n",
    "The form sends the prompt to the `/` route, which starts the generation in a separate thread then returns two things:\n",
    "- A generation preview element that will be added to the top of the `gen-list` div (since that is the target_id of the form which triggered the request)\n",
    "- An input field that will replace the form's input field (that has the same id), using the hx_swap_oob='true' trick. This clears the prompt field so the user can type another prompt.\n",
    "\n",
    "The generation preview first returns a temporary \"Generating...\" message, which polls the `/generations/{id}` route every second. This is done by setting hx_post to the route and hx_trigger to 'every 1s'. The `/generations/{id}` route returns the preview element every second until the image is ready, at which point it returns the final image. Since the final image replaces the temporary one (hx_swap='outerHTML'), the polling stops running and the generation preview is now complete.\n",
    "\n",
    "This works nicely - the user can submit several prompts without having to wait for the first one to generate, and as the images become available they are added to the list. You can see the full code of this example in TODO link draft1.\n",
    "\n",
    "### Again, with Style\n",
    "\n",
    "The app is functional, but can be improved. The full example TODO link adds more stylish generation previews, lays out the images in a grid layout that is responsive to different screen sizes, and adds a database to track generations and make them persistent. The database part is very similar to the todo list example, so let's just quickly look at how we add the nice grid layout.\n",
    "\n",
    "Step one was looking around for existing components. The Pico CSS library we've been using has a rudimentary grid but recommends using an alternative layout system. One of the options listed was [Flexbox](http://flexboxgrid.com/). \n",
    "\n",
    "To use Flexbox you create a \"row\" with one or more elements. You can specify how wide things should be with a specific syntax in the class name. For example, `col-xs-12` means a box that will take up 12 columns (out of 12 total) of the row on extra small screens, `col-sm-6` means a column that will take up 6 columns of the row on small screens, and so on. So if you want four columns on large screens you would use `col-lg-3` for each item (each using 3 columns out of 12). \n",
    "\n",
    "```html\n",
    "<div class=\"row\">\n",
    "    <div class=\"col-xs-12\">\n",
    "        <div class=\"box\">This takes up the full width</div>\n",
    "    </div>\n",
    "</div>\n",
    "```\n",
    "\n",
    "This was non-intuitive to me. Thankfully ChatGPT et al know CSS and popular libraries for it quite well, and we can also experiment in a notebook to test things out:"
   ]
  },
  {
   "cell_type": "code",
   "execution_count": null,
   "metadata": {},
   "outputs": [
    {
     "data": {
      "text/html": [
       "<!doctype html>\n",
       "\n",
       "<html>\n",
       "  <link rel=\"stylesheet\" href=\"https://cdnjs.cloudflare.com/ajax/libs/flexboxgrid/6.3.1/flexboxgrid.min.css\" type=\"text/css\">\n",
       "  <div class=\"row\" style=\"color: #fff;\">\n",
       "    <div class=\"col-xs-12\">\n",
       "      <div class=\"box\" style=\"background-color: #800000;\">\n",
       "This takes up the full width\n",
       "      </div>\n",
       "    </div>\n",
       "    <div class=\"col-xs-6\">\n",
       "      <div class=\"box\" style=\"background-color: #008000;\">\n",
       "This takes up half\n",
       "      </div>\n",
       "    </div>\n",
       "    <div class=\"col-xs-6\">\n",
       "      <div class=\"box\" style=\"background-color: #0000B0;\">\n",
       "This takes up half\n",
       "      </div>\n",
       "    </div>\n",
       "  </div>\n",
       "</html>\n"
      ],
      "text/plain": [
       "<IPython.core.display.HTML object>"
      ]
     },
     "execution_count": null,
     "metadata": {},
     "output_type": "execute_result"
    }
   ],
   "source": [
    "from IPython.display import HTML\n",
    "\n",
    "grid = Html(\n",
    "    Link(rel=\"stylesheet\", href=\"https://cdnjs.cloudflare.com/ajax/libs/flexboxgrid/6.3.1/flexboxgrid.min.css\", type=\"text/css\"),\n",
    "    Div(\n",
    "        Div(Div(\"This takes up the full width\", cls=\"box\", style=\"background-color: #800000;\"), cls=\"col-xs-12\"),\n",
    "        Div(Div(\"This takes up half\", cls=\"box\", style=\"background-color: #008000;\"), cls=\"col-xs-6\"),\n",
    "        Div(Div(\"This takes up half\", cls=\"box\", style=\"background-color: #0000B0;\"), cls=\"col-xs-6\"),\n",
    "        cls=\"row\", style=\"color: #fff;\"\n",
    "    )\n",
    ")\n",
    "HTML(to_xml(grid))\n"
   ]
  },
  {
   "cell_type": "markdown",
   "metadata": {},
   "source": [
    "Translating this into our app, we have a new homepage with a div (class=\"row\") to store the generated images / previews, and a `generation_preview` function that returns boxes with the appropriate classes and styles to make them appear in the grid. I chose a layout with different numbers of columns for different screen sizes, but you could also *just* specify the `col-xs` class if you wanted the same layout on all devices."
   ]
  },
  {
   "cell_type": "markdown",
   "metadata": {},
   "source": [
    "\n",
    "\n",
    "\n",
    "```python\n",
    "gridlink = Link(rel=\"stylesheet\", href=\"https://cdnjs.cloudflare.com/ajax/libs/flexboxgrid/6.3.1/flexboxgrid.min.css\", type=\"text/css\")\n",
    "app = FastHTML(hdrs=(picolink, gridlink))\n",
    "\n",
    "# Main page\n",
    "@app.get(\"/\")\n",
    "async def get():\n",
    "    inp = Input(id=\"new-prompt\", name=\"prompt\", placeholder=\"Enter a prompt\")\n",
    "    add = Form(Group(inp, Button(\"Generate\")), hx_post=\"/\", target_id='gen-list', hx_swap=\"afterbegin\")\n",
    "    gen_containers = [generation_preview(g) for g in gens(limit=10)] # Start with last 10\n",
    "    gen_list = Div(*gen_containers[::-1], id='gen-list', cls=\"row\") # flexbox container: class = row\n",
    "    return Title('Image Generation Demo'), Main(H1('Magic Image Generation'), add, gen_list, cls='container')\n",
    "\n",
    "# Show the image (if available) and prompt for a generation\n",
    "def generation_preview(g):\n",
    "    grid_cls = \"box col-xs-12 col-sm-6 col-md-4 col-lg-3\"\n",
    "    image_path = f\"{g.folder}/{g.id}.png\"\n",
    "    if os.path.exists(image_path):\n",
    "        return Div(Card(\n",
    "                       Img(src=image_path, alt=\"Card image\", cls=\"card-img-top\"),\n",
    "                       Div(P(B(\"Prompt: \"), g.prompt, cls=\"card-text\"),cls=\"card-body\"),\n",
    "                   ), id=f'gen-{g.id}', cls=grid_cls)\n",
    "    return Div(f\"Generating gen {g.id} with prompt {g.prompt}\", \n",
    "            id=f'gen-{g.id}', hx_get=f\"/gens/{g.id}\", \n",
    "            hx_trigger=\"every 2s\", hx_swap=\"outerHTML\", cls=grid_cls)\n",
    "```\n"
   ]
  },
  {
   "cell_type": "markdown",
   "metadata": {},
   "source": [
    "You can see the final result in TODO link image app simple. We've also deployed a version that only shows *your* generations (tied to browser session) and has a credit system to save our bank accounts. You can access that here TODO link, and see how we added the payment processing in the section TODO."
   ]
  },
  {
   "cell_type": "markdown",
   "metadata": {},
   "source": [
    "## More on Routing and Request Parameters\n",
    "\n",
    "There are a number of ways information can be passed to the server. When you specify arguments to a route, FastHTML will search the request for values with the same name, and convert them to the correct type. In order, it searchs\n",
    "\n",
    "- TODO list\n",
    "\n",
    "There are also a few special arguments\n",
    "\n",
    "- TODO explain request and substrings\n",
    "- TODO explain session and substrings\n",
    "- TODO explain auth\n",
    "\n",
    "Let's look at examples of all of the above in action."
   ]
  },
  {
   "cell_type": "code",
   "execution_count": null,
   "metadata": {},
   "outputs": [],
   "source": [
    "app = FastHTML()\n",
    "cli = TestClient(app)"
   ]
  },
  {
   "cell_type": "markdown",
   "metadata": {},
   "source": [
    "Part of the route:"
   ]
  },
  {
   "cell_type": "code",
   "execution_count": null,
   "metadata": {},
   "outputs": [
    {
     "data": {
      "text/plain": [
       "'Good day to you, jph!'"
      ]
     },
     "execution_count": null,
     "metadata": {},
     "output_type": "execute_result"
    }
   ],
   "source": [
    "@app.get('/user/{nm}')\n",
    "def _(nm:str): return f\"Good day to you, {nm}!\"\n",
    "\n",
    "cli.get('/user/jph').text"
   ]
  },
  {
   "cell_type": "markdown",
   "metadata": {},
   "source": [
    "Matching with a regex:"
   ]
  },
  {
   "cell_type": "code",
   "execution_count": null,
   "metadata": {},
   "outputs": [
    {
     "data": {
      "text/plain": [
       "'Getting jph.ico from /foo/'"
      ]
     },
     "execution_count": null,
     "metadata": {},
     "output_type": "execute_result"
    }
   ],
   "source": [
    "reg_re_param(\"imgext\", \"ico|gif|jpg|jpeg|webm\")\n",
    "\n",
    "@app.get(r'/static/{path:path}{fn}.{ext:imgext}')\n",
    "def get_img(fn:str, path:str, ext:str): return f\"Getting {fn}.{ext} from /{path}\"\n",
    "\n",
    "cli.get('/static/foo/jph.ico').text"
   ]
  },
  {
   "cell_type": "markdown",
   "metadata": {},
   "source": [
    "Using an enum (try using a string that isn't in the enum):"
   ]
  },
  {
   "cell_type": "code",
   "execution_count": null,
   "metadata": {},
   "outputs": [
    {
     "name": "stdout",
     "output_type": "stream",
     "text": [
      "alexnet\n"
     ]
    }
   ],
   "source": [
    "ModelName = str_enum('ModelName', \"alexnet\", \"resnet\", \"lenet\")\n",
    "\n",
    "@app.get(\"/models/{nm}\")\n",
    "def model(nm:ModelName): return nm\n",
    "\n",
    "print(cli.get('/models/alexnet').text)"
   ]
  },
  {
   "cell_type": "markdown",
   "metadata": {},
   "source": [
    "Casting to a Path:"
   ]
  },
  {
   "cell_type": "code",
   "execution_count": null,
   "metadata": {},
   "outputs": [
    {
     "name": "stdout",
     "output_type": "stream",
     "text": [
      "foo.txt\n"
     ]
    }
   ],
   "source": [
    "@app.get(\"/files/{path}\")\n",
    "async def txt(path: Path): return path.with_suffix('.txt')\n",
    "\n",
    "print(cli.get('/files/foo').text)"
   ]
  },
  {
   "cell_type": "markdown",
   "metadata": {},
   "source": [
    "An integer with a default value:"
   ]
  },
  {
   "cell_type": "code",
   "execution_count": null,
   "metadata": {},
   "outputs": [
    {
     "name": "stdout",
     "output_type": "stream",
     "text": [
      "{\"name\":\"Bar\"}\n"
     ]
    }
   ],
   "source": [
    "fake_db = [{\"name\": \"Foo\"}, {\"name\": \"Bar\"}]\n",
    "\n",
    "@app.get(\"/items/\")\n",
    "def read_item(idx:int|None = 0): return fake_db[idx]\n",
    "\n",
    "print(cli.get('/items/?idx=1').text)"
   ]
  },
  {
   "cell_type": "code",
   "execution_count": null,
   "metadata": {},
   "outputs": [
    {
     "name": "stdout",
     "output_type": "stream",
     "text": [
      "{\"name\":\"Foo\"}\n"
     ]
    }
   ],
   "source": [
    "print(cli.get('/items/').text)"
   ]
  },
  {
   "cell_type": "markdown",
   "metadata": {},
   "source": [
    "Boolean values (takes anything \"truthy\" or \"falsy\"):"
   ]
  },
  {
   "cell_type": "code",
   "execution_count": null,
   "metadata": {},
   "outputs": [
    {
     "name": "stdout",
     "output_type": "stream",
     "text": [
      "Coming\n"
     ]
    }
   ],
   "source": [
    "@app.get(\"/booly/\")\n",
    "def booly(coming:bool=True): return 'Coming' if coming else 'Not coming'\n",
    "\n",
    "print(cli.get('/booly/?coming=true').text)"
   ]
  },
  {
   "cell_type": "code",
   "execution_count": null,
   "metadata": {},
   "outputs": [
    {
     "name": "stdout",
     "output_type": "stream",
     "text": [
      "Not coming\n"
     ]
    }
   ],
   "source": [
    "print(cli.get('/booly/?coming=no').text)"
   ]
  },
  {
   "cell_type": "markdown",
   "metadata": {},
   "source": [
    "Getting dates:"
   ]
  },
  {
   "cell_type": "code",
   "execution_count": null,
   "metadata": {},
   "outputs": [
    {
     "name": "stdout",
     "output_type": "stream",
     "text": [
      "2024-05-17 14:00:00\n"
     ]
    }
   ],
   "source": [
    "@app.get(\"/datie/\")\n",
    "def datie(d:date): return d\n",
    "\n",
    "date_str = \"17th of May, 2024, 2p\"\n",
    "print(cli.get(f'/datie/?d={date_str}').text)"
   ]
  },
  {
   "cell_type": "markdown",
   "metadata": {},
   "source": [
    "Matching a dataclass:"
   ]
  },
  {
   "cell_type": "code",
   "execution_count": null,
   "metadata": {},
   "outputs": [
    {
     "data": {
      "text/plain": [
       "'{\"a\":1,\"b\":\"foo\",\"nm\":\"me\"}'"
      ]
     },
     "execution_count": null,
     "metadata": {},
     "output_type": "execute_result"
    }
   ],
   "source": [
    "@dataclass\n",
    "class Bodie:\n",
    "    a:int;b:str\n",
    "\n",
    "@app.route(\"/bodie/{nm}\")\n",
    "async def post(nm:str, data:Bodie):\n",
    "    res = asdict(data)\n",
    "    res['nm'] = nm\n",
    "    return res\n",
    "\n",
    "cli.post('/bodie/me', data=dict(a=1, b='foo')).text"
   ]
  },
  {
   "cell_type": "markdown",
   "metadata": {},
   "source": [
    "### Cookies \n",
    "\n",
    "Cookies can be set via a Starlette Response object, and can be read back by specifying the name:"
   ]
  },
  {
   "cell_type": "code",
   "execution_count": null,
   "metadata": {},
   "outputs": [
    {
     "data": {
      "text/plain": [
       "'Set to 2024-06-05 14:43:23.180155'"
      ]
     },
     "execution_count": null,
     "metadata": {},
     "output_type": "execute_result"
    }
   ],
   "source": [
    "@app.get(\"/setcookie\")\n",
    "async def setc(req):\n",
    "    now = datetime.now()\n",
    "    res = Response(f'Set to {now}')\n",
    "    res.set_cookie('now', str(now))\n",
    "    return res\n",
    "\n",
    "cli.get('/setcookie').text"
   ]
  },
  {
   "cell_type": "code",
   "execution_count": null,
   "metadata": {},
   "outputs": [
    {
     "data": {
      "text/plain": [
       "'Cookie was set at time 14:43:23.180155'"
      ]
     },
     "execution_count": null,
     "metadata": {},
     "output_type": "execute_result"
    }
   ],
   "source": [
    "@app.get(\"/getcookie\")\n",
    "async def getc(now:date): return f'Cookie was set at time {now.time()}'\n",
    "\n",
    "cli.get('/getcookie').text"
   ]
  },
  {
   "cell_type": "markdown",
   "metadata": {},
   "source": [
    "### User Agent and HX-Request\n",
    "\n",
    "An argument of `user_agent` will match the header `User-Agent`. This holds for special headers like `HX-Request` (used by HTMX to signal when a request comes from an HTMX request) - the general pattern is that \"-\" is replaced with \"_\" and strings are turned to lowercase."
   ]
  },
  {
   "cell_type": "code",
   "execution_count": null,
   "metadata": {},
   "outputs": [
    {
     "data": {
      "text/plain": [
       "'FastHTML'"
      ]
     },
     "execution_count": null,
     "metadata": {},
     "output_type": "execute_result"
    }
   ],
   "source": [
    "@app.get(\"/ua\")\n",
    "async def ua(user_agent:str): return user_agent\n",
    "\n",
    "cli.get('/ua', headers={'User-Agent':'FastHTML'}).text"
   ]
  },
  {
   "cell_type": "code",
   "execution_count": null,
   "metadata": {},
   "outputs": [
    {
     "data": {
      "text/plain": [
       "'1'"
      ]
     },
     "execution_count": null,
     "metadata": {},
     "output_type": "execute_result"
    }
   ],
   "source": [
    "@app.get(\"/hxtest\")\n",
    "def hxtest(htmx): return htmx.request\n",
    "\n",
    "cli.get('/hxtest', headers={'HX-Request':'1'}).text"
   ]
  },
  {
   "cell_type": "markdown",
   "metadata": {},
   "source": [
    "### Starlette Requests\n",
    "\n",
    "If you add an argument called `request`(or any substring, for example `req`) it will be populated with the Starlette `Request` object. This is useful if you want to do your own processing manually. For example, although FastHTML will parse forms for you, you could instead get form data like so:\n",
    "\n",
    "```python\n",
    "@app.get(\"/form\")\n",
    "async def form(request:Request):\n",
    "    form_data = await request.form()\n",
    "    a = form_data.get('a')\n",
    "```\n",
    "\n",
    "See the [Starlette docs](https://starlette.io/docs/) for more information on the `Request` object."
   ]
  },
  {
   "cell_type": "markdown",
   "metadata": {},
   "source": [
    "## Starlette Responses\n",
    "\n",
    "You can return a Starlette Response object from a route to control the response. For example:\n",
    "\n",
    "```python\n",
    "@app.get(\"/redirect\")\n",
    "async def redirect():\n",
    "    return RedirectResponse(url=\"/\")\n",
    "```\n",
    "\n",
    "We used this to set cookies in the previous example. See the [Starlette docs](https://starlette.io/docs/) for more information on the `Response` object.\n",
    "\n",
    "TODO we might want to talk about sessions here. And explain how apart from a few special cases you probably don't need to be manually using Requests or Responses."
   ]
  },
  {
   "cell_type": "markdown",
   "metadata": {},
   "source": [
    "## Full Example #3 - Chatbot Example with DaisyUI Components\n",
    "\n",
    "Pico CSS looks nice, but there are many other styling and UI frameworks out there. Popular choices include\n",
    "\n",
    "- Tailwind CSS\n",
    "- DaisyUI\n",
    "- Bootstrap\n",
    "- Shadcn\n",
    "- etc\n",
    "\n",
    "How might we adopt a component or framework? In this example, let's build a chatbot UI leveraging the [DaisyUI chat bubble](https://daisyui.com/components/chat/). \n",
    "\n",
    "At first glance, this looks quite intimidating. The examples look like this:\n",
    "\n",
    "```html\n",
    "<div class=\"chat chat-start\">\n",
    "  <div class=\"chat-image avatar\">\n",
    "    <div class=\"w-10 rounded-full\">\n",
    "      <img alt=\"Tailwind CSS chat bubble component\" src=\"https://img.daisyui.com/images/stock/photo-1534528741775-53994a69daeb.jpg\" />\n",
    "    </div>\n",
    "  </div>\n",
    "  <div class=\"chat-header\">\n",
    "    Obi-Wan Kenobi\n",
    "    <time class=\"text-xs opacity-50\">12:45</time>\n",
    "  </div>\n",
    "  <div class=\"chat-bubble\">You were the Chosen One!</div>\n",
    "  <div class=\"chat-footer opacity-50\">\n",
    "    Delivered\n",
    "  </div>\n",
    "</div>\n",
    "<div class=\"chat chat-end\">\n",
    "  <div class=\"chat-image avatar\">\n",
    "    <div class=\"w-10 rounded-full\">\n",
    "      <img alt=\"Tailwind CSS chat bubble component\" src=\"https://img.daisyui.com/images/stock/photo-1534528741775-53994a69daeb.jpg\" />\n",
    "    </div>\n",
    "  </div>\n",
    "  <div class=\"chat-header\">\n",
    "    Anakin\n",
    "    <time class=\"text-xs opacity-50\">12:46</time>\n",
    "  </div>\n",
    "  <div class=\"chat-bubble\">I hate you!</div>\n",
    "  <div class=\"chat-footer opacity-50\">\n",
    "    Seen at 12:46\n",
    "  </div>\n",
    "</div>\n",
    "```\n",
    "\n",
    "We have several things going for us however.\n",
    "\n",
    "- ChatGPT knows DaisyUI and Tailwind (DaisyUI is a Tailwind component library)\n",
    "- We can build things up piece by piece with AI standing by to help. \n",
    "\n",
    "When I first made this demo, I used the TODO link GPT helper with questions like \"Can you make the fasthtml version of ...pastes the html\" to get a starting point.\n",
    "\n",
    "With all that preamble out of the way, let's see if we can pull out the core of the example above to render a message:"
   ]
  },
  {
   "cell_type": "code",
   "execution_count": null,
   "metadata": {},
   "outputs": [
    {
     "data": {
      "text/html": [
       "<!doctype html>\n",
       "\n",
       "<html>\n",
       "  <script src=\"https://cdn.tailwindcss.com\"></script>\n",
       "  <link rel=\"stylesheet\" href=\"https://cdn.jsdelivr.net/npm/daisyui@4.11.1/dist/full.min.css\">\n",
       "  <div class=\"chat chat-start\">\n",
       "    <div class=\"chat-header\">\n",
       "Chat header here\n",
       "    </div>\n",
       "    <div class=\"chat-bubble chat-bubble-primary\">\n",
       "My message goes here\n",
       "    </div>\n",
       "  </div>\n",
       "</html>\n"
      ],
      "text/plain": [
       "<IPython.core.display.HTML object>"
      ]
     },
     "execution_count": null,
     "metadata": {},
     "output_type": "execute_result"
    }
   ],
   "source": [
    "# Loading tailwind and daisyui\n",
    "headers = (Script(src=\"https://cdn.tailwindcss.com\"),\n",
    "           Link(rel=\"stylesheet\", href=\"https://cdn.jsdelivr.net/npm/daisyui@4.11.1/dist/full.min.css\"))\n",
    "\n",
    "# Displaying a single message\n",
    "d = Div(\n",
    "    Div(\"Chat header here\", cls=\"chat-header\"),\n",
    "    Div(\"My message goes here\", cls=\"chat-bubble chat-bubble-primary\"),\n",
    "    cls=\"chat chat-start\"\n",
    ")\n",
    "HTML(to_xml(Html(*headers, d)))"
   ]
  },
  {
   "cell_type": "markdown",
   "metadata": {},
   "source": [
    "Now we can extend this to render multiple messages, with the message being on the left (`chat-start`) or right (`chat-end`) depending on the role. While we're at it, we can also change the color (`chat-bubble-primary`) of the message and put them all in a `chat-box` div:"
   ]
  },
  {
   "cell_type": "code",
   "execution_count": null,
   "metadata": {},
   "outputs": [
    {
     "data": {
      "text/html": [
       "<!doctype html>\n",
       "\n",
       "<html>\n",
       "  <script src=\"https://cdn.tailwindcss.com\"></script>\n",
       "  <link rel=\"stylesheet\" href=\"https://cdn.jsdelivr.net/npm/daisyui@4.11.1/dist/full.min.css\">\n",
       "  <div id=\"chatlist\" class=\"chat-box\">\n",
       "    <div class=\"chat chat-end\">\n",
       "      <div class=\"chat-header\">\n",
       "user\n",
       "      </div>\n",
       "      <div class=\"chat-bubble chat-bubble-primary\">\n",
       "Hello\n",
       "      </div>\n",
       "    </div>\n",
       "    <div class=\"chat chat-start\">\n",
       "      <div class=\"chat-header\">\n",
       "assistant\n",
       "      </div>\n",
       "      <div class=\"chat-bubble chat-bubble-secondary\">\n",
       "Hi, how can I assist you?\n",
       "      </div>\n",
       "    </div>\n",
       "  </div>\n",
       "</html>\n"
      ],
      "text/plain": [
       "<IPython.core.display.HTML object>"
      ]
     },
     "execution_count": null,
     "metadata": {},
     "output_type": "execute_result"
    }
   ],
   "source": [
    "messages = [\n",
    "    {\"role\":\"user\", \"content\":\"Hello\"},\n",
    "    {\"role\":\"assistant\", \"content\":\"Hi, how can I assist you?\"}\n",
    "]\n",
    "\n",
    "def chat_message(msg):\n",
    "    return Div(\n",
    "        Div(msg['role'], cls=\"chat-header\"),\n",
    "        Div(msg['content'], cls=f\"chat-bubble chat-bubble-{'primary' if msg['role'] == 'user' else 'secondary'}\"),\n",
    "        cls=f\"chat chat-{'end' if msg['role'] == 'user' else 'start'}\")\n",
    "\n",
    "chatbox = Div(*[chat_message(msg) for msg in messages], cls=\"chat-box\", id=\"chatlist\")\n",
    "\n",
    "HTML(to_xml(Html(*headers, chatbox)))"
   ]
  },
  {
   "cell_type": "markdown",
   "metadata": {},
   "source": [
    "Next, it was back to the helper GPT to tweak the chat box so it wouldn't grow as messages were added. I asked:\n",
    "\n",
    "```\n",
    "\"I have something like this (it's working now) \n",
    "[code]\n",
    "The messages are added to this div so it grows over time. \n",
    "Is there a way I can set it's height to always be 80% of the total window height with a scroll bar if needed?\"\n",
    "```\n",
    "\n",
    "Based on this query GPT4o helpfully shared that \"This can be achieved using Tailwind CSS utility classes. Specifically, you can use h-[80vh] to set the height to 80% of the viewport height, and overflow-y-auto to add a vertical scroll bar when needed.\"\n",
    "\n",
    "To put it another way: none of the CSS classes in the following example were written by a human, and what edits I did make were informed by advice from the AI that made it relatively painless!"
   ]
  },
  {
   "cell_type": "markdown",
   "metadata": {},
   "source": [
    "The actual chat functionality of the app is based on our *cosette* library, which is detailed TODO link docs."
   ]
  },
  {
   "cell_type": "markdown",
   "metadata": {},
   "source": [
    "## XT objects and HTML\n",
    "\n",
    "These XT objects create an XML tag structure [tag,children,attrs] for `toxml()`. When we call `Div(...)`, the elements we pass in are the children. Attributes are passed in as keywords. `class` and `for` are special words in python, so we use `cls`, `klass` or `_class` instead of `class` and `fr` or `_for` instead of `for`. Note these objects are just 3-element lists - you can create custom ones too as long as they're also 3-element lists. Alternately, leaf nodes can be strings instead (which is why you can do `Div('some text')`). If you pass something that isn't a 3-element list or a string, it will be converted to a string using str()... unless (our final trick) you define a `__xt__` method that will run before str(), so you can render things a custom way.\n",
    "\n",
    "For example, here's one way we could make a custom class that can be rendered into HTML:"
   ]
  },
  {
   "cell_type": "code",
   "execution_count": null,
   "metadata": {},
   "outputs": [
    {
     "name": "stdout",
     "output_type": "stream",
     "text": [
      "<div class=\"container\">\n",
      "  <div>\n",
      "Jonathan is 28 years old.\n",
      "  </div>\n",
      "more text\n",
      "</div>\n",
      "\n"
     ]
    }
   ],
   "source": [
    "class Person:\n",
    "    def __init__(self, name, age):\n",
    "        self.name = name\n",
    "        self.age = age\n",
    "\n",
    "    def __xt__(self):\n",
    "        return ['div', [f'{self.name} is {self.age} years old.'], {}]\n",
    "\n",
    "p = Person('Jonathan', 28)\n",
    "print(to_xml(Div(p, \"more text\", cls=\"container\")))"
   ]
  },
  {
   "cell_type": "markdown",
   "metadata": {},
   "source": [
    "In the examples (todo link) you'll see we often patch in `__xt__` methods to existing classes to control how they're rendered. For example, if Person didn't have a `__xt__` method or we wanted to override it, we could add a new one like this:"
   ]
  },
  {
   "cell_type": "code",
   "execution_count": null,
   "metadata": {},
   "outputs": [
    {
     "ename": "AttributeError",
     "evalue": "'function' object has no attribute 'HTML'",
     "output_type": "error",
     "traceback": [
      "\u001b[0;31m---------------------------------------------------------------------------\u001b[0m",
      "\u001b[0;31mAttributeError\u001b[0m                            Traceback (most recent call last)",
      "\u001b[0;32m/tmp/ipykernel_1190556/227596260.py\u001b[0m in \u001b[0;36m<module>\u001b[0;34m\u001b[0m\n\u001b[1;32m      5\u001b[0m     \u001b[0;32mreturn\u001b[0m \u001b[0mDiv\u001b[0m\u001b[0;34m(\u001b[0m\u001b[0;34m\"Person info:\"\u001b[0m\u001b[0;34m,\u001b[0m \u001b[0mUl\u001b[0m\u001b[0;34m(\u001b[0m\u001b[0mLi\u001b[0m\u001b[0;34m(\u001b[0m\u001b[0;34m\"Name:\"\u001b[0m\u001b[0;34m,\u001b[0m\u001b[0mself\u001b[0m\u001b[0;34m.\u001b[0m\u001b[0mname\u001b[0m\u001b[0;34m)\u001b[0m\u001b[0;34m,\u001b[0m \u001b[0mLi\u001b[0m\u001b[0;34m(\u001b[0m\u001b[0;34m\"Age:\"\u001b[0m\u001b[0;34m,\u001b[0m \u001b[0mself\u001b[0m\u001b[0;34m.\u001b[0m\u001b[0mage\u001b[0m\u001b[0;34m)\u001b[0m\u001b[0;34m)\u001b[0m\u001b[0;34m)\u001b[0m\u001b[0;34m\u001b[0m\u001b[0;34m\u001b[0m\u001b[0m\n\u001b[1;32m      6\u001b[0m \u001b[0;34m\u001b[0m\u001b[0m\n\u001b[0;32m----> 7\u001b[0;31m \u001b[0mdisplay\u001b[0m\u001b[0;34m.\u001b[0m\u001b[0mHTML\u001b[0m\u001b[0;34m(\u001b[0m\u001b[0mto_xml\u001b[0m\u001b[0;34m(\u001b[0m\u001b[0mp\u001b[0m\u001b[0;34m)\u001b[0m\u001b[0;34m)\u001b[0m\u001b[0;34m\u001b[0m\u001b[0;34m\u001b[0m\u001b[0m\n\u001b[0m",
      "\u001b[0;31mAttributeError\u001b[0m: 'function' object has no attribute 'HTML'"
     ]
    }
   ],
   "source": [
    "from fastcore.all import patch\n",
    "\n",
    "@patch\n",
    "def __xt__(self:Person):\n",
    "    return Div(\"Person info:\", Ul(Li(\"Name:\",self.name), Li(\"Age:\", self.age)))\n",
    "\n",
    "display.HTML(to_xml(p))"
   ]
  },
  {
   "cell_type": "markdown",
   "metadata": {},
   "source": [
    "Some tags from fastcore.xml are overwritten by fasthtml.core and a few are furter extended by fasthtml.xtend using this method. Over time, we hope to see others developing custom components too, giving us a larger and larger ecosystem of reusable components."
   ]
  },
  {
   "cell_type": "markdown",
   "metadata": {},
   "source": [
    "\n",
    "## Deploying Your App\n"
   ]
  },
  {
   "cell_type": "markdown",
   "metadata": {},
   "source": [
    "### Replit\n",
    "\n",
    "Fork https://replit.com/@johnowhitaker/FastHTML-Example for a minimal example you can edit to your heart's content. `.replit` has been edited to add the right run command (`run = [\"uvicorn\", \"main:app\", \"--reload\"]`) and to set up the ports correctly. FastHTML was installed with `poetry add python-fasthtml`, you can add additional packages as needed in the same way. Running the app in Replit will show you a webview, but you may need to open in a new tab for all features (such as cookies) to work. When you're ready, you can deploy your app by clicking the 'Deploy' button. You pay for usage - for an app that is mostly idle the cost is usually a few cents per month.\n",
    "\n",
    "You can store secrets like API keys via the 'Secrets' tab in the Replit project settings.\n",
    "\n",
    "### Railway\n",
    "\n",
    "[Install the Railway CLI](https://docs.railway.app/guides/cli) and sign up for an account. Set up a folder with your app as `main.py`, `requirements.txt` and `railway.toml` (copy one of the examples TODO link). In the folder, run `railway login`, then `railway link` (to link the folder to an existing Railway project) or `railway init` to create a new one, then `railway up` to deploy. You'll see the logs as the service is built and run. \n",
    "\n",
    "Run `railway domain` (or click \"Add a domain\" in the Railway project UI) to get a URL to your app. \n",
    "\n",
    "Run `railway volume add -m '/app/data` to mount a folder on the cloud to your app's root folder. This is needed if we want our data to persist across restarts. The app is run in `/app` by default, so from our app anything we store in `/data` will persist across restarts.\n",
    "\n",
    "You can add secrets like API keys that can be accessed as environment variables from your apps via ['Variables'](https://docs.railway.app/guides/variables). For example, for the image app (TODO link), you can add a REPLICATE_API_KEY variable, and then in main.py you can access it as `os.environ['REPLICATE_API_KEY']`.\n",
    "\n",
    "### HuggingFace\n",
    "\n",
    "### Render\n",
    "\n",
    "### PythonAnywhere\n",
    "\n",
    "### Modal\n"
   ]
  },
  {
   "cell_type": "markdown",
   "metadata": {},
   "source": [
    "## TODO\n"
   ]
  },
  {
   "cell_type": "markdown",
   "metadata": {},
   "source": [
    "\n",
    "- Static Files\n",
    "- Databases with fastlite\n",
    "- Sessions and cookies\n",
    "- Payments with Stripe (image demo example)\n",
    "- DaisyUI components (chatbot example)\n",
    "- Custom styling (sketchy example) and more on CSS in general?\n",
    "- Password-protecting a site (simple auth example)\n",
    "- OAuth\n",
    "- WebSockets (chatbot redux)\n",
    "- Starlette Requests and Responses (RedirectResponse, etc)"
   ]
  }
 ],
 "metadata": {
  "kernelspec": {
   "display_name": "python3",
   "language": "python",
   "name": "python3"
  }
 },
 "nbformat": 4,
 "nbformat_minor": 2
}
