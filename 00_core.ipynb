{
 "cells": [
  {
   "cell_type": "code",
   "execution_count": null,
   "id": "8656ed20",
   "metadata": {},
   "outputs": [],
   "source": [
    "#| default_exp core"
   ]
  },
  {
   "cell_type": "markdown",
   "id": "2161d9b5",
   "metadata": {},
   "source": [
    "# FastHTML"
   ]
  },
  {
   "cell_type": "code",
   "execution_count": null,
   "id": "0c0c2292",
   "metadata": {},
   "outputs": [],
   "source": [
    "#| export\n",
    "import json, dateutil\n",
    "\n",
    "from fastcore.utils import *\n",
    "from fastcore.xml import *\n",
    "\n",
    "from types import UnionType\n",
    "from typing import Optional, get_type_hints, get_args, get_origin, Union, Mapping\n",
    "from datetime import datetime\n",
    "from dataclasses import dataclass,fields,is_dataclass,MISSING,asdict\n",
    "from inspect import isfunction,ismethod,signature,Parameter\n",
    "from functools import wraps, partialmethod\n",
    "\n",
    "from starlette.applications import Starlette\n",
    "from starlette.routing import Route, Mount\n",
    "from starlette.responses import Response, HTMLResponse, FileResponse, JSONResponse\n",
    "from starlette.requests import Request\n",
    "from starlette.staticfiles import StaticFiles\n",
    "from starlette.exceptions import HTTPException\n",
    "from starlette._utils import is_async_callable"
   ]
  },
  {
   "cell_type": "code",
   "execution_count": null,
   "id": "5f824904",
   "metadata": {},
   "outputs": [],
   "source": [
    "from IPython import display\n",
    "from enum import Enum\n",
    "from pprint import pprint\n",
    "\n",
    "from starlette.testclient import TestClient"
   ]
  },
  {
   "cell_type": "code",
   "execution_count": null,
   "id": "387680de",
   "metadata": {},
   "outputs": [],
   "source": [
    "# if 'HX-Request' not in request.headers:\n",
    "#     resp = wrap_root(resp, self.headtags)"
   ]
  },
  {
   "cell_type": "code",
   "execution_count": null,
   "id": "f0aea6a8",
   "metadata": {},
   "outputs": [],
   "source": [
    "#| export\n",
    "empty = Parameter.empty"
   ]
  },
  {
   "cell_type": "code",
   "execution_count": null,
   "id": "3e4eab18",
   "metadata": {},
   "outputs": [],
   "source": [
    "#| export\n",
    "def _wrap_resp(resp, cls):\n",
    "    if isinstance(resp, Response): return resp\n",
    "    if cls is not empty: return cls(resp)\n",
    "    if isinstance(resp, list): return HTMLResponse(to_xml(resp))\n",
    "    if isinstance(resp, str): cls = HTMLResponse \n",
    "    elif isinstance(resp, Mapping): cls = JSONResponse \n",
    "    else:\n",
    "        resp = str(resp)\n",
    "        cls = HTMLResponse\n",
    "    return cls(resp)"
   ]
  },
  {
   "cell_type": "code",
   "execution_count": null,
   "id": "406b0dd1",
   "metadata": {},
   "outputs": [],
   "source": [
    "#| export\n",
    "def _fix_anno(t):\n",
    "    origin = get_origin(t)\n",
    "    if origin is Union or origin is UnionType:\n",
    "        t = first(o for o in get_args(t) if o!=type(None))\n",
    "    if t==bool: return str2bool\n",
    "    return t"
   ]
  },
  {
   "cell_type": "code",
   "execution_count": null,
   "id": "6f518ca5",
   "metadata": {},
   "outputs": [],
   "source": [
    "#| export\n",
    "def date(s): return dateutil.parser.parse(s)"
   ]
  },
  {
   "cell_type": "code",
   "execution_count": null,
   "id": "999aba2b",
   "metadata": {},
   "outputs": [],
   "source": [
    "#| export\n",
    "def _form_arg(fld, body):\n",
    "    res = body.get(fld.name, None)\n",
    "    if not res: res = fld.default\n",
    "    assert res is not MISSING\n",
    "    anno = _fix_anno(fld.type)\n",
    "    if res is not None: res = anno(res)\n",
    "    return res"
   ]
  },
  {
   "cell_type": "code",
   "execution_count": null,
   "id": "7826389e",
   "metadata": {},
   "outputs": [],
   "source": [
    "#| export\n",
    "async def _from_body(req, arg, p):\n",
    "    body = await req.form()\n",
    "    cargs = {o.name:_form_arg(o, body) for o in fields(p.annotation)}\n",
    "    return p.annotation(**cargs)"
   ]
  },
  {
   "cell_type": "code",
   "execution_count": null,
   "id": "b2d44106",
   "metadata": {},
   "outputs": [],
   "source": [
    "#| export\n",
    "def snake2hyphens(s):\n",
    "    s = snake2camel(s)\n",
    "    return camel2words(s, '-')"
   ]
  },
  {
   "cell_type": "code",
   "execution_count": null,
   "id": "ecaf2762",
   "metadata": {},
   "outputs": [],
   "source": [
    "#| export\n",
    "async def _find_p(req, arg:str, p):\n",
    "    if is_dataclass(p.annotation): return await _from_body(req, arg, p)\n",
    "    res = req.path_params.get(arg, None)\n",
    "    if not res: res = req.query_params.get(arg, None)\n",
    "    if not res: res = req.cookies.get(arg, None)\n",
    "    if not res: res = req.headers.get(snake2hyphens(arg), None)\n",
    "    if not res: res = p.default\n",
    "    if res is empty: return None\n",
    "    anno = _fix_anno(p.annotation)\n",
    "    if res is not None and anno is not empty: res = anno(res)\n",
    "    return res"
   ]
  },
  {
   "cell_type": "code",
   "execution_count": null,
   "id": "bd602fc8",
   "metadata": {},
   "outputs": [],
   "source": [
    "#| export\n",
    "async def _wrap_req(req, params):\n",
    "    items = [(k,v) for k,v in params.items()\n",
    "             if v.annotation is not empty or v.default is not empty]\n",
    "    if len(params)==1 and not items: return [req]\n",
    "    return [await _find_p(req, arg, p) for arg,p in items]"
   ]
  },
  {
   "cell_type": "code",
   "execution_count": null,
   "id": "9c0b553d",
   "metadata": {},
   "outputs": [],
   "source": [
    "#| export\n",
    "def _wrap_ep(f):\n",
    "    if not (isfunction(f) or ismethod(f)): return f\n",
    "    sig = signature(f)\n",
    "    params = sig.parameters\n",
    "    cls = sig.return_annotation\n",
    "\n",
    "    async def _f(req):\n",
    "        req = await _wrap_req(req, params)\n",
    "        resp = f(*req)\n",
    "        if is_async_callable(f): resp = await resp\n",
    "        return _wrap_resp(resp, cls)\n",
    "    return _f"
   ]
  },
  {
   "cell_type": "code",
   "execution_count": null,
   "id": "69d1b7d2",
   "metadata": {},
   "outputs": [],
   "source": [
    "#| export\n",
    "class RouteX(Route):\n",
    "    def __init__(self, path, endpoint, *args, **kw):\n",
    "        ep = _wrap_ep(endpoint)\n",
    "        super().__init__(path, ep, *args, **kw)"
   ]
  },
  {
   "cell_type": "code",
   "execution_count": null,
   "id": "5658e557",
   "metadata": {},
   "outputs": [],
   "source": [
    "#| export\n",
    "class FastHTML:\n",
    "    def __init__(self): self.rd = {}\n",
    "\n",
    "    async def __call__(self, scope, recv, send):\n",
    "        routes = list(self.rd.values())\n",
    "        app = Starlette(debug=True, routes=routes)\n",
    "        return await app(scope, recv, send)\n",
    "\n",
    "    def add_route(self, route):\n",
    "        meth = first(route.methods)\n",
    "        self.rd[(route.path,meth)] = route\n",
    "        \n",
    "    def route(self, path, meth='GET'):\n",
    "        def _inner(f):\n",
    "            self.add_route(RouteX(path, f, methods=[meth]))\n",
    "            return f\n",
    "        return _inner\n",
    "\n",
    "for o in 'get post put delete patch head trace options'.split():\n",
    "    setattr(FastHTML, o, partialmethod(FastHTML.route, meth=o.capitalize()))"
   ]
  },
  {
   "cell_type": "markdown",
   "id": "9fa62cd6",
   "metadata": {},
   "source": [
    "## Demo"
   ]
  },
  {
   "cell_type": "code",
   "execution_count": null,
   "id": "88f1e07f",
   "metadata": {},
   "outputs": [],
   "source": [
    "def todict(req): return {k:str(v) for k,v in req.items()}"
   ]
  },
  {
   "cell_type": "code",
   "execution_count": null,
   "id": "01835902",
   "metadata": {},
   "outputs": [],
   "source": [
    "app = FastHTML()\n",
    "\n",
    "@app.get(\"/\")\n",
    "def root(req): return todict(req.scope)\n",
    "\n",
    "@app.get('/user/{nm}')\n",
    "def get_nm(nm:str): return f\"Good day to you, {nm}!\""
   ]
  },
  {
   "cell_type": "code",
   "execution_count": null,
   "id": "346c0862",
   "metadata": {},
   "outputs": [
    {
     "name": "stdout",
     "output_type": "stream",
     "text": [
      "{\"type\":\"http\",\"http_version\":\"1.1\",\"method\":\"GET\",\"path\":\"/\",\"raw_path\":\"b'/'\",\"root_path\":\"\",\"scheme\":\"http\",\"query_string\":\"b''\",\"headers\":\"[(b'host', b'testserver'), (b'accept', b'*/*'), (b'accept-encoding', b'gzip, deflate, br'), (b'connection', b'keep-alive'), (b'user-agent', b'testclient')]\",\"client\":\"['testclient', 50000]\",\"server\":\"['testserver', 80]\",\"extensions\":\"{'http.response.debug': {}}\",\"state\":\"{}\",\"app\":\"<starlette.applications.Starlette object>\",\"starlette.exception_handlers\":\"({<class 'starlette.exceptions.HTTPException'>: <bound method ExceptionMiddleware.http_exception of <starlette.middleware.exceptions.ExceptionMiddleware object>>, <class 'starlette.exceptions.WebSocketException'>: <bound method ExceptionMiddleware.websocket_exception of <starlette.middleware.exceptions.ExceptionMiddleware object>>}, {})\",\"router\":\"<starlette.routing.Router object>\",\"endpoint\":\"<function _wrap_ep.<locals>._f>\",\"path_params\":\"{}\"}\n"
     ]
    }
   ],
   "source": [
    "client = TestClient(app)\n",
    "r = client.get('/')\n",
    "print(r.text)"
   ]
  },
  {
   "cell_type": "code",
   "execution_count": null,
   "id": "4272aaf3",
   "metadata": {},
   "outputs": [
    {
     "data": {
      "text/plain": [
       "'Good day to you, jph!'"
      ]
     },
     "execution_count": null,
     "metadata": {},
     "output_type": "execute_result"
    }
   ],
   "source": [
    "client.get('/user/jph').text"
   ]
  },
  {
   "cell_type": "code",
   "execution_count": null,
   "id": "c1b6b510",
   "metadata": {},
   "outputs": [],
   "source": [
    "@app.get('/html/{idx}')\n",
    "async def get_html(idx:int):\n",
    "    return Body(\n",
    "        H4(\"Wow look here\"),\n",
    "        P(f'It looks like you are visitor {idx}! Next is {idx+1}.')\n",
    "    )"
   ]
  },
  {
   "cell_type": "code",
   "execution_count": null,
   "id": "918eb315",
   "metadata": {},
   "outputs": [
    {
     "data": {
      "text/html": [
       "<body>\n",
       "  <h4>\n",
       "Wow look here\n",
       "  </h4>\n",
       "  <p>\n",
       "It looks like you are visitor 1! Next is 2.\n",
       "  </p>\n",
       "</body>\n"
      ],
      "text/plain": [
       "<IPython.core.display.HTML object>"
      ]
     },
     "execution_count": null,
     "metadata": {},
     "output_type": "execute_result"
    }
   ],
   "source": [
    "display.HTML(client.get('/html/1').text)"
   ]
  },
  {
   "cell_type": "code",
   "execution_count": null,
   "id": "45e0f685",
   "metadata": {},
   "outputs": [],
   "source": [
    "ModelName = str_enum('ModelName', \"alexnet\", \"resnet\", \"lenet\")\n",
    "\n",
    "app = FastHTML()\n",
    "@app.get(\"/models/{nm}\")\n",
    "def model(nm:ModelName): return nm\n",
    "\n",
    "@app.get(\"/files/{path}\")\n",
    "async def txt(path: Path): return path.with_suffix('.txt')"
   ]
  },
  {
   "cell_type": "code",
   "execution_count": null,
   "id": "daa1e785",
   "metadata": {},
   "outputs": [
    {
     "name": "stdout",
     "output_type": "stream",
     "text": [
      "alexnet\n"
     ]
    }
   ],
   "source": [
    "print(TestClient(app).get('/models/alexnet').text)"
   ]
  },
  {
   "cell_type": "code",
   "execution_count": null,
   "id": "c2e96573",
   "metadata": {},
   "outputs": [
    {
     "name": "stdout",
     "output_type": "stream",
     "text": [
      "foo.txt\n"
     ]
    }
   ],
   "source": [
    "print(TestClient(app).get('/files/foo').text)"
   ]
  },
  {
   "cell_type": "code",
   "execution_count": null,
   "id": "65393458",
   "metadata": {},
   "outputs": [],
   "source": [
    "fake_db = [{\"name\": \"Foo\"}, {\"name\": \"Bar\"}]\n",
    "\n",
    "@app.get(\"/items/\")\n",
    "def read_item(idx:int|None = 0): return fake_db[idx]"
   ]
  },
  {
   "cell_type": "code",
   "execution_count": null,
   "id": "e69fe1c5",
   "metadata": {},
   "outputs": [
    {
     "name": "stdout",
     "output_type": "stream",
     "text": [
      "{\"name\":\"Bar\"}\n"
     ]
    }
   ],
   "source": [
    "print(TestClient(app).get('/items/?idx=1').text)"
   ]
  },
  {
   "cell_type": "code",
   "execution_count": null,
   "id": "c752422b",
   "metadata": {},
   "outputs": [
    {
     "name": "stdout",
     "output_type": "stream",
     "text": [
      "{\"name\":\"Foo\"}\n"
     ]
    }
   ],
   "source": [
    "print(TestClient(app).get('/items/').text)"
   ]
  },
  {
   "cell_type": "code",
   "execution_count": null,
   "id": "f3ab143d",
   "metadata": {},
   "outputs": [],
   "source": [
    "@app.get(\"/booly/\")\n",
    "def booly(coming:bool=True): return 'Coming' if coming else 'Not coming'"
   ]
  },
  {
   "cell_type": "code",
   "execution_count": null,
   "id": "773d9329",
   "metadata": {},
   "outputs": [
    {
     "name": "stdout",
     "output_type": "stream",
     "text": [
      "Coming\n"
     ]
    }
   ],
   "source": [
    "cli = TestClient(app)\n",
    "print(cli.get('/booly/?coming=true').text)"
   ]
  },
  {
   "cell_type": "code",
   "execution_count": null,
   "id": "8ccc462f",
   "metadata": {},
   "outputs": [
    {
     "name": "stdout",
     "output_type": "stream",
     "text": [
      "Not coming\n"
     ]
    }
   ],
   "source": [
    "print(cli.get('/booly/?coming=no').text)"
   ]
  },
  {
   "cell_type": "code",
   "execution_count": null,
   "id": "e8816dba",
   "metadata": {},
   "outputs": [],
   "source": [
    "@app.get(\"/datie/\")\n",
    "def datie(d:date): return d"
   ]
  },
  {
   "cell_type": "code",
   "execution_count": null,
   "id": "ecced9ef",
   "metadata": {},
   "outputs": [
    {
     "name": "stdout",
     "output_type": "stream",
     "text": [
      "2024-05-17 14:00:00\n"
     ]
    }
   ],
   "source": [
    "cli = TestClient(app)\n",
    "date_str = \"17th of May, 2024, 2p\"\n",
    "print(cli.get(f'/datie/?d={date_str}').text)"
   ]
  },
  {
   "cell_type": "code",
   "execution_count": null,
   "id": "20267e6b",
   "metadata": {},
   "outputs": [],
   "source": [
    "@dataclass\n",
    "class Bodie:\n",
    "    a:int;b:str"
   ]
  },
  {
   "cell_type": "code",
   "execution_count": null,
   "id": "71995054",
   "metadata": {},
   "outputs": [],
   "source": [
    "@app.post(\"/bodie/{nm}/\")\n",
    "async def bodie(nm:str, data:Bodie):\n",
    "    res = asdict(data)\n",
    "    res['nm'] = nm\n",
    "    return res"
   ]
  },
  {
   "cell_type": "code",
   "execution_count": null,
   "id": "0606ea80",
   "metadata": {},
   "outputs": [
    {
     "data": {
      "text/plain": [
       "'{\"a\":1,\"b\":\"foo\",\"nm\":\"me\"}'"
      ]
     },
     "execution_count": null,
     "metadata": {},
     "output_type": "execute_result"
    }
   ],
   "source": [
    "cli.post('/bodie/me', data=dict(a=1, b='foo')).text"
   ]
  },
  {
   "cell_type": "code",
   "execution_count": null,
   "id": "faa53442",
   "metadata": {},
   "outputs": [],
   "source": [
    "@app.get(\"/setcookie\")\n",
    "async def setc(req):\n",
    "    now = datetime.now()\n",
    "    res = Response(f'Set to {now}')\n",
    "    res.set_cookie('now', str(now))\n",
    "    return res"
   ]
  },
  {
   "cell_type": "code",
   "execution_count": null,
   "id": "93920edb",
   "metadata": {},
   "outputs": [
    {
     "data": {
      "text/plain": [
       "'Set to 2024-05-17 15:23:30.099808'"
      ]
     },
     "execution_count": null,
     "metadata": {},
     "output_type": "execute_result"
    }
   ],
   "source": [
    "cli.get('/setcookie').text"
   ]
  },
  {
   "cell_type": "code",
   "execution_count": null,
   "id": "cad3a978",
   "metadata": {},
   "outputs": [],
   "source": [
    "@app.get(\"/getcookie\")\n",
    "async def getc(now:date): return f'Cookie was set at time {now.time()}'"
   ]
  },
  {
   "cell_type": "code",
   "execution_count": null,
   "id": "c029be0c",
   "metadata": {},
   "outputs": [
    {
     "data": {
      "text/plain": [
       "'Cookie was set at time 15:23:30.099808'"
      ]
     },
     "execution_count": null,
     "metadata": {},
     "output_type": "execute_result"
    }
   ],
   "source": [
    "cli.get('/getcookie').text"
   ]
  },
  {
   "cell_type": "code",
   "execution_count": null,
   "id": "0b7aff19",
   "metadata": {},
   "outputs": [],
   "source": [
    "@app.get(\"/ua\")\n",
    "async def ua(user_agent:str): return user_agent"
   ]
  },
  {
   "cell_type": "code",
   "execution_count": null,
   "id": "11361e72",
   "metadata": {},
   "outputs": [
    {
     "data": {
      "text/plain": [
       "'FastHTML'"
      ]
     },
     "execution_count": null,
     "metadata": {},
     "output_type": "execute_result"
    }
   ],
   "source": [
    "cli.get('/ua', headers={'User-Agent':'FastHTML'}).text"
   ]
  },
  {
   "cell_type": "markdown",
   "id": "834edd20",
   "metadata": {},
   "source": [
    "## fin -"
   ]
  },
  {
   "cell_type": "code",
   "execution_count": null,
   "id": "ff0f002c",
   "metadata": {},
   "outputs": [],
   "source": []
  }
 ],
 "metadata": {
  "kernelspec": {
   "display_name": "python3",
   "language": "python",
   "name": "python3"
  }
 },
 "nbformat": 4,
 "nbformat_minor": 5
}
